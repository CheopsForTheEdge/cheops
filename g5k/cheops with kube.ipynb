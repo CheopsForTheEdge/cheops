{
 "cells": [
  {
   "cell_type": "markdown",
   "id": "df4622ea-a419-44da-923d-708fefa9339b",
   "metadata": {},
   "source": [
    "# Intro"
   ]
  },
  {
   "cell_type": "code",
   "execution_count": 1,
   "id": "ab9a6f6a-8aca-4162-b044-4a5aea446d04",
   "metadata": {},
   "outputs": [],
   "source": [
    "import sys\n",
    "import os\n",
    "\n",
    "if any(['g5k-jupyterlab' in path for path in sys.path]):\n",
    "    print(\"Running on Grid'5000 notebooks, applying workaround for https://intranet.grid5000.fr/bugzilla/show_bug.cgi?id=13606\")\n",
    "    print(\"Before:\", sys.path)\n",
    "    sys.path.insert(1, os.environ['HOME'] + '/.local/lib/python3.9/site-packages')\n",
    "    print(\"After:\", sys.path)"
   ]
  },
  {
   "cell_type": "code",
   "execution_count": 2,
   "id": "69e0f411-7b1c-48dc-94ba-4a13110d6f1a",
   "metadata": {},
   "outputs": [
    {
     "name": "stderr",
     "output_type": "stream",
     "text": [
      "[WARNING]: failed to patch stdout/stderr for fork-safety: 'OutStream' object\n",
      "has no attribute 'buffer'\n",
      "[WARNING]: failed to reconfigure stdout/stderr with the replace error handler:\n",
      "'OutStream' object has no attribute 'reconfigure'\n"
     ]
    }
   ],
   "source": [
    "import enoslib as en\n",
    "from datetime import datetime, timedelta\n",
    "\n",
    "now = datetime.now()\n",
    "if now.hour >= 19:\n",
    "    max = datetime.today().replace(day=datetime.today().day +1 , hour=21, minute=0, second=0)\n",
    "elif now.hour < 9:\n",
    "    max = datetime.today().replace(hour=9, minute=0, second=0)\n",
    "else:\n",
    "    max = datetime.today().replace(hour=19, minute=0, second=0)\n",
    "\n",
    "now_plus_1_hour = now + timedelta(minutes=58)\n",
    "\n",
    "walltime = min((max - now), timedelta(minutes=58))\n",
    "walltime = f\"00:{walltime.seconds // 60}:00\"\n",
    "\n",
    "en.init_logging()\n",
    "\n",
    "network = en.G5kNetworkConf(type=\"prod\", roles=[\"my_network\"], site=\"grenoble\")\n",
    "cluster = \"dahu\"\n",
    "\n",
    "conf = (\n",
    "    en.G5kConf.from_settings(job_type=[], walltime=walltime, job_name=\"cheops\")\n",
    "    .add_network_conf(network)\n",
    "    .add_machine(\n",
    "        roles=[\"cheops\"],\n",
    "        cluster=cluster,\n",
    "        nodes=4,\n",
    "        primary_network=network,\n",
    "    )\n",
    "    .finalize()\n",
    ")"
   ]
  },
  {
   "cell_type": "code",
   "execution_count": 3,
   "id": "3732ee25-e805-44fd-a03a-d2925418914e",
   "metadata": {},
   "outputs": [
    {
     "data": {
      "text/html": [
       "\n",
       "        <style> .enoslib {\n",
       "  width: auto;\n",
       "}\n",
       "\n",
       ".enoslib_object {\n",
       "  width: auto;\n",
       "  font-size: 1em;\n",
       "  line-height: 1.5;\n",
       "  background-color: rgb(250, 249, 249);\n",
       "  font-family: \"Segoe UI\", \"sans-serif\";\n",
       "  color: black;\n",
       "}\n",
       "\n",
       ".enoslib_object ul {\n",
       "  padding: 0;\n",
       "}\n",
       "\n",
       ".enoslib_object input + label {\n",
       "  margin-bottom: 0;\n",
       "}\n",
       "\n",
       ".object_name {\n",
       "  padding: 6px 0 6px 3px;\n",
       "  border-bottom-width: 1px;\n",
       "  border-bottom-style: solid;\n",
       "  border-bottom-color: #777;\n",
       "  color: #555;\n",
       "}\n",
       "\n",
       ".object_name > div,\n",
       ".object_name > ul {\n",
       "  display: inline;\n",
       "  margin-top: 0;\n",
       "  margin-bottom: 0;\n",
       "}\n",
       "\n",
       "ul.enoslist {\n",
       "  list-style: none !important;\n",
       "  padding: 3px !important;\n",
       "  margin: 0 !important;\n",
       "}\n",
       "\n",
       "input.att + label {\n",
       "  display: inline-block;\n",
       "  /*width: 140px;*/\n",
       "  color: rgb(36, 35, 35);\n",
       "  font-weight: 500;\n",
       "  padding: 4px 0 2px 0;\n",
       "}\n",
       "\n",
       "input.att:enabled + label {\n",
       "  cursor: pointer;\n",
       "  width: auto;\n",
       "}\n",
       "\n",
       "input.att {\n",
       "  display: none;\n",
       "}\n",
       "\n",
       "input.att + label:before {\n",
       "  display: inline-block;\n",
       "  content: \"►\";\n",
       "  font-size: 11px;\n",
       "  width: 15px;\n",
       "  text-align: center;\n",
       "}\n",
       "\n",
       "input.att:checked + label:before {\n",
       "  content: \"▼\";\n",
       "}\n",
       "\n",
       "input.att:disabled + label:before {\n",
       "  content: none;\n",
       "}\n",
       "\n",
       "input.att + label > span {\n",
       "  display: inline-block;\n",
       "  margin-left: 4px;\n",
       "}\n",
       "\n",
       "input.att + label > span.len {\n",
       "  font-size: small;\n",
       "}\n",
       "\n",
       "input.att:checked + label > span.len {\n",
       "  display: none;\n",
       "}\n",
       "\n",
       "label + span {\n",
       "  color: rgb(70, 69, 69);\n",
       "}\n",
       "\n",
       "input.att ~ ul {\n",
       "  display: none;\n",
       "}\n",
       "\n",
       "input.att:checked ~ ul {\n",
       "  display: block;\n",
       "}\n",
       "\n",
       "table {\n",
       "  width: auto;\n",
       "  border-collapse: collapse;\n",
       "  margin: 2%;\n",
       "}\n",
       "\n",
       "td,\n",
       "th {\n",
       "  padding: 8px;\n",
       "  height: 15px;\n",
       "  font-size: small;\n",
       "}\n",
       "\n",
       "td {\n",
       "  text-align: left !important;\n",
       "  color: rgb(160, 160, 160);\n",
       "}\n",
       "\n",
       "th {\n",
       "  text-align: center;\n",
       "  color: black;\n",
       "}\n",
       "\n",
       "input ~ ul {\n",
       "  position: relative;\n",
       "  left: 25px;\n",
       "}\n",
       "\n",
       "input.att ~ table {\n",
       "  display: none;\n",
       "}\n",
       "\n",
       "input.att:checked ~ table {\n",
       "  display: block;\n",
       "}\n",
       " </style>\n",
       "        <div class=\"enoslib\">\n",
       "        <div class=\"enoslib_object\">\n",
       "                <div class=\"object_name\">\n",
       "                    &lt;class &#x27;enoslib.infra.enos_g5k.configuration.Configuration&#x27;&gt;@0x7f2f1446b310\n",
       "                </div>\n",
       "                <ul class=\"enoslist\">\n",
       "                    \n",
       "        <li>\n",
       "        <input type=\"checkbox\" id=\"dhcp-5e9d3ef2-bd1b-4590-8a0f-00ac17c1bad0\" class=\"att\" disabled=\"\">\n",
       "        <label for=\"dhcp-5e9d3ef2-bd1b-4590-8a0f-00ac17c1bad0\">\n",
       "            <span>dhcp:&nbsp;</span>\n",
       "        </label>\n",
       "        <span>True</span>\n",
       "        </li>\n",
       "        <li>\n",
       "        <input type=\"checkbox\" id=\"force_deploy-82a12e11-04c2-4e74-ab6d-823099b0b308\" class=\"att\" disabled=\"\">\n",
       "        <label for=\"force_deploy-82a12e11-04c2-4e74-ab6d-823099b0b308\">\n",
       "            <span>force_deploy:&nbsp;</span>\n",
       "        </label>\n",
       "        <span>False</span>\n",
       "        </li>\n",
       "        <li>\n",
       "        <input type=\"checkbox\" id=\"job_name-9e2e98bc-eacb-4cf8-bd87-536b38e18e82\" class=\"att\" disabled=\"\">\n",
       "        <label for=\"job_name-9e2e98bc-eacb-4cf8-bd87-536b38e18e82\">\n",
       "            <span>job_name:&nbsp;</span>\n",
       "        </label>\n",
       "        <span>cheops</span>\n",
       "        </li>\n",
       "                <li>\n",
       "                    <input type=\"checkbox\" id=\"job_type-6c379406-2ce7-472a-8183-b271d8c10f78\" class=\"att\">\n",
       "                    <label for=\"job_type-6c379406-2ce7-472a-8183-b271d8c10f78\">job_type <span class=\"len\">(0)</span></label>\n",
       "                    <ul id=\"job_type\" class=\"enoslist\">\n",
       "                        \n",
       "                    </ul>\n",
       "                </li>\n",
       "                \n",
       "        <li>\n",
       "        <input type=\"checkbox\" id=\"key-23ae954f-9770-45ac-8e1c-750383fc667f\" class=\"att\" disabled=\"\">\n",
       "        <label for=\"key-23ae954f-9770-45ac-8e1c-750383fc667f\">\n",
       "            <span>key:&nbsp;</span>\n",
       "        </label>\n",
       "        <span>/home/mrakotojaonarainimangavelo/.ssh/id_rsa.pub</span>\n",
       "        </li>\n",
       "        <li>\n",
       "        <input type=\"checkbox\" id=\"queue-77a4b4fa-8a3d-4af9-8fdf-c2f6fc52a572\" class=\"att\" disabled=\"\">\n",
       "        <label for=\"queue-77a4b4fa-8a3d-4af9-8fdf-c2f6fc52a572\">\n",
       "            <span>queue:&nbsp;</span>\n",
       "        </label>\n",
       "        <span>default</span>\n",
       "        </li>\n",
       "        <li>\n",
       "        <input type=\"checkbox\" id=\"walltime-30f59226-5ab5-4dac-8a2e-4e3dacecd67b\" class=\"att\" disabled=\"\">\n",
       "        <label for=\"walltime-30f59226-5ab5-4dac-8a2e-4e3dacecd67b\">\n",
       "            <span>walltime:&nbsp;</span>\n",
       "        </label>\n",
       "        <span>00:58:00</span>\n",
       "        </li>\n",
       "                <li>\n",
       "                    <input type=\"checkbox\" id=\"resources-a1dc4f49-daf0-4158-8799-994e68bd14d0\" class=\"att\">\n",
       "                    <label for=\"resources-a1dc4f49-daf0-4158-8799-994e68bd14d0\">resources <span class=\"len\">(2)</span></label>\n",
       "                    <ul id=\"resources\" class=\"enoslist\">\n",
       "                        \n",
       "                <li>\n",
       "                    <input type=\"checkbox\" id=\"machines-a82e4cda-0756-436a-93a7-277a5dac2eea\" class=\"att\">\n",
       "                    <label for=\"machines-a82e4cda-0756-436a-93a7-277a5dac2eea\">machines <span class=\"len\">(1)</span></label>\n",
       "                    <ul id=\"machines\" class=\"enoslist\">\n",
       "                        \n",
       "        <table>\n",
       "        <thead>\n",
       "            <tr>\n",
       "                <th>roles</th><th>primary_network</th><th>secondary_networks</th><th>cluster</th><th>nodes</th>\n",
       "            </tr>\n",
       "        </thead>\n",
       "        <tbody>\n",
       "        \n",
       "            <tr>\n",
       "                <td>\n",
       "                \n",
       "    <ul class=\"list\">\n",
       "        <li>\n",
       "        cheops\n",
       "        </li>\n",
       "    </ul>\n",
       "    </td><td>039bc371-db3d-4ab9-a74f-43a8710cf34b</td><td></td><td>dahu</td><td>4 # noqa\n",
       "                </td>\n",
       "            </tr>\n",
       "            </tbody></table>\n",
       "                    </ul>\n",
       "                </li>\n",
       "                \n",
       "                <li>\n",
       "                    <input type=\"checkbox\" id=\"networks-55c455d9-684d-41f2-a97f-863fc05358e0\" class=\"att\">\n",
       "                    <label for=\"networks-55c455d9-684d-41f2-a97f-863fc05358e0\">networks <span class=\"len\">(1)</span></label>\n",
       "                    <ul id=\"networks\" class=\"enoslist\">\n",
       "                        \n",
       "        <table>\n",
       "        <thead>\n",
       "            <tr>\n",
       "                <th>id</th><th>type</th><th>roles</th><th>site</th>\n",
       "            </tr>\n",
       "        </thead>\n",
       "        <tbody>\n",
       "        \n",
       "            <tr>\n",
       "                <td>\n",
       "                039bc371-db3d-4ab9-a74f-43a8710cf34b</td><td>prod</td><td>\n",
       "    <ul class=\"list\">\n",
       "        <li>\n",
       "        my_network\n",
       "        </li>\n",
       "    </ul>\n",
       "    </td><td>grenoble # noqa\n",
       "                </td>\n",
       "            </tr>\n",
       "            </tbody></table>\n",
       "                    </ul>\n",
       "                </li>\n",
       "                \n",
       "                    </ul>\n",
       "                </li>\n",
       "                \n",
       "                </ul>\n",
       "            </div>\n",
       "        </div>\n",
       "    "
      ],
      "text/plain": [
       "Conf@0x7f2f1446b310\n",
       "{\n",
       "    \"dhcp\": true,\n",
       "    \"force_deploy\": false,\n",
       "    \"job_name\": \"cheops\",\n",
       "    \"job_type\": [],\n",
       "    \"key\": \"/home/mrakotojaonarainimangavelo/.ssh/id_rsa.pub\",\n",
       "    \"queue\": \"default\",\n",
       "    \"walltime\": \"00:58:00\",\n",
       "    \"resources\": {\n",
       "        \"machines\": [\n",
       "            {\n",
       "                \"roles\": [\n",
       "                    \"cheops\"\n",
       "                ],\n",
       "                \"primary_network\": \"039bc371-db3d-4ab9-a74f-43a8710cf34b\",\n",
       "                \"secondary_networks\": [],\n",
       "                \"cluster\": \"dahu\",\n",
       "                \"nodes\": 4\n",
       "            }\n",
       "        ],\n",
       "        \"networks\": [\n",
       "            {\n",
       "                \"id\": \"039bc371-db3d-4ab9-a74f-43a8710cf34b\",\n",
       "                \"type\": \"prod\",\n",
       "                \"roles\": [\n",
       "                    \"my_network\"\n",
       "                ],\n",
       "                \"site\": \"grenoble\"\n",
       "            }\n",
       "        ]\n",
       "    }\n",
       "}"
      ]
     },
     "execution_count": 3,
     "metadata": {},
     "output_type": "execute_result"
    }
   ],
   "source": [
    "conf"
   ]
  },
  {
   "cell_type": "code",
   "execution_count": 4,
   "id": "6c001e38-10cd-4ecd-a81f-060a90d48afd",
   "metadata": {},
   "outputs": [
    {
     "data": {
      "text/html": [
       "<pre style=\"white-space:pre;overflow-x:auto;line-height:normal;font-family:Menlo,'DejaVu Sans Mono',consolas,'Courier New',monospace\"><span style=\"color: #000080; text-decoration-color: #000080\">INFO    </span> <span style=\"font-weight: bold\">[</span>G5k<span style=\"font-weight: bold\">]</span> Submitting <span style=\"font-weight: bold\">{</span><span style=\"color: #008000; text-decoration-color: #008000\">'name'</span>: <span style=\"color: #008000; text-decoration-color: #008000\">'cheops'</span>, <span style=\"color: #008000; text-decoration-color: #008000\">'types'</span>: <span style=\"font-weight: bold\">[]</span>, <span style=\"color: #008000; text-decoration-color: #008000\">'resources'</span>:   <a href=\"file:///home/mrakotojaonarainimangavelo/formation/enoslib-tutorials/g5k/enoslib_jupyter/lib/python3.9/site-packages/enoslib/infra/enos_g5k/g5k_api_utils.py\" target=\"_blank\"><span style=\"color: #7f7f7f; text-decoration-color: #7f7f7f\">g5k_api_utils.py</span></a><span style=\"color: #7f7f7f; text-decoration-color: #7f7f7f\">:</span><a href=\"file:///home/mrakotojaonarainimangavelo/formation/enoslib-tutorials/g5k/enoslib_jupyter/lib/python3.9/site-packages/enoslib/infra/enos_g5k/g5k_api_utils.py#305\" target=\"_blank\"><span style=\"color: #7f7f7f; text-decoration-color: #7f7f7f\">305</span></a>\n",
       "         <span style=\"color: #008000; text-decoration-color: #008000\">\"{cluster='dahu'}/nodes=4,walltime=00:58:00\"</span>, <span style=\"color: #008000; text-decoration-color: #008000\">'command'</span>: <span style=\"color: #008000; text-decoration-color: #008000\">'sleep</span> <span style=\"color: #7f7f7f; text-decoration-color: #7f7f7f\">                    </span>\n",
       "         <span style=\"color: #008000; text-decoration-color: #008000\">31536000'</span>, <span style=\"color: #008000; text-decoration-color: #008000\">'queue'</span>: <span style=\"color: #008000; text-decoration-color: #008000\">'default'</span><span style=\"font-weight: bold\">}</span> on grenoble                      <span style=\"color: #7f7f7f; text-decoration-color: #7f7f7f\">                    </span>\n",
       "</pre>\n"
      ],
      "text/plain": [
       "\u001b[34mINFO    \u001b[0m \u001b[1m[\u001b[0mG5k\u001b[1m]\u001b[0m Submitting \u001b[1m{\u001b[0m\u001b[32m'name'\u001b[0m: \u001b[32m'cheops'\u001b[0m, \u001b[32m'types'\u001b[0m: \u001b[1m[\u001b[0m\u001b[1m]\u001b[0m, \u001b[32m'resources'\u001b[0m:   \u001b]8;id=693282;file:///home/mrakotojaonarainimangavelo/formation/enoslib-tutorials/g5k/enoslib_jupyter/lib/python3.9/site-packages/enoslib/infra/enos_g5k/g5k_api_utils.py\u001b\\\u001b[2mg5k_api_utils.py\u001b[0m\u001b]8;;\u001b\\\u001b[2m:\u001b[0m\u001b]8;id=805128;file:///home/mrakotojaonarainimangavelo/formation/enoslib-tutorials/g5k/enoslib_jupyter/lib/python3.9/site-packages/enoslib/infra/enos_g5k/g5k_api_utils.py#305\u001b\\\u001b[2m305\u001b[0m\u001b]8;;\u001b\\\n",
       "         \u001b[32m\"\u001b[0m\u001b[32m{\u001b[0m\u001b[32mcluster\u001b[0m\u001b[32m='dahu'\u001b[0m\u001b[32m}\u001b[0m\u001b[32m/\u001b[0m\u001b[32mnodes\u001b[0m\u001b[32m=\u001b[0m\u001b[32m4\u001b[0m\u001b[32m,\u001b[0m\u001b[32mwalltime\u001b[0m\u001b[32m=\u001b[0m\u001b[32m00\u001b[0m\u001b[32m:58:00\"\u001b[0m, \u001b[32m'command'\u001b[0m: \u001b[32m'sleep\u001b[0m \u001b[2m                    \u001b[0m\n",
       "         \u001b[32m31536000'\u001b[0m, \u001b[32m'queue'\u001b[0m: \u001b[32m'default'\u001b[0m\u001b[1m}\u001b[0m on grenoble                      \u001b[2m                    \u001b[0m\n"
      ]
     },
     "metadata": {},
     "output_type": "display_data"
    },
    {
     "data": {
      "text/html": [
       "<pre style=\"white-space:pre;overflow-x:auto;line-height:normal;font-family:Menlo,'DejaVu Sans Mono',consolas,'Courier New',monospace\"><span style=\"color: #000080; text-decoration-color: #000080\">INFO    </span> <span style=\"font-weight: bold\">[</span>G5k<span style=\"font-weight: bold\">]</span> Waiting for <span style=\"color: #008080; text-decoration-color: #008080; font-weight: bold\">2308911</span> on grenoble <span style=\"font-weight: bold\">[</span><span style=\"color: #008080; text-decoration-color: #008080; font-weight: bold\">2023</span>-<span style=\"color: #008080; text-decoration-color: #008080; font-weight: bold\">10</span>-<span style=\"color: #008080; text-decoration-color: #008080; font-weight: bold\">02</span> <span style=\"color: #00ff00; text-decoration-color: #00ff00; font-weight: bold\">22:25:10</span><span style=\"font-weight: bold\">]</span>     <a href=\"file:///home/mrakotojaonarainimangavelo/formation/enoslib-tutorials/g5k/enoslib_jupyter/lib/python3.9/site-packages/enoslib/infra/enos_g5k/g5k_api_utils.py\" target=\"_blank\"><span style=\"color: #7f7f7f; text-decoration-color: #7f7f7f\">g5k_api_utils.py</span></a><span style=\"color: #7f7f7f; text-decoration-color: #7f7f7f\">:</span><a href=\"file:///home/mrakotojaonarainimangavelo/formation/enoslib-tutorials/g5k/enoslib_jupyter/lib/python3.9/site-packages/enoslib/infra/enos_g5k/g5k_api_utils.py#336\" target=\"_blank\"><span style=\"color: #7f7f7f; text-decoration-color: #7f7f7f\">336</span></a>\n",
       "</pre>\n"
      ],
      "text/plain": [
       "\u001b[34mINFO    \u001b[0m \u001b[1m[\u001b[0mG5k\u001b[1m]\u001b[0m Waiting for \u001b[1;36m2308911\u001b[0m on grenoble \u001b[1m[\u001b[0m\u001b[1;36m2023\u001b[0m-\u001b[1;36m10\u001b[0m-\u001b[1;36m02\u001b[0m \u001b[1;92m22:25:10\u001b[0m\u001b[1m]\u001b[0m     \u001b]8;id=873611;file:///home/mrakotojaonarainimangavelo/formation/enoslib-tutorials/g5k/enoslib_jupyter/lib/python3.9/site-packages/enoslib/infra/enos_g5k/g5k_api_utils.py\u001b\\\u001b[2mg5k_api_utils.py\u001b[0m\u001b]8;;\u001b\\\u001b[2m:\u001b[0m\u001b]8;id=745302;file:///home/mrakotojaonarainimangavelo/formation/enoslib-tutorials/g5k/enoslib_jupyter/lib/python3.9/site-packages/enoslib/infra/enos_g5k/g5k_api_utils.py#336\u001b\\\u001b[2m336\u001b[0m\u001b]8;;\u001b\\\n"
      ]
     },
     "metadata": {},
     "output_type": "display_data"
    },
    {
     "data": {
      "text/html": [
       "<pre style=\"white-space:pre;overflow-x:auto;line-height:normal;font-family:Menlo,'DejaVu Sans Mono',consolas,'Courier New',monospace\"><span style=\"color: #000080; text-decoration-color: #000080\">INFO    </span> <span style=\"font-weight: bold\">[</span>G5k<span style=\"font-weight: bold\">]</span> Waiting for <span style=\"color: #008080; text-decoration-color: #008080; font-weight: bold\">2308911</span> on grenoble <span style=\"font-weight: bold\">[</span><span style=\"color: #008080; text-decoration-color: #008080; font-weight: bold\">2023</span>-<span style=\"color: #008080; text-decoration-color: #008080; font-weight: bold\">10</span>-<span style=\"color: #008080; text-decoration-color: #008080; font-weight: bold\">02</span> <span style=\"color: #00ff00; text-decoration-color: #00ff00; font-weight: bold\">22:25:10</span><span style=\"font-weight: bold\">]</span>     <a href=\"file:///home/mrakotojaonarainimangavelo/formation/enoslib-tutorials/g5k/enoslib_jupyter/lib/python3.9/site-packages/enoslib/infra/enos_g5k/g5k_api_utils.py\" target=\"_blank\"><span style=\"color: #7f7f7f; text-decoration-color: #7f7f7f\">g5k_api_utils.py</span></a><span style=\"color: #7f7f7f; text-decoration-color: #7f7f7f\">:</span><a href=\"file:///home/mrakotojaonarainimangavelo/formation/enoslib-tutorials/g5k/enoslib_jupyter/lib/python3.9/site-packages/enoslib/infra/enos_g5k/g5k_api_utils.py#336\" target=\"_blank\"><span style=\"color: #7f7f7f; text-decoration-color: #7f7f7f\">336</span></a>\n",
       "</pre>\n"
      ],
      "text/plain": [
       "\u001b[34mINFO    \u001b[0m \u001b[1m[\u001b[0mG5k\u001b[1m]\u001b[0m Waiting for \u001b[1;36m2308911\u001b[0m on grenoble \u001b[1m[\u001b[0m\u001b[1;36m2023\u001b[0m-\u001b[1;36m10\u001b[0m-\u001b[1;36m02\u001b[0m \u001b[1;92m22:25:10\u001b[0m\u001b[1m]\u001b[0m     \u001b]8;id=862416;file:///home/mrakotojaonarainimangavelo/formation/enoslib-tutorials/g5k/enoslib_jupyter/lib/python3.9/site-packages/enoslib/infra/enos_g5k/g5k_api_utils.py\u001b\\\u001b[2mg5k_api_utils.py\u001b[0m\u001b]8;;\u001b\\\u001b[2m:\u001b[0m\u001b]8;id=249645;file:///home/mrakotojaonarainimangavelo/formation/enoslib-tutorials/g5k/enoslib_jupyter/lib/python3.9/site-packages/enoslib/infra/enos_g5k/g5k_api_utils.py#336\u001b\\\u001b[2m336\u001b[0m\u001b]8;;\u001b\\\n"
      ]
     },
     "metadata": {},
     "output_type": "display_data"
    },
    {
     "data": {
      "text/html": [
       "<pre style=\"white-space:pre;overflow-x:auto;line-height:normal;font-family:Menlo,'DejaVu Sans Mono',consolas,'Courier New',monospace\"><span style=\"color: #000080; text-decoration-color: #000080\">INFO    </span> <span style=\"font-weight: bold\">[</span>G5k<span style=\"font-weight: bold\">]</span> Waiting for <span style=\"color: #008080; text-decoration-color: #008080; font-weight: bold\">2308911</span> on grenoble <span style=\"font-weight: bold\">[</span><span style=\"color: #008080; text-decoration-color: #008080; font-weight: bold\">2023</span>-<span style=\"color: #008080; text-decoration-color: #008080; font-weight: bold\">10</span>-<span style=\"color: #008080; text-decoration-color: #008080; font-weight: bold\">02</span> <span style=\"color: #00ff00; text-decoration-color: #00ff00; font-weight: bold\">22:25:10</span><span style=\"font-weight: bold\">]</span>     <a href=\"file:///home/mrakotojaonarainimangavelo/formation/enoslib-tutorials/g5k/enoslib_jupyter/lib/python3.9/site-packages/enoslib/infra/enos_g5k/g5k_api_utils.py\" target=\"_blank\"><span style=\"color: #7f7f7f; text-decoration-color: #7f7f7f\">g5k_api_utils.py</span></a><span style=\"color: #7f7f7f; text-decoration-color: #7f7f7f\">:</span><a href=\"file:///home/mrakotojaonarainimangavelo/formation/enoslib-tutorials/g5k/enoslib_jupyter/lib/python3.9/site-packages/enoslib/infra/enos_g5k/g5k_api_utils.py#336\" target=\"_blank\"><span style=\"color: #7f7f7f; text-decoration-color: #7f7f7f\">336</span></a>\n",
       "</pre>\n"
      ],
      "text/plain": [
       "\u001b[34mINFO    \u001b[0m \u001b[1m[\u001b[0mG5k\u001b[1m]\u001b[0m Waiting for \u001b[1;36m2308911\u001b[0m on grenoble \u001b[1m[\u001b[0m\u001b[1;36m2023\u001b[0m-\u001b[1;36m10\u001b[0m-\u001b[1;36m02\u001b[0m \u001b[1;92m22:25:10\u001b[0m\u001b[1m]\u001b[0m     \u001b]8;id=4334;file:///home/mrakotojaonarainimangavelo/formation/enoslib-tutorials/g5k/enoslib_jupyter/lib/python3.9/site-packages/enoslib/infra/enos_g5k/g5k_api_utils.py\u001b\\\u001b[2mg5k_api_utils.py\u001b[0m\u001b]8;;\u001b\\\u001b[2m:\u001b[0m\u001b]8;id=690070;file:///home/mrakotojaonarainimangavelo/formation/enoslib-tutorials/g5k/enoslib_jupyter/lib/python3.9/site-packages/enoslib/infra/enos_g5k/g5k_api_utils.py#336\u001b\\\u001b[2m336\u001b[0m\u001b]8;;\u001b\\\n"
      ]
     },
     "metadata": {},
     "output_type": "display_data"
    },
    {
     "data": {
      "text/html": [
       "<pre style=\"white-space:pre;overflow-x:auto;line-height:normal;font-family:Menlo,'DejaVu Sans Mono',consolas,'Courier New',monospace\"><span style=\"color: #000080; text-decoration-color: #000080\">INFO    </span> <span style=\"font-weight: bold\">[</span>G5k<span style=\"font-weight: bold\">]</span> Waiting for <span style=\"color: #008080; text-decoration-color: #008080; font-weight: bold\">2308911</span> on grenoble <span style=\"font-weight: bold\">[</span><span style=\"color: #008080; text-decoration-color: #008080; font-weight: bold\">2023</span>-<span style=\"color: #008080; text-decoration-color: #008080; font-weight: bold\">10</span>-<span style=\"color: #008080; text-decoration-color: #008080; font-weight: bold\">02</span> <span style=\"color: #00ff00; text-decoration-color: #00ff00; font-weight: bold\">22:25:10</span><span style=\"font-weight: bold\">]</span>     <a href=\"file:///home/mrakotojaonarainimangavelo/formation/enoslib-tutorials/g5k/enoslib_jupyter/lib/python3.9/site-packages/enoslib/infra/enos_g5k/g5k_api_utils.py\" target=\"_blank\"><span style=\"color: #7f7f7f; text-decoration-color: #7f7f7f\">g5k_api_utils.py</span></a><span style=\"color: #7f7f7f; text-decoration-color: #7f7f7f\">:</span><a href=\"file:///home/mrakotojaonarainimangavelo/formation/enoslib-tutorials/g5k/enoslib_jupyter/lib/python3.9/site-packages/enoslib/infra/enos_g5k/g5k_api_utils.py#336\" target=\"_blank\"><span style=\"color: #7f7f7f; text-decoration-color: #7f7f7f\">336</span></a>\n",
       "</pre>\n"
      ],
      "text/plain": [
       "\u001b[34mINFO    \u001b[0m \u001b[1m[\u001b[0mG5k\u001b[1m]\u001b[0m Waiting for \u001b[1;36m2308911\u001b[0m on grenoble \u001b[1m[\u001b[0m\u001b[1;36m2023\u001b[0m-\u001b[1;36m10\u001b[0m-\u001b[1;36m02\u001b[0m \u001b[1;92m22:25:10\u001b[0m\u001b[1m]\u001b[0m     \u001b]8;id=861613;file:///home/mrakotojaonarainimangavelo/formation/enoslib-tutorials/g5k/enoslib_jupyter/lib/python3.9/site-packages/enoslib/infra/enos_g5k/g5k_api_utils.py\u001b\\\u001b[2mg5k_api_utils.py\u001b[0m\u001b]8;;\u001b\\\u001b[2m:\u001b[0m\u001b]8;id=228741;file:///home/mrakotojaonarainimangavelo/formation/enoslib-tutorials/g5k/enoslib_jupyter/lib/python3.9/site-packages/enoslib/infra/enos_g5k/g5k_api_utils.py#336\u001b\\\u001b[2m336\u001b[0m\u001b]8;;\u001b\\\n"
      ]
     },
     "metadata": {},
     "output_type": "display_data"
    },
    {
     "data": {
      "text/html": [
       "<pre style=\"white-space:pre;overflow-x:auto;line-height:normal;font-family:Menlo,'DejaVu Sans Mono',consolas,'Courier New',monospace\"><span style=\"color: #000080; text-decoration-color: #000080\">INFO    </span> <span style=\"font-weight: bold\">[</span>G5k<span style=\"font-weight: bold\">]</span> Waiting for <span style=\"color: #008080; text-decoration-color: #008080; font-weight: bold\">2308911</span> on grenoble <span style=\"font-weight: bold\">[</span><span style=\"color: #008080; text-decoration-color: #008080; font-weight: bold\">2023</span>-<span style=\"color: #008080; text-decoration-color: #008080; font-weight: bold\">10</span>-<span style=\"color: #008080; text-decoration-color: #008080; font-weight: bold\">02</span> <span style=\"color: #00ff00; text-decoration-color: #00ff00; font-weight: bold\">22:25:10</span><span style=\"font-weight: bold\">]</span>     <a href=\"file:///home/mrakotojaonarainimangavelo/formation/enoslib-tutorials/g5k/enoslib_jupyter/lib/python3.9/site-packages/enoslib/infra/enos_g5k/g5k_api_utils.py\" target=\"_blank\"><span style=\"color: #7f7f7f; text-decoration-color: #7f7f7f\">g5k_api_utils.py</span></a><span style=\"color: #7f7f7f; text-decoration-color: #7f7f7f\">:</span><a href=\"file:///home/mrakotojaonarainimangavelo/formation/enoslib-tutorials/g5k/enoslib_jupyter/lib/python3.9/site-packages/enoslib/infra/enos_g5k/g5k_api_utils.py#336\" target=\"_blank\"><span style=\"color: #7f7f7f; text-decoration-color: #7f7f7f\">336</span></a>\n",
       "</pre>\n"
      ],
      "text/plain": [
       "\u001b[34mINFO    \u001b[0m \u001b[1m[\u001b[0mG5k\u001b[1m]\u001b[0m Waiting for \u001b[1;36m2308911\u001b[0m on grenoble \u001b[1m[\u001b[0m\u001b[1;36m2023\u001b[0m-\u001b[1;36m10\u001b[0m-\u001b[1;36m02\u001b[0m \u001b[1;92m22:25:10\u001b[0m\u001b[1m]\u001b[0m     \u001b]8;id=327;file:///home/mrakotojaonarainimangavelo/formation/enoslib-tutorials/g5k/enoslib_jupyter/lib/python3.9/site-packages/enoslib/infra/enos_g5k/g5k_api_utils.py\u001b\\\u001b[2mg5k_api_utils.py\u001b[0m\u001b]8;;\u001b\\\u001b[2m:\u001b[0m\u001b]8;id=686970;file:///home/mrakotojaonarainimangavelo/formation/enoslib-tutorials/g5k/enoslib_jupyter/lib/python3.9/site-packages/enoslib/infra/enos_g5k/g5k_api_utils.py#336\u001b\\\u001b[2m336\u001b[0m\u001b]8;;\u001b\\\n"
      ]
     },
     "metadata": {},
     "output_type": "display_data"
    },
    {
     "data": {
      "text/html": [
       "<pre style=\"white-space:pre;overflow-x:auto;line-height:normal;font-family:Menlo,'DejaVu Sans Mono',consolas,'Courier New',monospace\"><span style=\"color: #000080; text-decoration-color: #000080\">INFO    </span> <span style=\"font-weight: bold\">[</span>G5k<span style=\"font-weight: bold\">]</span> Waiting for <span style=\"color: #008080; text-decoration-color: #008080; font-weight: bold\">2308911</span> on grenoble <span style=\"font-weight: bold\">[</span><span style=\"color: #008080; text-decoration-color: #008080; font-weight: bold\">2023</span>-<span style=\"color: #008080; text-decoration-color: #008080; font-weight: bold\">10</span>-<span style=\"color: #008080; text-decoration-color: #008080; font-weight: bold\">02</span> <span style=\"color: #00ff00; text-decoration-color: #00ff00; font-weight: bold\">22:25:10</span><span style=\"font-weight: bold\">]</span>     <a href=\"file:///home/mrakotojaonarainimangavelo/formation/enoslib-tutorials/g5k/enoslib_jupyter/lib/python3.9/site-packages/enoslib/infra/enos_g5k/g5k_api_utils.py\" target=\"_blank\"><span style=\"color: #7f7f7f; text-decoration-color: #7f7f7f\">g5k_api_utils.py</span></a><span style=\"color: #7f7f7f; text-decoration-color: #7f7f7f\">:</span><a href=\"file:///home/mrakotojaonarainimangavelo/formation/enoslib-tutorials/g5k/enoslib_jupyter/lib/python3.9/site-packages/enoslib/infra/enos_g5k/g5k_api_utils.py#336\" target=\"_blank\"><span style=\"color: #7f7f7f; text-decoration-color: #7f7f7f\">336</span></a>\n",
       "</pre>\n"
      ],
      "text/plain": [
       "\u001b[34mINFO    \u001b[0m \u001b[1m[\u001b[0mG5k\u001b[1m]\u001b[0m Waiting for \u001b[1;36m2308911\u001b[0m on grenoble \u001b[1m[\u001b[0m\u001b[1;36m2023\u001b[0m-\u001b[1;36m10\u001b[0m-\u001b[1;36m02\u001b[0m \u001b[1;92m22:25:10\u001b[0m\u001b[1m]\u001b[0m     \u001b]8;id=633004;file:///home/mrakotojaonarainimangavelo/formation/enoslib-tutorials/g5k/enoslib_jupyter/lib/python3.9/site-packages/enoslib/infra/enos_g5k/g5k_api_utils.py\u001b\\\u001b[2mg5k_api_utils.py\u001b[0m\u001b]8;;\u001b\\\u001b[2m:\u001b[0m\u001b]8;id=866883;file:///home/mrakotojaonarainimangavelo/formation/enoslib-tutorials/g5k/enoslib_jupyter/lib/python3.9/site-packages/enoslib/infra/enos_g5k/g5k_api_utils.py#336\u001b\\\u001b[2m336\u001b[0m\u001b]8;;\u001b\\\n"
      ]
     },
     "metadata": {},
     "output_type": "display_data"
    },
    {
     "data": {
      "text/html": [
       "<pre style=\"white-space:pre;overflow-x:auto;line-height:normal;font-family:Menlo,'DejaVu Sans Mono',consolas,'Courier New',monospace\"><span style=\"color: #000080; text-decoration-color: #000080\">INFO    </span> <span style=\"font-weight: bold\">[</span>G5k<span style=\"font-weight: bold\">]</span> Waiting for <span style=\"color: #008080; text-decoration-color: #008080; font-weight: bold\">2308911</span> on grenoble <span style=\"font-weight: bold\">[</span><span style=\"color: #008080; text-decoration-color: #008080; font-weight: bold\">2023</span>-<span style=\"color: #008080; text-decoration-color: #008080; font-weight: bold\">10</span>-<span style=\"color: #008080; text-decoration-color: #008080; font-weight: bold\">02</span> <span style=\"color: #00ff00; text-decoration-color: #00ff00; font-weight: bold\">22:25:10</span><span style=\"font-weight: bold\">]</span>     <a href=\"file:///home/mrakotojaonarainimangavelo/formation/enoslib-tutorials/g5k/enoslib_jupyter/lib/python3.9/site-packages/enoslib/infra/enos_g5k/g5k_api_utils.py\" target=\"_blank\"><span style=\"color: #7f7f7f; text-decoration-color: #7f7f7f\">g5k_api_utils.py</span></a><span style=\"color: #7f7f7f; text-decoration-color: #7f7f7f\">:</span><a href=\"file:///home/mrakotojaonarainimangavelo/formation/enoslib-tutorials/g5k/enoslib_jupyter/lib/python3.9/site-packages/enoslib/infra/enos_g5k/g5k_api_utils.py#336\" target=\"_blank\"><span style=\"color: #7f7f7f; text-decoration-color: #7f7f7f\">336</span></a>\n",
       "</pre>\n"
      ],
      "text/plain": [
       "\u001b[34mINFO    \u001b[0m \u001b[1m[\u001b[0mG5k\u001b[1m]\u001b[0m Waiting for \u001b[1;36m2308911\u001b[0m on grenoble \u001b[1m[\u001b[0m\u001b[1;36m2023\u001b[0m-\u001b[1;36m10\u001b[0m-\u001b[1;36m02\u001b[0m \u001b[1;92m22:25:10\u001b[0m\u001b[1m]\u001b[0m     \u001b]8;id=305743;file:///home/mrakotojaonarainimangavelo/formation/enoslib-tutorials/g5k/enoslib_jupyter/lib/python3.9/site-packages/enoslib/infra/enos_g5k/g5k_api_utils.py\u001b\\\u001b[2mg5k_api_utils.py\u001b[0m\u001b]8;;\u001b\\\u001b[2m:\u001b[0m\u001b]8;id=799591;file:///home/mrakotojaonarainimangavelo/formation/enoslib-tutorials/g5k/enoslib_jupyter/lib/python3.9/site-packages/enoslib/infra/enos_g5k/g5k_api_utils.py#336\u001b\\\u001b[2m336\u001b[0m\u001b]8;;\u001b\\\n"
      ]
     },
     "metadata": {},
     "output_type": "display_data"
    },
    {
     "data": {
      "text/html": [
       "<pre style=\"white-space:pre;overflow-x:auto;line-height:normal;font-family:Menlo,'DejaVu Sans Mono',consolas,'Courier New',monospace\"><span style=\"color: #000080; text-decoration-color: #000080\">INFO    </span> <span style=\"font-weight: bold\">[</span>G5k<span style=\"font-weight: bold\">]</span> Waiting for <span style=\"color: #008080; text-decoration-color: #008080; font-weight: bold\">2308911</span> on grenoble <span style=\"font-weight: bold\">[</span><span style=\"color: #008080; text-decoration-color: #008080; font-weight: bold\">2023</span>-<span style=\"color: #008080; text-decoration-color: #008080; font-weight: bold\">10</span>-<span style=\"color: #008080; text-decoration-color: #008080; font-weight: bold\">02</span> <span style=\"color: #00ff00; text-decoration-color: #00ff00; font-weight: bold\">22:25:10</span><span style=\"font-weight: bold\">]</span>     <a href=\"file:///home/mrakotojaonarainimangavelo/formation/enoslib-tutorials/g5k/enoslib_jupyter/lib/python3.9/site-packages/enoslib/infra/enos_g5k/g5k_api_utils.py\" target=\"_blank\"><span style=\"color: #7f7f7f; text-decoration-color: #7f7f7f\">g5k_api_utils.py</span></a><span style=\"color: #7f7f7f; text-decoration-color: #7f7f7f\">:</span><a href=\"file:///home/mrakotojaonarainimangavelo/formation/enoslib-tutorials/g5k/enoslib_jupyter/lib/python3.9/site-packages/enoslib/infra/enos_g5k/g5k_api_utils.py#336\" target=\"_blank\"><span style=\"color: #7f7f7f; text-decoration-color: #7f7f7f\">336</span></a>\n",
       "</pre>\n"
      ],
      "text/plain": [
       "\u001b[34mINFO    \u001b[0m \u001b[1m[\u001b[0mG5k\u001b[1m]\u001b[0m Waiting for \u001b[1;36m2308911\u001b[0m on grenoble \u001b[1m[\u001b[0m\u001b[1;36m2023\u001b[0m-\u001b[1;36m10\u001b[0m-\u001b[1;36m02\u001b[0m \u001b[1;92m22:25:10\u001b[0m\u001b[1m]\u001b[0m     \u001b]8;id=578923;file:///home/mrakotojaonarainimangavelo/formation/enoslib-tutorials/g5k/enoslib_jupyter/lib/python3.9/site-packages/enoslib/infra/enos_g5k/g5k_api_utils.py\u001b\\\u001b[2mg5k_api_utils.py\u001b[0m\u001b]8;;\u001b\\\u001b[2m:\u001b[0m\u001b]8;id=327394;file:///home/mrakotojaonarainimangavelo/formation/enoslib-tutorials/g5k/enoslib_jupyter/lib/python3.9/site-packages/enoslib/infra/enos_g5k/g5k_api_utils.py#336\u001b\\\u001b[2m336\u001b[0m\u001b]8;;\u001b\\\n"
      ]
     },
     "metadata": {},
     "output_type": "display_data"
    },
    {
     "data": {
      "text/html": [
       "<pre style=\"white-space:pre;overflow-x:auto;line-height:normal;font-family:Menlo,'DejaVu Sans Mono',consolas,'Courier New',monospace\"><span style=\"color: #000080; text-decoration-color: #000080\">INFO    </span> <span style=\"font-weight: bold\">[</span>G5k<span style=\"font-weight: bold\">]</span> Waiting for <span style=\"color: #008080; text-decoration-color: #008080; font-weight: bold\">2308911</span> on grenoble <span style=\"font-weight: bold\">[</span><span style=\"color: #008080; text-decoration-color: #008080; font-weight: bold\">2023</span>-<span style=\"color: #008080; text-decoration-color: #008080; font-weight: bold\">10</span>-<span style=\"color: #008080; text-decoration-color: #008080; font-weight: bold\">02</span> <span style=\"color: #00ff00; text-decoration-color: #00ff00; font-weight: bold\">22:25:10</span><span style=\"font-weight: bold\">]</span>     <a href=\"file:///home/mrakotojaonarainimangavelo/formation/enoslib-tutorials/g5k/enoslib_jupyter/lib/python3.9/site-packages/enoslib/infra/enos_g5k/g5k_api_utils.py\" target=\"_blank\"><span style=\"color: #7f7f7f; text-decoration-color: #7f7f7f\">g5k_api_utils.py</span></a><span style=\"color: #7f7f7f; text-decoration-color: #7f7f7f\">:</span><a href=\"file:///home/mrakotojaonarainimangavelo/formation/enoslib-tutorials/g5k/enoslib_jupyter/lib/python3.9/site-packages/enoslib/infra/enos_g5k/g5k_api_utils.py#336\" target=\"_blank\"><span style=\"color: #7f7f7f; text-decoration-color: #7f7f7f\">336</span></a>\n",
       "</pre>\n"
      ],
      "text/plain": [
       "\u001b[34mINFO    \u001b[0m \u001b[1m[\u001b[0mG5k\u001b[1m]\u001b[0m Waiting for \u001b[1;36m2308911\u001b[0m on grenoble \u001b[1m[\u001b[0m\u001b[1;36m2023\u001b[0m-\u001b[1;36m10\u001b[0m-\u001b[1;36m02\u001b[0m \u001b[1;92m22:25:10\u001b[0m\u001b[1m]\u001b[0m     \u001b]8;id=523816;file:///home/mrakotojaonarainimangavelo/formation/enoslib-tutorials/g5k/enoslib_jupyter/lib/python3.9/site-packages/enoslib/infra/enos_g5k/g5k_api_utils.py\u001b\\\u001b[2mg5k_api_utils.py\u001b[0m\u001b]8;;\u001b\\\u001b[2m:\u001b[0m\u001b]8;id=751065;file:///home/mrakotojaonarainimangavelo/formation/enoslib-tutorials/g5k/enoslib_jupyter/lib/python3.9/site-packages/enoslib/infra/enos_g5k/g5k_api_utils.py#336\u001b\\\u001b[2m336\u001b[0m\u001b]8;;\u001b\\\n"
      ]
     },
     "metadata": {},
     "output_type": "display_data"
    },
    {
     "data": {
      "text/html": [
       "<pre style=\"white-space:pre;overflow-x:auto;line-height:normal;font-family:Menlo,'DejaVu Sans Mono',consolas,'Courier New',monospace\"><span style=\"color: #000080; text-decoration-color: #000080\">INFO    </span> <span style=\"font-weight: bold\">[</span>G5k<span style=\"font-weight: bold\">]</span> Waiting for <span style=\"color: #008080; text-decoration-color: #008080; font-weight: bold\">2308911</span> on grenoble <span style=\"font-weight: bold\">[</span><span style=\"color: #008080; text-decoration-color: #008080; font-weight: bold\">2023</span>-<span style=\"color: #008080; text-decoration-color: #008080; font-weight: bold\">10</span>-<span style=\"color: #008080; text-decoration-color: #008080; font-weight: bold\">02</span> <span style=\"color: #00ff00; text-decoration-color: #00ff00; font-weight: bold\">22:25:10</span><span style=\"font-weight: bold\">]</span>     <a href=\"file:///home/mrakotojaonarainimangavelo/formation/enoslib-tutorials/g5k/enoslib_jupyter/lib/python3.9/site-packages/enoslib/infra/enos_g5k/g5k_api_utils.py\" target=\"_blank\"><span style=\"color: #7f7f7f; text-decoration-color: #7f7f7f\">g5k_api_utils.py</span></a><span style=\"color: #7f7f7f; text-decoration-color: #7f7f7f\">:</span><a href=\"file:///home/mrakotojaonarainimangavelo/formation/enoslib-tutorials/g5k/enoslib_jupyter/lib/python3.9/site-packages/enoslib/infra/enos_g5k/g5k_api_utils.py#336\" target=\"_blank\"><span style=\"color: #7f7f7f; text-decoration-color: #7f7f7f\">336</span></a>\n",
       "</pre>\n"
      ],
      "text/plain": [
       "\u001b[34mINFO    \u001b[0m \u001b[1m[\u001b[0mG5k\u001b[1m]\u001b[0m Waiting for \u001b[1;36m2308911\u001b[0m on grenoble \u001b[1m[\u001b[0m\u001b[1;36m2023\u001b[0m-\u001b[1;36m10\u001b[0m-\u001b[1;36m02\u001b[0m \u001b[1;92m22:25:10\u001b[0m\u001b[1m]\u001b[0m     \u001b]8;id=926074;file:///home/mrakotojaonarainimangavelo/formation/enoslib-tutorials/g5k/enoslib_jupyter/lib/python3.9/site-packages/enoslib/infra/enos_g5k/g5k_api_utils.py\u001b\\\u001b[2mg5k_api_utils.py\u001b[0m\u001b]8;;\u001b\\\u001b[2m:\u001b[0m\u001b]8;id=242826;file:///home/mrakotojaonarainimangavelo/formation/enoslib-tutorials/g5k/enoslib_jupyter/lib/python3.9/site-packages/enoslib/infra/enos_g5k/g5k_api_utils.py#336\u001b\\\u001b[2m336\u001b[0m\u001b]8;;\u001b\\\n"
      ]
     },
     "metadata": {},
     "output_type": "display_data"
    },
    {
     "data": {
      "text/html": [
       "<pre style=\"white-space:pre;overflow-x:auto;line-height:normal;font-family:Menlo,'DejaVu Sans Mono',consolas,'Courier New',monospace\"><span style=\"color: #000080; text-decoration-color: #000080\">INFO    </span> <span style=\"font-weight: bold\">[</span>G5k<span style=\"font-weight: bold\">]</span> Waiting for <span style=\"color: #008080; text-decoration-color: #008080; font-weight: bold\">2308911</span> on grenoble <span style=\"font-weight: bold\">[</span><span style=\"color: #008080; text-decoration-color: #008080; font-weight: bold\">2023</span>-<span style=\"color: #008080; text-decoration-color: #008080; font-weight: bold\">10</span>-<span style=\"color: #008080; text-decoration-color: #008080; font-weight: bold\">02</span> <span style=\"color: #00ff00; text-decoration-color: #00ff00; font-weight: bold\">22:25:10</span><span style=\"font-weight: bold\">]</span>     <a href=\"file:///home/mrakotojaonarainimangavelo/formation/enoslib-tutorials/g5k/enoslib_jupyter/lib/python3.9/site-packages/enoslib/infra/enos_g5k/g5k_api_utils.py\" target=\"_blank\"><span style=\"color: #7f7f7f; text-decoration-color: #7f7f7f\">g5k_api_utils.py</span></a><span style=\"color: #7f7f7f; text-decoration-color: #7f7f7f\">:</span><a href=\"file:///home/mrakotojaonarainimangavelo/formation/enoslib-tutorials/g5k/enoslib_jupyter/lib/python3.9/site-packages/enoslib/infra/enos_g5k/g5k_api_utils.py#336\" target=\"_blank\"><span style=\"color: #7f7f7f; text-decoration-color: #7f7f7f\">336</span></a>\n",
       "</pre>\n"
      ],
      "text/plain": [
       "\u001b[34mINFO    \u001b[0m \u001b[1m[\u001b[0mG5k\u001b[1m]\u001b[0m Waiting for \u001b[1;36m2308911\u001b[0m on grenoble \u001b[1m[\u001b[0m\u001b[1;36m2023\u001b[0m-\u001b[1;36m10\u001b[0m-\u001b[1;36m02\u001b[0m \u001b[1;92m22:25:10\u001b[0m\u001b[1m]\u001b[0m     \u001b]8;id=668683;file:///home/mrakotojaonarainimangavelo/formation/enoslib-tutorials/g5k/enoslib_jupyter/lib/python3.9/site-packages/enoslib/infra/enos_g5k/g5k_api_utils.py\u001b\\\u001b[2mg5k_api_utils.py\u001b[0m\u001b]8;;\u001b\\\u001b[2m:\u001b[0m\u001b]8;id=374992;file:///home/mrakotojaonarainimangavelo/formation/enoslib-tutorials/g5k/enoslib_jupyter/lib/python3.9/site-packages/enoslib/infra/enos_g5k/g5k_api_utils.py#336\u001b\\\u001b[2m336\u001b[0m\u001b]8;;\u001b\\\n"
      ]
     },
     "metadata": {},
     "output_type": "display_data"
    },
    {
     "data": {
      "text/html": [
       "<pre style=\"white-space:pre;overflow-x:auto;line-height:normal;font-family:Menlo,'DejaVu Sans Mono',consolas,'Courier New',monospace\"><span style=\"color: #000080; text-decoration-color: #000080\">INFO    </span> <span style=\"font-weight: bold\">[</span>G5k<span style=\"font-weight: bold\">]</span> Waiting for <span style=\"color: #008080; text-decoration-color: #008080; font-weight: bold\">2308911</span> on grenoble <span style=\"font-weight: bold\">[</span><span style=\"color: #008080; text-decoration-color: #008080; font-weight: bold\">2023</span>-<span style=\"color: #008080; text-decoration-color: #008080; font-weight: bold\">10</span>-<span style=\"color: #008080; text-decoration-color: #008080; font-weight: bold\">02</span> <span style=\"color: #00ff00; text-decoration-color: #00ff00; font-weight: bold\">22:25:10</span><span style=\"font-weight: bold\">]</span>     <a href=\"file:///home/mrakotojaonarainimangavelo/formation/enoslib-tutorials/g5k/enoslib_jupyter/lib/python3.9/site-packages/enoslib/infra/enos_g5k/g5k_api_utils.py\" target=\"_blank\"><span style=\"color: #7f7f7f; text-decoration-color: #7f7f7f\">g5k_api_utils.py</span></a><span style=\"color: #7f7f7f; text-decoration-color: #7f7f7f\">:</span><a href=\"file:///home/mrakotojaonarainimangavelo/formation/enoslib-tutorials/g5k/enoslib_jupyter/lib/python3.9/site-packages/enoslib/infra/enos_g5k/g5k_api_utils.py#336\" target=\"_blank\"><span style=\"color: #7f7f7f; text-decoration-color: #7f7f7f\">336</span></a>\n",
       "</pre>\n"
      ],
      "text/plain": [
       "\u001b[34mINFO    \u001b[0m \u001b[1m[\u001b[0mG5k\u001b[1m]\u001b[0m Waiting for \u001b[1;36m2308911\u001b[0m on grenoble \u001b[1m[\u001b[0m\u001b[1;36m2023\u001b[0m-\u001b[1;36m10\u001b[0m-\u001b[1;36m02\u001b[0m \u001b[1;92m22:25:10\u001b[0m\u001b[1m]\u001b[0m     \u001b]8;id=704819;file:///home/mrakotojaonarainimangavelo/formation/enoslib-tutorials/g5k/enoslib_jupyter/lib/python3.9/site-packages/enoslib/infra/enos_g5k/g5k_api_utils.py\u001b\\\u001b[2mg5k_api_utils.py\u001b[0m\u001b]8;;\u001b\\\u001b[2m:\u001b[0m\u001b]8;id=173754;file:///home/mrakotojaonarainimangavelo/formation/enoslib-tutorials/g5k/enoslib_jupyter/lib/python3.9/site-packages/enoslib/infra/enos_g5k/g5k_api_utils.py#336\u001b\\\u001b[2m336\u001b[0m\u001b]8;;\u001b\\\n"
      ]
     },
     "metadata": {},
     "output_type": "display_data"
    },
    {
     "data": {
      "text/html": [
       "<pre style=\"white-space:pre;overflow-x:auto;line-height:normal;font-family:Menlo,'DejaVu Sans Mono',consolas,'Courier New',monospace\"><span style=\"color: #000080; text-decoration-color: #000080\">INFO    </span> <span style=\"font-weight: bold\">[</span>G5k<span style=\"font-weight: bold\">]</span> Waiting for <span style=\"color: #008080; text-decoration-color: #008080; font-weight: bold\">2308911</span> on grenoble <span style=\"font-weight: bold\">[</span><span style=\"color: #008080; text-decoration-color: #008080; font-weight: bold\">2023</span>-<span style=\"color: #008080; text-decoration-color: #008080; font-weight: bold\">10</span>-<span style=\"color: #008080; text-decoration-color: #008080; font-weight: bold\">02</span> <span style=\"color: #00ff00; text-decoration-color: #00ff00; font-weight: bold\">22:26:13</span><span style=\"font-weight: bold\">]</span>     <a href=\"file:///home/mrakotojaonarainimangavelo/formation/enoslib-tutorials/g5k/enoslib_jupyter/lib/python3.9/site-packages/enoslib/infra/enos_g5k/g5k_api_utils.py\" target=\"_blank\"><span style=\"color: #7f7f7f; text-decoration-color: #7f7f7f\">g5k_api_utils.py</span></a><span style=\"color: #7f7f7f; text-decoration-color: #7f7f7f\">:</span><a href=\"file:///home/mrakotojaonarainimangavelo/formation/enoslib-tutorials/g5k/enoslib_jupyter/lib/python3.9/site-packages/enoslib/infra/enos_g5k/g5k_api_utils.py#336\" target=\"_blank\"><span style=\"color: #7f7f7f; text-decoration-color: #7f7f7f\">336</span></a>\n",
       "</pre>\n"
      ],
      "text/plain": [
       "\u001b[34mINFO    \u001b[0m \u001b[1m[\u001b[0mG5k\u001b[1m]\u001b[0m Waiting for \u001b[1;36m2308911\u001b[0m on grenoble \u001b[1m[\u001b[0m\u001b[1;36m2023\u001b[0m-\u001b[1;36m10\u001b[0m-\u001b[1;36m02\u001b[0m \u001b[1;92m22:26:13\u001b[0m\u001b[1m]\u001b[0m     \u001b]8;id=236704;file:///home/mrakotojaonarainimangavelo/formation/enoslib-tutorials/g5k/enoslib_jupyter/lib/python3.9/site-packages/enoslib/infra/enos_g5k/g5k_api_utils.py\u001b\\\u001b[2mg5k_api_utils.py\u001b[0m\u001b]8;;\u001b\\\u001b[2m:\u001b[0m\u001b]8;id=109191;file:///home/mrakotojaonarainimangavelo/formation/enoslib-tutorials/g5k/enoslib_jupyter/lib/python3.9/site-packages/enoslib/infra/enos_g5k/g5k_api_utils.py#336\u001b\\\u001b[2m336\u001b[0m\u001b]8;;\u001b\\\n"
      ]
     },
     "metadata": {},
     "output_type": "display_data"
    },
    {
     "data": {
      "text/html": [
       "<pre style=\"white-space:pre;overflow-x:auto;line-height:normal;font-family:Menlo,'DejaVu Sans Mono',consolas,'Courier New',monospace\"><span style=\"color: #000080; text-decoration-color: #000080\">INFO    </span> <span style=\"font-weight: bold\">[</span>G5k<span style=\"font-weight: bold\">]</span> Waiting for <span style=\"color: #008080; text-decoration-color: #008080; font-weight: bold\">2308911</span> on grenoble <span style=\"font-weight: bold\">[</span><span style=\"color: #008080; text-decoration-color: #008080; font-weight: bold\">2023</span>-<span style=\"color: #008080; text-decoration-color: #008080; font-weight: bold\">10</span>-<span style=\"color: #008080; text-decoration-color: #008080; font-weight: bold\">02</span> <span style=\"color: #00ff00; text-decoration-color: #00ff00; font-weight: bold\">22:26:13</span><span style=\"font-weight: bold\">]</span>     <a href=\"file:///home/mrakotojaonarainimangavelo/formation/enoslib-tutorials/g5k/enoslib_jupyter/lib/python3.9/site-packages/enoslib/infra/enos_g5k/g5k_api_utils.py\" target=\"_blank\"><span style=\"color: #7f7f7f; text-decoration-color: #7f7f7f\">g5k_api_utils.py</span></a><span style=\"color: #7f7f7f; text-decoration-color: #7f7f7f\">:</span><a href=\"file:///home/mrakotojaonarainimangavelo/formation/enoslib-tutorials/g5k/enoslib_jupyter/lib/python3.9/site-packages/enoslib/infra/enos_g5k/g5k_api_utils.py#336\" target=\"_blank\"><span style=\"color: #7f7f7f; text-decoration-color: #7f7f7f\">336</span></a>\n",
       "</pre>\n"
      ],
      "text/plain": [
       "\u001b[34mINFO    \u001b[0m \u001b[1m[\u001b[0mG5k\u001b[1m]\u001b[0m Waiting for \u001b[1;36m2308911\u001b[0m on grenoble \u001b[1m[\u001b[0m\u001b[1;36m2023\u001b[0m-\u001b[1;36m10\u001b[0m-\u001b[1;36m02\u001b[0m \u001b[1;92m22:26:13\u001b[0m\u001b[1m]\u001b[0m     \u001b]8;id=574004;file:///home/mrakotojaonarainimangavelo/formation/enoslib-tutorials/g5k/enoslib_jupyter/lib/python3.9/site-packages/enoslib/infra/enos_g5k/g5k_api_utils.py\u001b\\\u001b[2mg5k_api_utils.py\u001b[0m\u001b]8;;\u001b\\\u001b[2m:\u001b[0m\u001b]8;id=54627;file:///home/mrakotojaonarainimangavelo/formation/enoslib-tutorials/g5k/enoslib_jupyter/lib/python3.9/site-packages/enoslib/infra/enos_g5k/g5k_api_utils.py#336\u001b\\\u001b[2m336\u001b[0m\u001b]8;;\u001b\\\n"
      ]
     },
     "metadata": {},
     "output_type": "display_data"
    },
    {
     "data": {
      "text/html": [
       "<pre style=\"white-space:pre;overflow-x:auto;line-height:normal;font-family:Menlo,'DejaVu Sans Mono',consolas,'Courier New',monospace\"><span style=\"color: #000080; text-decoration-color: #000080\">INFO    </span> <span style=\"font-weight: bold\">[</span>G5k<span style=\"font-weight: bold\">]</span> Waiting for <span style=\"color: #008080; text-decoration-color: #008080; font-weight: bold\">2308911</span> on grenoble <span style=\"font-weight: bold\">[</span><span style=\"color: #008080; text-decoration-color: #008080; font-weight: bold\">2023</span>-<span style=\"color: #008080; text-decoration-color: #008080; font-weight: bold\">10</span>-<span style=\"color: #008080; text-decoration-color: #008080; font-weight: bold\">02</span> <span style=\"color: #00ff00; text-decoration-color: #00ff00; font-weight: bold\">22:26:13</span><span style=\"font-weight: bold\">]</span>     <a href=\"file:///home/mrakotojaonarainimangavelo/formation/enoslib-tutorials/g5k/enoslib_jupyter/lib/python3.9/site-packages/enoslib/infra/enos_g5k/g5k_api_utils.py\" target=\"_blank\"><span style=\"color: #7f7f7f; text-decoration-color: #7f7f7f\">g5k_api_utils.py</span></a><span style=\"color: #7f7f7f; text-decoration-color: #7f7f7f\">:</span><a href=\"file:///home/mrakotojaonarainimangavelo/formation/enoslib-tutorials/g5k/enoslib_jupyter/lib/python3.9/site-packages/enoslib/infra/enos_g5k/g5k_api_utils.py#336\" target=\"_blank\"><span style=\"color: #7f7f7f; text-decoration-color: #7f7f7f\">336</span></a>\n",
       "</pre>\n"
      ],
      "text/plain": [
       "\u001b[34mINFO    \u001b[0m \u001b[1m[\u001b[0mG5k\u001b[1m]\u001b[0m Waiting for \u001b[1;36m2308911\u001b[0m on grenoble \u001b[1m[\u001b[0m\u001b[1;36m2023\u001b[0m-\u001b[1;36m10\u001b[0m-\u001b[1;36m02\u001b[0m \u001b[1;92m22:26:13\u001b[0m\u001b[1m]\u001b[0m     \u001b]8;id=404588;file:///home/mrakotojaonarainimangavelo/formation/enoslib-tutorials/g5k/enoslib_jupyter/lib/python3.9/site-packages/enoslib/infra/enos_g5k/g5k_api_utils.py\u001b\\\u001b[2mg5k_api_utils.py\u001b[0m\u001b]8;;\u001b\\\u001b[2m:\u001b[0m\u001b]8;id=213782;file:///home/mrakotojaonarainimangavelo/formation/enoslib-tutorials/g5k/enoslib_jupyter/lib/python3.9/site-packages/enoslib/infra/enos_g5k/g5k_api_utils.py#336\u001b\\\u001b[2m336\u001b[0m\u001b]8;;\u001b\\\n"
      ]
     },
     "metadata": {},
     "output_type": "display_data"
    },
    {
     "data": {
      "text/html": [
       "<pre style=\"white-space:pre;overflow-x:auto;line-height:normal;font-family:Menlo,'DejaVu Sans Mono',consolas,'Courier New',monospace\"><span style=\"color: #000080; text-decoration-color: #000080\">INFO    </span> <span style=\"font-weight: bold\">[</span>G5k<span style=\"font-weight: bold\">]</span> Waiting for <span style=\"color: #008080; text-decoration-color: #008080; font-weight: bold\">2308911</span> on grenoble <span style=\"font-weight: bold\">[</span><span style=\"color: #008080; text-decoration-color: #008080; font-weight: bold\">2023</span>-<span style=\"color: #008080; text-decoration-color: #008080; font-weight: bold\">10</span>-<span style=\"color: #008080; text-decoration-color: #008080; font-weight: bold\">02</span> <span style=\"color: #00ff00; text-decoration-color: #00ff00; font-weight: bold\">22:26:13</span><span style=\"font-weight: bold\">]</span>     <a href=\"file:///home/mrakotojaonarainimangavelo/formation/enoslib-tutorials/g5k/enoslib_jupyter/lib/python3.9/site-packages/enoslib/infra/enos_g5k/g5k_api_utils.py\" target=\"_blank\"><span style=\"color: #7f7f7f; text-decoration-color: #7f7f7f\">g5k_api_utils.py</span></a><span style=\"color: #7f7f7f; text-decoration-color: #7f7f7f\">:</span><a href=\"file:///home/mrakotojaonarainimangavelo/formation/enoslib-tutorials/g5k/enoslib_jupyter/lib/python3.9/site-packages/enoslib/infra/enos_g5k/g5k_api_utils.py#336\" target=\"_blank\"><span style=\"color: #7f7f7f; text-decoration-color: #7f7f7f\">336</span></a>\n",
       "</pre>\n"
      ],
      "text/plain": [
       "\u001b[34mINFO    \u001b[0m \u001b[1m[\u001b[0mG5k\u001b[1m]\u001b[0m Waiting for \u001b[1;36m2308911\u001b[0m on grenoble \u001b[1m[\u001b[0m\u001b[1;36m2023\u001b[0m-\u001b[1;36m10\u001b[0m-\u001b[1;36m02\u001b[0m \u001b[1;92m22:26:13\u001b[0m\u001b[1m]\u001b[0m     \u001b]8;id=192179;file:///home/mrakotojaonarainimangavelo/formation/enoslib-tutorials/g5k/enoslib_jupyter/lib/python3.9/site-packages/enoslib/infra/enos_g5k/g5k_api_utils.py\u001b\\\u001b[2mg5k_api_utils.py\u001b[0m\u001b]8;;\u001b\\\u001b[2m:\u001b[0m\u001b]8;id=360009;file:///home/mrakotojaonarainimangavelo/formation/enoslib-tutorials/g5k/enoslib_jupyter/lib/python3.9/site-packages/enoslib/infra/enos_g5k/g5k_api_utils.py#336\u001b\\\u001b[2m336\u001b[0m\u001b]8;;\u001b\\\n"
      ]
     },
     "metadata": {},
     "output_type": "display_data"
    },
    {
     "data": {
      "text/html": [
       "<pre style=\"white-space:pre;overflow-x:auto;line-height:normal;font-family:Menlo,'DejaVu Sans Mono',consolas,'Courier New',monospace\"><span style=\"color: #000080; text-decoration-color: #000080\">INFO    </span> <span style=\"font-weight: bold\">[</span>G5k<span style=\"font-weight: bold\">]</span> Waiting for <span style=\"color: #008080; text-decoration-color: #008080; font-weight: bold\">2308911</span> on grenoble <span style=\"font-weight: bold\">[</span><span style=\"color: #008080; text-decoration-color: #008080; font-weight: bold\">2023</span>-<span style=\"color: #008080; text-decoration-color: #008080; font-weight: bold\">10</span>-<span style=\"color: #008080; text-decoration-color: #008080; font-weight: bold\">02</span> <span style=\"color: #00ff00; text-decoration-color: #00ff00; font-weight: bold\">22:26:13</span><span style=\"font-weight: bold\">]</span>     <a href=\"file:///home/mrakotojaonarainimangavelo/formation/enoslib-tutorials/g5k/enoslib_jupyter/lib/python3.9/site-packages/enoslib/infra/enos_g5k/g5k_api_utils.py\" target=\"_blank\"><span style=\"color: #7f7f7f; text-decoration-color: #7f7f7f\">g5k_api_utils.py</span></a><span style=\"color: #7f7f7f; text-decoration-color: #7f7f7f\">:</span><a href=\"file:///home/mrakotojaonarainimangavelo/formation/enoslib-tutorials/g5k/enoslib_jupyter/lib/python3.9/site-packages/enoslib/infra/enos_g5k/g5k_api_utils.py#336\" target=\"_blank\"><span style=\"color: #7f7f7f; text-decoration-color: #7f7f7f\">336</span></a>\n",
       "</pre>\n"
      ],
      "text/plain": [
       "\u001b[34mINFO    \u001b[0m \u001b[1m[\u001b[0mG5k\u001b[1m]\u001b[0m Waiting for \u001b[1;36m2308911\u001b[0m on grenoble \u001b[1m[\u001b[0m\u001b[1;36m2023\u001b[0m-\u001b[1;36m10\u001b[0m-\u001b[1;36m02\u001b[0m \u001b[1;92m22:26:13\u001b[0m\u001b[1m]\u001b[0m     \u001b]8;id=90493;file:///home/mrakotojaonarainimangavelo/formation/enoslib-tutorials/g5k/enoslib_jupyter/lib/python3.9/site-packages/enoslib/infra/enos_g5k/g5k_api_utils.py\u001b\\\u001b[2mg5k_api_utils.py\u001b[0m\u001b]8;;\u001b\\\u001b[2m:\u001b[0m\u001b]8;id=741875;file:///home/mrakotojaonarainimangavelo/formation/enoslib-tutorials/g5k/enoslib_jupyter/lib/python3.9/site-packages/enoslib/infra/enos_g5k/g5k_api_utils.py#336\u001b\\\u001b[2m336\u001b[0m\u001b]8;;\u001b\\\n"
      ]
     },
     "metadata": {},
     "output_type": "display_data"
    },
    {
     "data": {
      "text/html": [
       "<pre style=\"white-space:pre;overflow-x:auto;line-height:normal;font-family:Menlo,'DejaVu Sans Mono',consolas,'Courier New',monospace\"><span style=\"color: #000080; text-decoration-color: #000080\">INFO    </span> <span style=\"font-weight: bold\">[</span>G5k<span style=\"font-weight: bold\">]</span> Waiting for <span style=\"color: #008080; text-decoration-color: #008080; font-weight: bold\">2308911</span> on grenoble <span style=\"font-weight: bold\">[</span><span style=\"color: #008080; text-decoration-color: #008080; font-weight: bold\">2023</span>-<span style=\"color: #008080; text-decoration-color: #008080; font-weight: bold\">10</span>-<span style=\"color: #008080; text-decoration-color: #008080; font-weight: bold\">02</span> <span style=\"color: #00ff00; text-decoration-color: #00ff00; font-weight: bold\">22:26:13</span><span style=\"font-weight: bold\">]</span>     <a href=\"file:///home/mrakotojaonarainimangavelo/formation/enoslib-tutorials/g5k/enoslib_jupyter/lib/python3.9/site-packages/enoslib/infra/enos_g5k/g5k_api_utils.py\" target=\"_blank\"><span style=\"color: #7f7f7f; text-decoration-color: #7f7f7f\">g5k_api_utils.py</span></a><span style=\"color: #7f7f7f; text-decoration-color: #7f7f7f\">:</span><a href=\"file:///home/mrakotojaonarainimangavelo/formation/enoslib-tutorials/g5k/enoslib_jupyter/lib/python3.9/site-packages/enoslib/infra/enos_g5k/g5k_api_utils.py#336\" target=\"_blank\"><span style=\"color: #7f7f7f; text-decoration-color: #7f7f7f\">336</span></a>\n",
       "</pre>\n"
      ],
      "text/plain": [
       "\u001b[34mINFO    \u001b[0m \u001b[1m[\u001b[0mG5k\u001b[1m]\u001b[0m Waiting for \u001b[1;36m2308911\u001b[0m on grenoble \u001b[1m[\u001b[0m\u001b[1;36m2023\u001b[0m-\u001b[1;36m10\u001b[0m-\u001b[1;36m02\u001b[0m \u001b[1;92m22:26:13\u001b[0m\u001b[1m]\u001b[0m     \u001b]8;id=215426;file:///home/mrakotojaonarainimangavelo/formation/enoslib-tutorials/g5k/enoslib_jupyter/lib/python3.9/site-packages/enoslib/infra/enos_g5k/g5k_api_utils.py\u001b\\\u001b[2mg5k_api_utils.py\u001b[0m\u001b]8;;\u001b\\\u001b[2m:\u001b[0m\u001b]8;id=169586;file:///home/mrakotojaonarainimangavelo/formation/enoslib-tutorials/g5k/enoslib_jupyter/lib/python3.9/site-packages/enoslib/infra/enos_g5k/g5k_api_utils.py#336\u001b\\\u001b[2m336\u001b[0m\u001b]8;;\u001b\\\n"
      ]
     },
     "metadata": {},
     "output_type": "display_data"
    },
    {
     "data": {
      "text/html": [
       "<pre style=\"white-space:pre;overflow-x:auto;line-height:normal;font-family:Menlo,'DejaVu Sans Mono',consolas,'Courier New',monospace\"><span style=\"color: #000080; text-decoration-color: #000080\">INFO    </span> <span style=\"font-weight: bold\">[</span>G5k<span style=\"font-weight: bold\">]</span> Waiting for <span style=\"color: #008080; text-decoration-color: #008080; font-weight: bold\">2308911</span> on grenoble <span style=\"font-weight: bold\">[</span><span style=\"color: #008080; text-decoration-color: #008080; font-weight: bold\">2023</span>-<span style=\"color: #008080; text-decoration-color: #008080; font-weight: bold\">10</span>-<span style=\"color: #008080; text-decoration-color: #008080; font-weight: bold\">02</span> <span style=\"color: #00ff00; text-decoration-color: #00ff00; font-weight: bold\">22:26:13</span><span style=\"font-weight: bold\">]</span>     <a href=\"file:///home/mrakotojaonarainimangavelo/formation/enoslib-tutorials/g5k/enoslib_jupyter/lib/python3.9/site-packages/enoslib/infra/enos_g5k/g5k_api_utils.py\" target=\"_blank\"><span style=\"color: #7f7f7f; text-decoration-color: #7f7f7f\">g5k_api_utils.py</span></a><span style=\"color: #7f7f7f; text-decoration-color: #7f7f7f\">:</span><a href=\"file:///home/mrakotojaonarainimangavelo/formation/enoslib-tutorials/g5k/enoslib_jupyter/lib/python3.9/site-packages/enoslib/infra/enos_g5k/g5k_api_utils.py#336\" target=\"_blank\"><span style=\"color: #7f7f7f; text-decoration-color: #7f7f7f\">336</span></a>\n",
       "</pre>\n"
      ],
      "text/plain": [
       "\u001b[34mINFO    \u001b[0m \u001b[1m[\u001b[0mG5k\u001b[1m]\u001b[0m Waiting for \u001b[1;36m2308911\u001b[0m on grenoble \u001b[1m[\u001b[0m\u001b[1;36m2023\u001b[0m-\u001b[1;36m10\u001b[0m-\u001b[1;36m02\u001b[0m \u001b[1;92m22:26:13\u001b[0m\u001b[1m]\u001b[0m     \u001b]8;id=184361;file:///home/mrakotojaonarainimangavelo/formation/enoslib-tutorials/g5k/enoslib_jupyter/lib/python3.9/site-packages/enoslib/infra/enos_g5k/g5k_api_utils.py\u001b\\\u001b[2mg5k_api_utils.py\u001b[0m\u001b]8;;\u001b\\\u001b[2m:\u001b[0m\u001b]8;id=248295;file:///home/mrakotojaonarainimangavelo/formation/enoslib-tutorials/g5k/enoslib_jupyter/lib/python3.9/site-packages/enoslib/infra/enos_g5k/g5k_api_utils.py#336\u001b\\\u001b[2m336\u001b[0m\u001b]8;;\u001b\\\n"
      ]
     },
     "metadata": {},
     "output_type": "display_data"
    },
    {
     "data": {
      "text/html": [
       "<pre style=\"white-space:pre;overflow-x:auto;line-height:normal;font-family:Menlo,'DejaVu Sans Mono',consolas,'Courier New',monospace\"><span style=\"color: #000080; text-decoration-color: #000080\">INFO    </span> <span style=\"font-weight: bold\">[</span>G5k<span style=\"font-weight: bold\">]</span> Waiting for <span style=\"color: #008080; text-decoration-color: #008080; font-weight: bold\">2308911</span> on grenoble <span style=\"font-weight: bold\">[</span><span style=\"color: #008080; text-decoration-color: #008080; font-weight: bold\">2023</span>-<span style=\"color: #008080; text-decoration-color: #008080; font-weight: bold\">10</span>-<span style=\"color: #008080; text-decoration-color: #008080; font-weight: bold\">02</span> <span style=\"color: #00ff00; text-decoration-color: #00ff00; font-weight: bold\">22:26:13</span><span style=\"font-weight: bold\">]</span>     <a href=\"file:///home/mrakotojaonarainimangavelo/formation/enoslib-tutorials/g5k/enoslib_jupyter/lib/python3.9/site-packages/enoslib/infra/enos_g5k/g5k_api_utils.py\" target=\"_blank\"><span style=\"color: #7f7f7f; text-decoration-color: #7f7f7f\">g5k_api_utils.py</span></a><span style=\"color: #7f7f7f; text-decoration-color: #7f7f7f\">:</span><a href=\"file:///home/mrakotojaonarainimangavelo/formation/enoslib-tutorials/g5k/enoslib_jupyter/lib/python3.9/site-packages/enoslib/infra/enos_g5k/g5k_api_utils.py#336\" target=\"_blank\"><span style=\"color: #7f7f7f; text-decoration-color: #7f7f7f\">336</span></a>\n",
       "</pre>\n"
      ],
      "text/plain": [
       "\u001b[34mINFO    \u001b[0m \u001b[1m[\u001b[0mG5k\u001b[1m]\u001b[0m Waiting for \u001b[1;36m2308911\u001b[0m on grenoble \u001b[1m[\u001b[0m\u001b[1;36m2023\u001b[0m-\u001b[1;36m10\u001b[0m-\u001b[1;36m02\u001b[0m \u001b[1;92m22:26:13\u001b[0m\u001b[1m]\u001b[0m     \u001b]8;id=806855;file:///home/mrakotojaonarainimangavelo/formation/enoslib-tutorials/g5k/enoslib_jupyter/lib/python3.9/site-packages/enoslib/infra/enos_g5k/g5k_api_utils.py\u001b\\\u001b[2mg5k_api_utils.py\u001b[0m\u001b]8;;\u001b\\\u001b[2m:\u001b[0m\u001b]8;id=125668;file:///home/mrakotojaonarainimangavelo/formation/enoslib-tutorials/g5k/enoslib_jupyter/lib/python3.9/site-packages/enoslib/infra/enos_g5k/g5k_api_utils.py#336\u001b\\\u001b[2m336\u001b[0m\u001b]8;;\u001b\\\n"
      ]
     },
     "metadata": {},
     "output_type": "display_data"
    },
    {
     "data": {
      "text/html": [
       "<pre style=\"white-space:pre;overflow-x:auto;line-height:normal;font-family:Menlo,'DejaVu Sans Mono',consolas,'Courier New',monospace\"><span style=\"color: #000080; text-decoration-color: #000080\">INFO    </span> <span style=\"font-weight: bold\">[</span>G5k<span style=\"font-weight: bold\">]</span> Waiting for <span style=\"color: #008080; text-decoration-color: #008080; font-weight: bold\">2308911</span> on grenoble <span style=\"font-weight: bold\">[</span><span style=\"color: #008080; text-decoration-color: #008080; font-weight: bold\">2023</span>-<span style=\"color: #008080; text-decoration-color: #008080; font-weight: bold\">10</span>-<span style=\"color: #008080; text-decoration-color: #008080; font-weight: bold\">02</span> <span style=\"color: #00ff00; text-decoration-color: #00ff00; font-weight: bold\">22:26:13</span><span style=\"font-weight: bold\">]</span>     <a href=\"file:///home/mrakotojaonarainimangavelo/formation/enoslib-tutorials/g5k/enoslib_jupyter/lib/python3.9/site-packages/enoslib/infra/enos_g5k/g5k_api_utils.py\" target=\"_blank\"><span style=\"color: #7f7f7f; text-decoration-color: #7f7f7f\">g5k_api_utils.py</span></a><span style=\"color: #7f7f7f; text-decoration-color: #7f7f7f\">:</span><a href=\"file:///home/mrakotojaonarainimangavelo/formation/enoslib-tutorials/g5k/enoslib_jupyter/lib/python3.9/site-packages/enoslib/infra/enos_g5k/g5k_api_utils.py#336\" target=\"_blank\"><span style=\"color: #7f7f7f; text-decoration-color: #7f7f7f\">336</span></a>\n",
       "</pre>\n"
      ],
      "text/plain": [
       "\u001b[34mINFO    \u001b[0m \u001b[1m[\u001b[0mG5k\u001b[1m]\u001b[0m Waiting for \u001b[1;36m2308911\u001b[0m on grenoble \u001b[1m[\u001b[0m\u001b[1;36m2023\u001b[0m-\u001b[1;36m10\u001b[0m-\u001b[1;36m02\u001b[0m \u001b[1;92m22:26:13\u001b[0m\u001b[1m]\u001b[0m     \u001b]8;id=832319;file:///home/mrakotojaonarainimangavelo/formation/enoslib-tutorials/g5k/enoslib_jupyter/lib/python3.9/site-packages/enoslib/infra/enos_g5k/g5k_api_utils.py\u001b\\\u001b[2mg5k_api_utils.py\u001b[0m\u001b]8;;\u001b\\\u001b[2m:\u001b[0m\u001b]8;id=918200;file:///home/mrakotojaonarainimangavelo/formation/enoslib-tutorials/g5k/enoslib_jupyter/lib/python3.9/site-packages/enoslib/infra/enos_g5k/g5k_api_utils.py#336\u001b\\\u001b[2m336\u001b[0m\u001b]8;;\u001b\\\n"
      ]
     },
     "metadata": {},
     "output_type": "display_data"
    },
    {
     "data": {
      "text/html": [
       "<pre style=\"white-space:pre;overflow-x:auto;line-height:normal;font-family:Menlo,'DejaVu Sans Mono',consolas,'Courier New',monospace\"><span style=\"color: #000080; text-decoration-color: #000080\">INFO    </span> <span style=\"font-weight: bold\">[</span>G5k<span style=\"font-weight: bold\">]</span> Waiting for <span style=\"color: #008080; text-decoration-color: #008080; font-weight: bold\">2308911</span> on grenoble <span style=\"font-weight: bold\">[</span><span style=\"color: #008080; text-decoration-color: #008080; font-weight: bold\">2023</span>-<span style=\"color: #008080; text-decoration-color: #008080; font-weight: bold\">10</span>-<span style=\"color: #008080; text-decoration-color: #008080; font-weight: bold\">02</span> <span style=\"color: #00ff00; text-decoration-color: #00ff00; font-weight: bold\">22:26:13</span><span style=\"font-weight: bold\">]</span>     <a href=\"file:///home/mrakotojaonarainimangavelo/formation/enoslib-tutorials/g5k/enoslib_jupyter/lib/python3.9/site-packages/enoslib/infra/enos_g5k/g5k_api_utils.py\" target=\"_blank\"><span style=\"color: #7f7f7f; text-decoration-color: #7f7f7f\">g5k_api_utils.py</span></a><span style=\"color: #7f7f7f; text-decoration-color: #7f7f7f\">:</span><a href=\"file:///home/mrakotojaonarainimangavelo/formation/enoslib-tutorials/g5k/enoslib_jupyter/lib/python3.9/site-packages/enoslib/infra/enos_g5k/g5k_api_utils.py#336\" target=\"_blank\"><span style=\"color: #7f7f7f; text-decoration-color: #7f7f7f\">336</span></a>\n",
       "</pre>\n"
      ],
      "text/plain": [
       "\u001b[34mINFO    \u001b[0m \u001b[1m[\u001b[0mG5k\u001b[1m]\u001b[0m Waiting for \u001b[1;36m2308911\u001b[0m on grenoble \u001b[1m[\u001b[0m\u001b[1;36m2023\u001b[0m-\u001b[1;36m10\u001b[0m-\u001b[1;36m02\u001b[0m \u001b[1;92m22:26:13\u001b[0m\u001b[1m]\u001b[0m     \u001b]8;id=659511;file:///home/mrakotojaonarainimangavelo/formation/enoslib-tutorials/g5k/enoslib_jupyter/lib/python3.9/site-packages/enoslib/infra/enos_g5k/g5k_api_utils.py\u001b\\\u001b[2mg5k_api_utils.py\u001b[0m\u001b]8;;\u001b\\\u001b[2m:\u001b[0m\u001b]8;id=359961;file:///home/mrakotojaonarainimangavelo/formation/enoslib-tutorials/g5k/enoslib_jupyter/lib/python3.9/site-packages/enoslib/infra/enos_g5k/g5k_api_utils.py#336\u001b\\\u001b[2m336\u001b[0m\u001b]8;;\u001b\\\n"
      ]
     },
     "metadata": {},
     "output_type": "display_data"
    },
    {
     "data": {
      "text/html": [
       "<pre style=\"white-space:pre;overflow-x:auto;line-height:normal;font-family:Menlo,'DejaVu Sans Mono',consolas,'Courier New',monospace\"><span style=\"color: #000080; text-decoration-color: #000080\">INFO    </span> <span style=\"font-weight: bold\">[</span>G5k<span style=\"font-weight: bold\">]</span> Waiting for <span style=\"color: #008080; text-decoration-color: #008080; font-weight: bold\">2308911</span> on grenoble <span style=\"font-weight: bold\">[</span><span style=\"color: #008080; text-decoration-color: #008080; font-weight: bold\">2023</span>-<span style=\"color: #008080; text-decoration-color: #008080; font-weight: bold\">10</span>-<span style=\"color: #008080; text-decoration-color: #008080; font-weight: bold\">02</span> <span style=\"color: #00ff00; text-decoration-color: #00ff00; font-weight: bold\">22:26:13</span><span style=\"font-weight: bold\">]</span>     <a href=\"file:///home/mrakotojaonarainimangavelo/formation/enoslib-tutorials/g5k/enoslib_jupyter/lib/python3.9/site-packages/enoslib/infra/enos_g5k/g5k_api_utils.py\" target=\"_blank\"><span style=\"color: #7f7f7f; text-decoration-color: #7f7f7f\">g5k_api_utils.py</span></a><span style=\"color: #7f7f7f; text-decoration-color: #7f7f7f\">:</span><a href=\"file:///home/mrakotojaonarainimangavelo/formation/enoslib-tutorials/g5k/enoslib_jupyter/lib/python3.9/site-packages/enoslib/infra/enos_g5k/g5k_api_utils.py#336\" target=\"_blank\"><span style=\"color: #7f7f7f; text-decoration-color: #7f7f7f\">336</span></a>\n",
       "</pre>\n"
      ],
      "text/plain": [
       "\u001b[34mINFO    \u001b[0m \u001b[1m[\u001b[0mG5k\u001b[1m]\u001b[0m Waiting for \u001b[1;36m2308911\u001b[0m on grenoble \u001b[1m[\u001b[0m\u001b[1;36m2023\u001b[0m-\u001b[1;36m10\u001b[0m-\u001b[1;36m02\u001b[0m \u001b[1;92m22:26:13\u001b[0m\u001b[1m]\u001b[0m     \u001b]8;id=949046;file:///home/mrakotojaonarainimangavelo/formation/enoslib-tutorials/g5k/enoslib_jupyter/lib/python3.9/site-packages/enoslib/infra/enos_g5k/g5k_api_utils.py\u001b\\\u001b[2mg5k_api_utils.py\u001b[0m\u001b]8;;\u001b\\\u001b[2m:\u001b[0m\u001b]8;id=494761;file:///home/mrakotojaonarainimangavelo/formation/enoslib-tutorials/g5k/enoslib_jupyter/lib/python3.9/site-packages/enoslib/infra/enos_g5k/g5k_api_utils.py#336\u001b\\\u001b[2m336\u001b[0m\u001b]8;;\u001b\\\n"
      ]
     },
     "metadata": {},
     "output_type": "display_data"
    },
    {
     "data": {
      "text/html": [
       "<pre style=\"white-space:pre;overflow-x:auto;line-height:normal;font-family:Menlo,'DejaVu Sans Mono',consolas,'Courier New',monospace\"><span style=\"color: #000080; text-decoration-color: #000080\">INFO    </span> <span style=\"font-weight: bold\">[</span>G5k<span style=\"font-weight: bold\">]</span> Waiting for <span style=\"color: #008080; text-decoration-color: #008080; font-weight: bold\">2308911</span> on grenoble <span style=\"font-weight: bold\">[</span><span style=\"color: #008080; text-decoration-color: #008080; font-weight: bold\">2023</span>-<span style=\"color: #008080; text-decoration-color: #008080; font-weight: bold\">10</span>-<span style=\"color: #008080; text-decoration-color: #008080; font-weight: bold\">02</span> <span style=\"color: #00ff00; text-decoration-color: #00ff00; font-weight: bold\">22:26:13</span><span style=\"font-weight: bold\">]</span>     <a href=\"file:///home/mrakotojaonarainimangavelo/formation/enoslib-tutorials/g5k/enoslib_jupyter/lib/python3.9/site-packages/enoslib/infra/enos_g5k/g5k_api_utils.py\" target=\"_blank\"><span style=\"color: #7f7f7f; text-decoration-color: #7f7f7f\">g5k_api_utils.py</span></a><span style=\"color: #7f7f7f; text-decoration-color: #7f7f7f\">:</span><a href=\"file:///home/mrakotojaonarainimangavelo/formation/enoslib-tutorials/g5k/enoslib_jupyter/lib/python3.9/site-packages/enoslib/infra/enos_g5k/g5k_api_utils.py#336\" target=\"_blank\"><span style=\"color: #7f7f7f; text-decoration-color: #7f7f7f\">336</span></a>\n",
       "</pre>\n"
      ],
      "text/plain": [
       "\u001b[34mINFO    \u001b[0m \u001b[1m[\u001b[0mG5k\u001b[1m]\u001b[0m Waiting for \u001b[1;36m2308911\u001b[0m on grenoble \u001b[1m[\u001b[0m\u001b[1;36m2023\u001b[0m-\u001b[1;36m10\u001b[0m-\u001b[1;36m02\u001b[0m \u001b[1;92m22:26:13\u001b[0m\u001b[1m]\u001b[0m     \u001b]8;id=306938;file:///home/mrakotojaonarainimangavelo/formation/enoslib-tutorials/g5k/enoslib_jupyter/lib/python3.9/site-packages/enoslib/infra/enos_g5k/g5k_api_utils.py\u001b\\\u001b[2mg5k_api_utils.py\u001b[0m\u001b]8;;\u001b\\\u001b[2m:\u001b[0m\u001b]8;id=562044;file:///home/mrakotojaonarainimangavelo/formation/enoslib-tutorials/g5k/enoslib_jupyter/lib/python3.9/site-packages/enoslib/infra/enos_g5k/g5k_api_utils.py#336\u001b\\\u001b[2m336\u001b[0m\u001b]8;;\u001b\\\n"
      ]
     },
     "metadata": {},
     "output_type": "display_data"
    },
    {
     "data": {
      "text/html": [
       "<pre style=\"white-space:pre;overflow-x:auto;line-height:normal;font-family:Menlo,'DejaVu Sans Mono',consolas,'Courier New',monospace\"><span style=\"color: #000080; text-decoration-color: #000080\">INFO    </span> <span style=\"font-weight: bold\">[</span>G5k<span style=\"font-weight: bold\">]</span> Waiting for <span style=\"color: #008080; text-decoration-color: #008080; font-weight: bold\">2308911</span> on grenoble <span style=\"font-weight: bold\">[</span><span style=\"color: #008080; text-decoration-color: #008080; font-weight: bold\">2023</span>-<span style=\"color: #008080; text-decoration-color: #008080; font-weight: bold\">10</span>-<span style=\"color: #008080; text-decoration-color: #008080; font-weight: bold\">02</span> <span style=\"color: #00ff00; text-decoration-color: #00ff00; font-weight: bold\">22:26:13</span><span style=\"font-weight: bold\">]</span>     <a href=\"file:///home/mrakotojaonarainimangavelo/formation/enoslib-tutorials/g5k/enoslib_jupyter/lib/python3.9/site-packages/enoslib/infra/enos_g5k/g5k_api_utils.py\" target=\"_blank\"><span style=\"color: #7f7f7f; text-decoration-color: #7f7f7f\">g5k_api_utils.py</span></a><span style=\"color: #7f7f7f; text-decoration-color: #7f7f7f\">:</span><a href=\"file:///home/mrakotojaonarainimangavelo/formation/enoslib-tutorials/g5k/enoslib_jupyter/lib/python3.9/site-packages/enoslib/infra/enos_g5k/g5k_api_utils.py#336\" target=\"_blank\"><span style=\"color: #7f7f7f; text-decoration-color: #7f7f7f\">336</span></a>\n",
       "</pre>\n"
      ],
      "text/plain": [
       "\u001b[34mINFO    \u001b[0m \u001b[1m[\u001b[0mG5k\u001b[1m]\u001b[0m Waiting for \u001b[1;36m2308911\u001b[0m on grenoble \u001b[1m[\u001b[0m\u001b[1;36m2023\u001b[0m-\u001b[1;36m10\u001b[0m-\u001b[1;36m02\u001b[0m \u001b[1;92m22:26:13\u001b[0m\u001b[1m]\u001b[0m     \u001b]8;id=902989;file:///home/mrakotojaonarainimangavelo/formation/enoslib-tutorials/g5k/enoslib_jupyter/lib/python3.9/site-packages/enoslib/infra/enos_g5k/g5k_api_utils.py\u001b\\\u001b[2mg5k_api_utils.py\u001b[0m\u001b]8;;\u001b\\\u001b[2m:\u001b[0m\u001b]8;id=63767;file:///home/mrakotojaonarainimangavelo/formation/enoslib-tutorials/g5k/enoslib_jupyter/lib/python3.9/site-packages/enoslib/infra/enos_g5k/g5k_api_utils.py#336\u001b\\\u001b[2m336\u001b[0m\u001b]8;;\u001b\\\n"
      ]
     },
     "metadata": {},
     "output_type": "display_data"
    },
    {
     "data": {
      "text/html": [
       "<pre style=\"white-space:pre;overflow-x:auto;line-height:normal;font-family:Menlo,'DejaVu Sans Mono',consolas,'Courier New',monospace\"><span style=\"color: #000080; text-decoration-color: #000080\">INFO    </span> <span style=\"font-weight: bold\">[</span>G5k<span style=\"font-weight: bold\">]</span> Waiting for <span style=\"color: #008080; text-decoration-color: #008080; font-weight: bold\">2308911</span> on grenoble <span style=\"font-weight: bold\">[</span><span style=\"color: #008080; text-decoration-color: #008080; font-weight: bold\">2023</span>-<span style=\"color: #008080; text-decoration-color: #008080; font-weight: bold\">10</span>-<span style=\"color: #008080; text-decoration-color: #008080; font-weight: bold\">02</span> <span style=\"color: #00ff00; text-decoration-color: #00ff00; font-weight: bold\">22:27:18</span><span style=\"font-weight: bold\">]</span>     <a href=\"file:///home/mrakotojaonarainimangavelo/formation/enoslib-tutorials/g5k/enoslib_jupyter/lib/python3.9/site-packages/enoslib/infra/enos_g5k/g5k_api_utils.py\" target=\"_blank\"><span style=\"color: #7f7f7f; text-decoration-color: #7f7f7f\">g5k_api_utils.py</span></a><span style=\"color: #7f7f7f; text-decoration-color: #7f7f7f\">:</span><a href=\"file:///home/mrakotojaonarainimangavelo/formation/enoslib-tutorials/g5k/enoslib_jupyter/lib/python3.9/site-packages/enoslib/infra/enos_g5k/g5k_api_utils.py#336\" target=\"_blank\"><span style=\"color: #7f7f7f; text-decoration-color: #7f7f7f\">336</span></a>\n",
       "</pre>\n"
      ],
      "text/plain": [
       "\u001b[34mINFO    \u001b[0m \u001b[1m[\u001b[0mG5k\u001b[1m]\u001b[0m Waiting for \u001b[1;36m2308911\u001b[0m on grenoble \u001b[1m[\u001b[0m\u001b[1;36m2023\u001b[0m-\u001b[1;36m10\u001b[0m-\u001b[1;36m02\u001b[0m \u001b[1;92m22:27:18\u001b[0m\u001b[1m]\u001b[0m     \u001b]8;id=944981;file:///home/mrakotojaonarainimangavelo/formation/enoslib-tutorials/g5k/enoslib_jupyter/lib/python3.9/site-packages/enoslib/infra/enos_g5k/g5k_api_utils.py\u001b\\\u001b[2mg5k_api_utils.py\u001b[0m\u001b]8;;\u001b\\\u001b[2m:\u001b[0m\u001b]8;id=231331;file:///home/mrakotojaonarainimangavelo/formation/enoslib-tutorials/g5k/enoslib_jupyter/lib/python3.9/site-packages/enoslib/infra/enos_g5k/g5k_api_utils.py#336\u001b\\\u001b[2m336\u001b[0m\u001b]8;;\u001b\\\n"
      ]
     },
     "metadata": {},
     "output_type": "display_data"
    },
    {
     "data": {
      "text/html": [
       "<pre style=\"white-space:pre;overflow-x:auto;line-height:normal;font-family:Menlo,'DejaVu Sans Mono',consolas,'Courier New',monospace\"><span style=\"color: #000080; text-decoration-color: #000080\">INFO    </span> <span style=\"font-weight: bold\">[</span>G5k<span style=\"font-weight: bold\">]</span> Waiting for <span style=\"color: #008080; text-decoration-color: #008080; font-weight: bold\">2308911</span> on grenoble <span style=\"font-weight: bold\">[</span><span style=\"color: #008080; text-decoration-color: #008080; font-weight: bold\">2023</span>-<span style=\"color: #008080; text-decoration-color: #008080; font-weight: bold\">10</span>-<span style=\"color: #008080; text-decoration-color: #008080; font-weight: bold\">02</span> <span style=\"color: #00ff00; text-decoration-color: #00ff00; font-weight: bold\">22:27:18</span><span style=\"font-weight: bold\">]</span>     <a href=\"file:///home/mrakotojaonarainimangavelo/formation/enoslib-tutorials/g5k/enoslib_jupyter/lib/python3.9/site-packages/enoslib/infra/enos_g5k/g5k_api_utils.py\" target=\"_blank\"><span style=\"color: #7f7f7f; text-decoration-color: #7f7f7f\">g5k_api_utils.py</span></a><span style=\"color: #7f7f7f; text-decoration-color: #7f7f7f\">:</span><a href=\"file:///home/mrakotojaonarainimangavelo/formation/enoslib-tutorials/g5k/enoslib_jupyter/lib/python3.9/site-packages/enoslib/infra/enos_g5k/g5k_api_utils.py#336\" target=\"_blank\"><span style=\"color: #7f7f7f; text-decoration-color: #7f7f7f\">336</span></a>\n",
       "</pre>\n"
      ],
      "text/plain": [
       "\u001b[34mINFO    \u001b[0m \u001b[1m[\u001b[0mG5k\u001b[1m]\u001b[0m Waiting for \u001b[1;36m2308911\u001b[0m on grenoble \u001b[1m[\u001b[0m\u001b[1;36m2023\u001b[0m-\u001b[1;36m10\u001b[0m-\u001b[1;36m02\u001b[0m \u001b[1;92m22:27:18\u001b[0m\u001b[1m]\u001b[0m     \u001b]8;id=484597;file:///home/mrakotojaonarainimangavelo/formation/enoslib-tutorials/g5k/enoslib_jupyter/lib/python3.9/site-packages/enoslib/infra/enos_g5k/g5k_api_utils.py\u001b\\\u001b[2mg5k_api_utils.py\u001b[0m\u001b]8;;\u001b\\\u001b[2m:\u001b[0m\u001b]8;id=65162;file:///home/mrakotojaonarainimangavelo/formation/enoslib-tutorials/g5k/enoslib_jupyter/lib/python3.9/site-packages/enoslib/infra/enos_g5k/g5k_api_utils.py#336\u001b\\\u001b[2m336\u001b[0m\u001b]8;;\u001b\\\n"
      ]
     },
     "metadata": {},
     "output_type": "display_data"
    },
    {
     "data": {
      "text/html": [
       "<pre style=\"white-space:pre;overflow-x:auto;line-height:normal;font-family:Menlo,'DejaVu Sans Mono',consolas,'Courier New',monospace\"><span style=\"color: #000080; text-decoration-color: #000080\">INFO    </span> <span style=\"font-weight: bold\">[</span>G5k<span style=\"font-weight: bold\">]</span> Waiting for <span style=\"color: #008080; text-decoration-color: #008080; font-weight: bold\">2308911</span> on grenoble <span style=\"font-weight: bold\">[</span><span style=\"color: #008080; text-decoration-color: #008080; font-weight: bold\">2023</span>-<span style=\"color: #008080; text-decoration-color: #008080; font-weight: bold\">10</span>-<span style=\"color: #008080; text-decoration-color: #008080; font-weight: bold\">02</span> <span style=\"color: #00ff00; text-decoration-color: #00ff00; font-weight: bold\">22:27:18</span><span style=\"font-weight: bold\">]</span>     <a href=\"file:///home/mrakotojaonarainimangavelo/formation/enoslib-tutorials/g5k/enoslib_jupyter/lib/python3.9/site-packages/enoslib/infra/enos_g5k/g5k_api_utils.py\" target=\"_blank\"><span style=\"color: #7f7f7f; text-decoration-color: #7f7f7f\">g5k_api_utils.py</span></a><span style=\"color: #7f7f7f; text-decoration-color: #7f7f7f\">:</span><a href=\"file:///home/mrakotojaonarainimangavelo/formation/enoslib-tutorials/g5k/enoslib_jupyter/lib/python3.9/site-packages/enoslib/infra/enos_g5k/g5k_api_utils.py#336\" target=\"_blank\"><span style=\"color: #7f7f7f; text-decoration-color: #7f7f7f\">336</span></a>\n",
       "</pre>\n"
      ],
      "text/plain": [
       "\u001b[34mINFO    \u001b[0m \u001b[1m[\u001b[0mG5k\u001b[1m]\u001b[0m Waiting for \u001b[1;36m2308911\u001b[0m on grenoble \u001b[1m[\u001b[0m\u001b[1;36m2023\u001b[0m-\u001b[1;36m10\u001b[0m-\u001b[1;36m02\u001b[0m \u001b[1;92m22:27:18\u001b[0m\u001b[1m]\u001b[0m     \u001b]8;id=77450;file:///home/mrakotojaonarainimangavelo/formation/enoslib-tutorials/g5k/enoslib_jupyter/lib/python3.9/site-packages/enoslib/infra/enos_g5k/g5k_api_utils.py\u001b\\\u001b[2mg5k_api_utils.py\u001b[0m\u001b]8;;\u001b\\\u001b[2m:\u001b[0m\u001b]8;id=155639;file:///home/mrakotojaonarainimangavelo/formation/enoslib-tutorials/g5k/enoslib_jupyter/lib/python3.9/site-packages/enoslib/infra/enos_g5k/g5k_api_utils.py#336\u001b\\\u001b[2m336\u001b[0m\u001b]8;;\u001b\\\n"
      ]
     },
     "metadata": {},
     "output_type": "display_data"
    },
    {
     "data": {
      "text/html": [
       "<pre style=\"white-space:pre;overflow-x:auto;line-height:normal;font-family:Menlo,'DejaVu Sans Mono',consolas,'Courier New',monospace\"><span style=\"color: #000080; text-decoration-color: #000080\">INFO    </span> <span style=\"font-weight: bold\">[</span>G5k<span style=\"font-weight: bold\">]</span> Waiting for <span style=\"color: #008080; text-decoration-color: #008080; font-weight: bold\">2308911</span> on grenoble <span style=\"font-weight: bold\">[</span><span style=\"color: #008080; text-decoration-color: #008080; font-weight: bold\">2023</span>-<span style=\"color: #008080; text-decoration-color: #008080; font-weight: bold\">10</span>-<span style=\"color: #008080; text-decoration-color: #008080; font-weight: bold\">02</span> <span style=\"color: #00ff00; text-decoration-color: #00ff00; font-weight: bold\">22:27:18</span><span style=\"font-weight: bold\">]</span>     <a href=\"file:///home/mrakotojaonarainimangavelo/formation/enoslib-tutorials/g5k/enoslib_jupyter/lib/python3.9/site-packages/enoslib/infra/enos_g5k/g5k_api_utils.py\" target=\"_blank\"><span style=\"color: #7f7f7f; text-decoration-color: #7f7f7f\">g5k_api_utils.py</span></a><span style=\"color: #7f7f7f; text-decoration-color: #7f7f7f\">:</span><a href=\"file:///home/mrakotojaonarainimangavelo/formation/enoslib-tutorials/g5k/enoslib_jupyter/lib/python3.9/site-packages/enoslib/infra/enos_g5k/g5k_api_utils.py#336\" target=\"_blank\"><span style=\"color: #7f7f7f; text-decoration-color: #7f7f7f\">336</span></a>\n",
       "</pre>\n"
      ],
      "text/plain": [
       "\u001b[34mINFO    \u001b[0m \u001b[1m[\u001b[0mG5k\u001b[1m]\u001b[0m Waiting for \u001b[1;36m2308911\u001b[0m on grenoble \u001b[1m[\u001b[0m\u001b[1;36m2023\u001b[0m-\u001b[1;36m10\u001b[0m-\u001b[1;36m02\u001b[0m \u001b[1;92m22:27:18\u001b[0m\u001b[1m]\u001b[0m     \u001b]8;id=520468;file:///home/mrakotojaonarainimangavelo/formation/enoslib-tutorials/g5k/enoslib_jupyter/lib/python3.9/site-packages/enoslib/infra/enos_g5k/g5k_api_utils.py\u001b\\\u001b[2mg5k_api_utils.py\u001b[0m\u001b]8;;\u001b\\\u001b[2m:\u001b[0m\u001b]8;id=658795;file:///home/mrakotojaonarainimangavelo/formation/enoslib-tutorials/g5k/enoslib_jupyter/lib/python3.9/site-packages/enoslib/infra/enos_g5k/g5k_api_utils.py#336\u001b\\\u001b[2m336\u001b[0m\u001b]8;;\u001b\\\n"
      ]
     },
     "metadata": {},
     "output_type": "display_data"
    },
    {
     "data": {
      "text/html": [
       "<pre style=\"white-space:pre;overflow-x:auto;line-height:normal;font-family:Menlo,'DejaVu Sans Mono',consolas,'Courier New',monospace\"><span style=\"color: #000080; text-decoration-color: #000080\">INFO    </span> <span style=\"font-weight: bold\">[</span>G5k<span style=\"font-weight: bold\">]</span> Waiting for <span style=\"color: #008080; text-decoration-color: #008080; font-weight: bold\">2308911</span> on grenoble <span style=\"font-weight: bold\">[</span><span style=\"color: #008080; text-decoration-color: #008080; font-weight: bold\">2023</span>-<span style=\"color: #008080; text-decoration-color: #008080; font-weight: bold\">10</span>-<span style=\"color: #008080; text-decoration-color: #008080; font-weight: bold\">02</span> <span style=\"color: #00ff00; text-decoration-color: #00ff00; font-weight: bold\">22:27:18</span><span style=\"font-weight: bold\">]</span>     <a href=\"file:///home/mrakotojaonarainimangavelo/formation/enoslib-tutorials/g5k/enoslib_jupyter/lib/python3.9/site-packages/enoslib/infra/enos_g5k/g5k_api_utils.py\" target=\"_blank\"><span style=\"color: #7f7f7f; text-decoration-color: #7f7f7f\">g5k_api_utils.py</span></a><span style=\"color: #7f7f7f; text-decoration-color: #7f7f7f\">:</span><a href=\"file:///home/mrakotojaonarainimangavelo/formation/enoslib-tutorials/g5k/enoslib_jupyter/lib/python3.9/site-packages/enoslib/infra/enos_g5k/g5k_api_utils.py#336\" target=\"_blank\"><span style=\"color: #7f7f7f; text-decoration-color: #7f7f7f\">336</span></a>\n",
       "</pre>\n"
      ],
      "text/plain": [
       "\u001b[34mINFO    \u001b[0m \u001b[1m[\u001b[0mG5k\u001b[1m]\u001b[0m Waiting for \u001b[1;36m2308911\u001b[0m on grenoble \u001b[1m[\u001b[0m\u001b[1;36m2023\u001b[0m-\u001b[1;36m10\u001b[0m-\u001b[1;36m02\u001b[0m \u001b[1;92m22:27:18\u001b[0m\u001b[1m]\u001b[0m     \u001b]8;id=513984;file:///home/mrakotojaonarainimangavelo/formation/enoslib-tutorials/g5k/enoslib_jupyter/lib/python3.9/site-packages/enoslib/infra/enos_g5k/g5k_api_utils.py\u001b\\\u001b[2mg5k_api_utils.py\u001b[0m\u001b]8;;\u001b\\\u001b[2m:\u001b[0m\u001b]8;id=237728;file:///home/mrakotojaonarainimangavelo/formation/enoslib-tutorials/g5k/enoslib_jupyter/lib/python3.9/site-packages/enoslib/infra/enos_g5k/g5k_api_utils.py#336\u001b\\\u001b[2m336\u001b[0m\u001b]8;;\u001b\\\n"
      ]
     },
     "metadata": {},
     "output_type": "display_data"
    },
    {
     "data": {
      "text/html": [
       "<pre style=\"white-space:pre;overflow-x:auto;line-height:normal;font-family:Menlo,'DejaVu Sans Mono',consolas,'Courier New',monospace\"><span style=\"color: #000080; text-decoration-color: #000080\">INFO    </span> <span style=\"font-weight: bold\">[</span>G5k<span style=\"font-weight: bold\">]</span> Waiting for <span style=\"color: #008080; text-decoration-color: #008080; font-weight: bold\">2308911</span> on grenoble <span style=\"font-weight: bold\">[</span><span style=\"color: #008080; text-decoration-color: #008080; font-weight: bold\">2023</span>-<span style=\"color: #008080; text-decoration-color: #008080; font-weight: bold\">10</span>-<span style=\"color: #008080; text-decoration-color: #008080; font-weight: bold\">02</span> <span style=\"color: #00ff00; text-decoration-color: #00ff00; font-weight: bold\">22:27:18</span><span style=\"font-weight: bold\">]</span>     <a href=\"file:///home/mrakotojaonarainimangavelo/formation/enoslib-tutorials/g5k/enoslib_jupyter/lib/python3.9/site-packages/enoslib/infra/enos_g5k/g5k_api_utils.py\" target=\"_blank\"><span style=\"color: #7f7f7f; text-decoration-color: #7f7f7f\">g5k_api_utils.py</span></a><span style=\"color: #7f7f7f; text-decoration-color: #7f7f7f\">:</span><a href=\"file:///home/mrakotojaonarainimangavelo/formation/enoslib-tutorials/g5k/enoslib_jupyter/lib/python3.9/site-packages/enoslib/infra/enos_g5k/g5k_api_utils.py#336\" target=\"_blank\"><span style=\"color: #7f7f7f; text-decoration-color: #7f7f7f\">336</span></a>\n",
       "</pre>\n"
      ],
      "text/plain": [
       "\u001b[34mINFO    \u001b[0m \u001b[1m[\u001b[0mG5k\u001b[1m]\u001b[0m Waiting for \u001b[1;36m2308911\u001b[0m on grenoble \u001b[1m[\u001b[0m\u001b[1;36m2023\u001b[0m-\u001b[1;36m10\u001b[0m-\u001b[1;36m02\u001b[0m \u001b[1;92m22:27:18\u001b[0m\u001b[1m]\u001b[0m     \u001b]8;id=828549;file:///home/mrakotojaonarainimangavelo/formation/enoslib-tutorials/g5k/enoslib_jupyter/lib/python3.9/site-packages/enoslib/infra/enos_g5k/g5k_api_utils.py\u001b\\\u001b[2mg5k_api_utils.py\u001b[0m\u001b]8;;\u001b\\\u001b[2m:\u001b[0m\u001b]8;id=459617;file:///home/mrakotojaonarainimangavelo/formation/enoslib-tutorials/g5k/enoslib_jupyter/lib/python3.9/site-packages/enoslib/infra/enos_g5k/g5k_api_utils.py#336\u001b\\\u001b[2m336\u001b[0m\u001b]8;;\u001b\\\n"
      ]
     },
     "metadata": {},
     "output_type": "display_data"
    },
    {
     "data": {
      "text/html": [
       "<pre style=\"white-space:pre;overflow-x:auto;line-height:normal;font-family:Menlo,'DejaVu Sans Mono',consolas,'Courier New',monospace\"><span style=\"color: #000080; text-decoration-color: #000080\">INFO    </span> <span style=\"font-weight: bold\">[</span>G5k<span style=\"font-weight: bold\">]</span> Waiting for <span style=\"color: #008080; text-decoration-color: #008080; font-weight: bold\">2308911</span> on grenoble <span style=\"font-weight: bold\">[</span><span style=\"color: #008080; text-decoration-color: #008080; font-weight: bold\">2023</span>-<span style=\"color: #008080; text-decoration-color: #008080; font-weight: bold\">10</span>-<span style=\"color: #008080; text-decoration-color: #008080; font-weight: bold\">02</span> <span style=\"color: #00ff00; text-decoration-color: #00ff00; font-weight: bold\">22:27:18</span><span style=\"font-weight: bold\">]</span>     <a href=\"file:///home/mrakotojaonarainimangavelo/formation/enoslib-tutorials/g5k/enoslib_jupyter/lib/python3.9/site-packages/enoslib/infra/enos_g5k/g5k_api_utils.py\" target=\"_blank\"><span style=\"color: #7f7f7f; text-decoration-color: #7f7f7f\">g5k_api_utils.py</span></a><span style=\"color: #7f7f7f; text-decoration-color: #7f7f7f\">:</span><a href=\"file:///home/mrakotojaonarainimangavelo/formation/enoslib-tutorials/g5k/enoslib_jupyter/lib/python3.9/site-packages/enoslib/infra/enos_g5k/g5k_api_utils.py#336\" target=\"_blank\"><span style=\"color: #7f7f7f; text-decoration-color: #7f7f7f\">336</span></a>\n",
       "</pre>\n"
      ],
      "text/plain": [
       "\u001b[34mINFO    \u001b[0m \u001b[1m[\u001b[0mG5k\u001b[1m]\u001b[0m Waiting for \u001b[1;36m2308911\u001b[0m on grenoble \u001b[1m[\u001b[0m\u001b[1;36m2023\u001b[0m-\u001b[1;36m10\u001b[0m-\u001b[1;36m02\u001b[0m \u001b[1;92m22:27:18\u001b[0m\u001b[1m]\u001b[0m     \u001b]8;id=173316;file:///home/mrakotojaonarainimangavelo/formation/enoslib-tutorials/g5k/enoslib_jupyter/lib/python3.9/site-packages/enoslib/infra/enos_g5k/g5k_api_utils.py\u001b\\\u001b[2mg5k_api_utils.py\u001b[0m\u001b]8;;\u001b\\\u001b[2m:\u001b[0m\u001b]8;id=270389;file:///home/mrakotojaonarainimangavelo/formation/enoslib-tutorials/g5k/enoslib_jupyter/lib/python3.9/site-packages/enoslib/infra/enos_g5k/g5k_api_utils.py#336\u001b\\\u001b[2m336\u001b[0m\u001b]8;;\u001b\\\n"
      ]
     },
     "metadata": {},
     "output_type": "display_data"
    },
    {
     "data": {
      "text/html": [
       "<pre style=\"white-space:pre;overflow-x:auto;line-height:normal;font-family:Menlo,'DejaVu Sans Mono',consolas,'Courier New',monospace\"><span style=\"color: #000080; text-decoration-color: #000080\">INFO    </span> <span style=\"font-weight: bold\">[</span>G5k<span style=\"font-weight: bold\">]</span> Waiting for <span style=\"color: #008080; text-decoration-color: #008080; font-weight: bold\">2308911</span> on grenoble <span style=\"font-weight: bold\">[</span><span style=\"color: #008080; text-decoration-color: #008080; font-weight: bold\">2023</span>-<span style=\"color: #008080; text-decoration-color: #008080; font-weight: bold\">10</span>-<span style=\"color: #008080; text-decoration-color: #008080; font-weight: bold\">02</span> <span style=\"color: #00ff00; text-decoration-color: #00ff00; font-weight: bold\">22:27:18</span><span style=\"font-weight: bold\">]</span>     <a href=\"file:///home/mrakotojaonarainimangavelo/formation/enoslib-tutorials/g5k/enoslib_jupyter/lib/python3.9/site-packages/enoslib/infra/enos_g5k/g5k_api_utils.py\" target=\"_blank\"><span style=\"color: #7f7f7f; text-decoration-color: #7f7f7f\">g5k_api_utils.py</span></a><span style=\"color: #7f7f7f; text-decoration-color: #7f7f7f\">:</span><a href=\"file:///home/mrakotojaonarainimangavelo/formation/enoslib-tutorials/g5k/enoslib_jupyter/lib/python3.9/site-packages/enoslib/infra/enos_g5k/g5k_api_utils.py#336\" target=\"_blank\"><span style=\"color: #7f7f7f; text-decoration-color: #7f7f7f\">336</span></a>\n",
       "</pre>\n"
      ],
      "text/plain": [
       "\u001b[34mINFO    \u001b[0m \u001b[1m[\u001b[0mG5k\u001b[1m]\u001b[0m Waiting for \u001b[1;36m2308911\u001b[0m on grenoble \u001b[1m[\u001b[0m\u001b[1;36m2023\u001b[0m-\u001b[1;36m10\u001b[0m-\u001b[1;36m02\u001b[0m \u001b[1;92m22:27:18\u001b[0m\u001b[1m]\u001b[0m     \u001b]8;id=142051;file:///home/mrakotojaonarainimangavelo/formation/enoslib-tutorials/g5k/enoslib_jupyter/lib/python3.9/site-packages/enoslib/infra/enos_g5k/g5k_api_utils.py\u001b\\\u001b[2mg5k_api_utils.py\u001b[0m\u001b]8;;\u001b\\\u001b[2m:\u001b[0m\u001b]8;id=909823;file:///home/mrakotojaonarainimangavelo/formation/enoslib-tutorials/g5k/enoslib_jupyter/lib/python3.9/site-packages/enoslib/infra/enos_g5k/g5k_api_utils.py#336\u001b\\\u001b[2m336\u001b[0m\u001b]8;;\u001b\\\n"
      ]
     },
     "metadata": {},
     "output_type": "display_data"
    },
    {
     "data": {
      "text/html": [
       "<pre style=\"white-space:pre;overflow-x:auto;line-height:normal;font-family:Menlo,'DejaVu Sans Mono',consolas,'Courier New',monospace\"><span style=\"color: #000080; text-decoration-color: #000080\">INFO    </span> <span style=\"font-weight: bold\">[</span>G5k<span style=\"font-weight: bold\">]</span> Waiting for <span style=\"color: #008080; text-decoration-color: #008080; font-weight: bold\">2308911</span> on grenoble <span style=\"font-weight: bold\">[</span><span style=\"color: #008080; text-decoration-color: #008080; font-weight: bold\">2023</span>-<span style=\"color: #008080; text-decoration-color: #008080; font-weight: bold\">10</span>-<span style=\"color: #008080; text-decoration-color: #008080; font-weight: bold\">02</span> <span style=\"color: #00ff00; text-decoration-color: #00ff00; font-weight: bold\">22:27:18</span><span style=\"font-weight: bold\">]</span>     <a href=\"file:///home/mrakotojaonarainimangavelo/formation/enoslib-tutorials/g5k/enoslib_jupyter/lib/python3.9/site-packages/enoslib/infra/enos_g5k/g5k_api_utils.py\" target=\"_blank\"><span style=\"color: #7f7f7f; text-decoration-color: #7f7f7f\">g5k_api_utils.py</span></a><span style=\"color: #7f7f7f; text-decoration-color: #7f7f7f\">:</span><a href=\"file:///home/mrakotojaonarainimangavelo/formation/enoslib-tutorials/g5k/enoslib_jupyter/lib/python3.9/site-packages/enoslib/infra/enos_g5k/g5k_api_utils.py#336\" target=\"_blank\"><span style=\"color: #7f7f7f; text-decoration-color: #7f7f7f\">336</span></a>\n",
       "</pre>\n"
      ],
      "text/plain": [
       "\u001b[34mINFO    \u001b[0m \u001b[1m[\u001b[0mG5k\u001b[1m]\u001b[0m Waiting for \u001b[1;36m2308911\u001b[0m on grenoble \u001b[1m[\u001b[0m\u001b[1;36m2023\u001b[0m-\u001b[1;36m10\u001b[0m-\u001b[1;36m02\u001b[0m \u001b[1;92m22:27:18\u001b[0m\u001b[1m]\u001b[0m     \u001b]8;id=416802;file:///home/mrakotojaonarainimangavelo/formation/enoslib-tutorials/g5k/enoslib_jupyter/lib/python3.9/site-packages/enoslib/infra/enos_g5k/g5k_api_utils.py\u001b\\\u001b[2mg5k_api_utils.py\u001b[0m\u001b]8;;\u001b\\\u001b[2m:\u001b[0m\u001b]8;id=563774;file:///home/mrakotojaonarainimangavelo/formation/enoslib-tutorials/g5k/enoslib_jupyter/lib/python3.9/site-packages/enoslib/infra/enos_g5k/g5k_api_utils.py#336\u001b\\\u001b[2m336\u001b[0m\u001b]8;;\u001b\\\n"
      ]
     },
     "metadata": {},
     "output_type": "display_data"
    },
    {
     "data": {
      "text/html": [
       "<pre style=\"white-space:pre;overflow-x:auto;line-height:normal;font-family:Menlo,'DejaVu Sans Mono',consolas,'Courier New',monospace\"><span style=\"color: #000080; text-decoration-color: #000080\">INFO    </span> <span style=\"font-weight: bold\">[</span>G5k<span style=\"font-weight: bold\">]</span> Waiting for <span style=\"color: #008080; text-decoration-color: #008080; font-weight: bold\">2308911</span> on grenoble <span style=\"font-weight: bold\">[</span><span style=\"color: #008080; text-decoration-color: #008080; font-weight: bold\">2023</span>-<span style=\"color: #008080; text-decoration-color: #008080; font-weight: bold\">10</span>-<span style=\"color: #008080; text-decoration-color: #008080; font-weight: bold\">02</span> <span style=\"color: #00ff00; text-decoration-color: #00ff00; font-weight: bold\">22:27:18</span><span style=\"font-weight: bold\">]</span>     <a href=\"file:///home/mrakotojaonarainimangavelo/formation/enoslib-tutorials/g5k/enoslib_jupyter/lib/python3.9/site-packages/enoslib/infra/enos_g5k/g5k_api_utils.py\" target=\"_blank\"><span style=\"color: #7f7f7f; text-decoration-color: #7f7f7f\">g5k_api_utils.py</span></a><span style=\"color: #7f7f7f; text-decoration-color: #7f7f7f\">:</span><a href=\"file:///home/mrakotojaonarainimangavelo/formation/enoslib-tutorials/g5k/enoslib_jupyter/lib/python3.9/site-packages/enoslib/infra/enos_g5k/g5k_api_utils.py#336\" target=\"_blank\"><span style=\"color: #7f7f7f; text-decoration-color: #7f7f7f\">336</span></a>\n",
       "</pre>\n"
      ],
      "text/plain": [
       "\u001b[34mINFO    \u001b[0m \u001b[1m[\u001b[0mG5k\u001b[1m]\u001b[0m Waiting for \u001b[1;36m2308911\u001b[0m on grenoble \u001b[1m[\u001b[0m\u001b[1;36m2023\u001b[0m-\u001b[1;36m10\u001b[0m-\u001b[1;36m02\u001b[0m \u001b[1;92m22:27:18\u001b[0m\u001b[1m]\u001b[0m     \u001b]8;id=235433;file:///home/mrakotojaonarainimangavelo/formation/enoslib-tutorials/g5k/enoslib_jupyter/lib/python3.9/site-packages/enoslib/infra/enos_g5k/g5k_api_utils.py\u001b\\\u001b[2mg5k_api_utils.py\u001b[0m\u001b]8;;\u001b\\\u001b[2m:\u001b[0m\u001b]8;id=435631;file:///home/mrakotojaonarainimangavelo/formation/enoslib-tutorials/g5k/enoslib_jupyter/lib/python3.9/site-packages/enoslib/infra/enos_g5k/g5k_api_utils.py#336\u001b\\\u001b[2m336\u001b[0m\u001b]8;;\u001b\\\n"
      ]
     },
     "metadata": {},
     "output_type": "display_data"
    },
    {
     "data": {
      "text/html": [
       "<pre style=\"white-space:pre;overflow-x:auto;line-height:normal;font-family:Menlo,'DejaVu Sans Mono',consolas,'Courier New',monospace\"><span style=\"color: #000080; text-decoration-color: #000080\">INFO    </span> <span style=\"font-weight: bold\">[</span>G5k<span style=\"font-weight: bold\">]</span> Waiting for <span style=\"color: #008080; text-decoration-color: #008080; font-weight: bold\">2308911</span> on grenoble <span style=\"font-weight: bold\">[</span><span style=\"color: #008080; text-decoration-color: #008080; font-weight: bold\">2023</span>-<span style=\"color: #008080; text-decoration-color: #008080; font-weight: bold\">10</span>-<span style=\"color: #008080; text-decoration-color: #008080; font-weight: bold\">02</span> <span style=\"color: #00ff00; text-decoration-color: #00ff00; font-weight: bold\">22:27:18</span><span style=\"font-weight: bold\">]</span>     <a href=\"file:///home/mrakotojaonarainimangavelo/formation/enoslib-tutorials/g5k/enoslib_jupyter/lib/python3.9/site-packages/enoslib/infra/enos_g5k/g5k_api_utils.py\" target=\"_blank\"><span style=\"color: #7f7f7f; text-decoration-color: #7f7f7f\">g5k_api_utils.py</span></a><span style=\"color: #7f7f7f; text-decoration-color: #7f7f7f\">:</span><a href=\"file:///home/mrakotojaonarainimangavelo/formation/enoslib-tutorials/g5k/enoslib_jupyter/lib/python3.9/site-packages/enoslib/infra/enos_g5k/g5k_api_utils.py#336\" target=\"_blank\"><span style=\"color: #7f7f7f; text-decoration-color: #7f7f7f\">336</span></a>\n",
       "</pre>\n"
      ],
      "text/plain": [
       "\u001b[34mINFO    \u001b[0m \u001b[1m[\u001b[0mG5k\u001b[1m]\u001b[0m Waiting for \u001b[1;36m2308911\u001b[0m on grenoble \u001b[1m[\u001b[0m\u001b[1;36m2023\u001b[0m-\u001b[1;36m10\u001b[0m-\u001b[1;36m02\u001b[0m \u001b[1;92m22:27:18\u001b[0m\u001b[1m]\u001b[0m     \u001b]8;id=605053;file:///home/mrakotojaonarainimangavelo/formation/enoslib-tutorials/g5k/enoslib_jupyter/lib/python3.9/site-packages/enoslib/infra/enos_g5k/g5k_api_utils.py\u001b\\\u001b[2mg5k_api_utils.py\u001b[0m\u001b]8;;\u001b\\\u001b[2m:\u001b[0m\u001b]8;id=532462;file:///home/mrakotojaonarainimangavelo/formation/enoslib-tutorials/g5k/enoslib_jupyter/lib/python3.9/site-packages/enoslib/infra/enos_g5k/g5k_api_utils.py#336\u001b\\\u001b[2m336\u001b[0m\u001b]8;;\u001b\\\n"
      ]
     },
     "metadata": {},
     "output_type": "display_data"
    },
    {
     "data": {
      "text/html": [
       "<pre style=\"white-space:pre;overflow-x:auto;line-height:normal;font-family:Menlo,'DejaVu Sans Mono',consolas,'Courier New',monospace\"><span style=\"color: #000080; text-decoration-color: #000080\">INFO    </span> <span style=\"font-weight: bold\">[</span>G5k<span style=\"font-weight: bold\">]</span> Waiting for <span style=\"color: #008080; text-decoration-color: #008080; font-weight: bold\">2308911</span> on grenoble <span style=\"font-weight: bold\">[</span><span style=\"color: #008080; text-decoration-color: #008080; font-weight: bold\">2023</span>-<span style=\"color: #008080; text-decoration-color: #008080; font-weight: bold\">10</span>-<span style=\"color: #008080; text-decoration-color: #008080; font-weight: bold\">02</span> <span style=\"color: #00ff00; text-decoration-color: #00ff00; font-weight: bold\">22:27:18</span><span style=\"font-weight: bold\">]</span>     <a href=\"file:///home/mrakotojaonarainimangavelo/formation/enoslib-tutorials/g5k/enoslib_jupyter/lib/python3.9/site-packages/enoslib/infra/enos_g5k/g5k_api_utils.py\" target=\"_blank\"><span style=\"color: #7f7f7f; text-decoration-color: #7f7f7f\">g5k_api_utils.py</span></a><span style=\"color: #7f7f7f; text-decoration-color: #7f7f7f\">:</span><a href=\"file:///home/mrakotojaonarainimangavelo/formation/enoslib-tutorials/g5k/enoslib_jupyter/lib/python3.9/site-packages/enoslib/infra/enos_g5k/g5k_api_utils.py#336\" target=\"_blank\"><span style=\"color: #7f7f7f; text-decoration-color: #7f7f7f\">336</span></a>\n",
       "</pre>\n"
      ],
      "text/plain": [
       "\u001b[34mINFO    \u001b[0m \u001b[1m[\u001b[0mG5k\u001b[1m]\u001b[0m Waiting for \u001b[1;36m2308911\u001b[0m on grenoble \u001b[1m[\u001b[0m\u001b[1;36m2023\u001b[0m-\u001b[1;36m10\u001b[0m-\u001b[1;36m02\u001b[0m \u001b[1;92m22:27:18\u001b[0m\u001b[1m]\u001b[0m     \u001b]8;id=429595;file:///home/mrakotojaonarainimangavelo/formation/enoslib-tutorials/g5k/enoslib_jupyter/lib/python3.9/site-packages/enoslib/infra/enos_g5k/g5k_api_utils.py\u001b\\\u001b[2mg5k_api_utils.py\u001b[0m\u001b]8;;\u001b\\\u001b[2m:\u001b[0m\u001b]8;id=735435;file:///home/mrakotojaonarainimangavelo/formation/enoslib-tutorials/g5k/enoslib_jupyter/lib/python3.9/site-packages/enoslib/infra/enos_g5k/g5k_api_utils.py#336\u001b\\\u001b[2m336\u001b[0m\u001b]8;;\u001b\\\n"
      ]
     },
     "metadata": {},
     "output_type": "display_data"
    },
    {
     "data": {
      "text/html": [
       "<pre style=\"white-space:pre;overflow-x:auto;line-height:normal;font-family:Menlo,'DejaVu Sans Mono',consolas,'Courier New',monospace\"><span style=\"color: #000080; text-decoration-color: #000080\">INFO    </span> <span style=\"font-weight: bold\">[</span>G5k<span style=\"font-weight: bold\">]</span> Waiting for <span style=\"color: #008080; text-decoration-color: #008080; font-weight: bold\">2308911</span> on grenoble <span style=\"font-weight: bold\">[</span><span style=\"color: #008080; text-decoration-color: #008080; font-weight: bold\">2023</span>-<span style=\"color: #008080; text-decoration-color: #008080; font-weight: bold\">10</span>-<span style=\"color: #008080; text-decoration-color: #008080; font-weight: bold\">02</span> <span style=\"color: #00ff00; text-decoration-color: #00ff00; font-weight: bold\">22:28:21</span><span style=\"font-weight: bold\">]</span>     <a href=\"file:///home/mrakotojaonarainimangavelo/formation/enoslib-tutorials/g5k/enoslib_jupyter/lib/python3.9/site-packages/enoslib/infra/enos_g5k/g5k_api_utils.py\" target=\"_blank\"><span style=\"color: #7f7f7f; text-decoration-color: #7f7f7f\">g5k_api_utils.py</span></a><span style=\"color: #7f7f7f; text-decoration-color: #7f7f7f\">:</span><a href=\"file:///home/mrakotojaonarainimangavelo/formation/enoslib-tutorials/g5k/enoslib_jupyter/lib/python3.9/site-packages/enoslib/infra/enos_g5k/g5k_api_utils.py#336\" target=\"_blank\"><span style=\"color: #7f7f7f; text-decoration-color: #7f7f7f\">336</span></a>\n",
       "</pre>\n"
      ],
      "text/plain": [
       "\u001b[34mINFO    \u001b[0m \u001b[1m[\u001b[0mG5k\u001b[1m]\u001b[0m Waiting for \u001b[1;36m2308911\u001b[0m on grenoble \u001b[1m[\u001b[0m\u001b[1;36m2023\u001b[0m-\u001b[1;36m10\u001b[0m-\u001b[1;36m02\u001b[0m \u001b[1;92m22:28:21\u001b[0m\u001b[1m]\u001b[0m     \u001b]8;id=97400;file:///home/mrakotojaonarainimangavelo/formation/enoslib-tutorials/g5k/enoslib_jupyter/lib/python3.9/site-packages/enoslib/infra/enos_g5k/g5k_api_utils.py\u001b\\\u001b[2mg5k_api_utils.py\u001b[0m\u001b]8;;\u001b\\\u001b[2m:\u001b[0m\u001b]8;id=520273;file:///home/mrakotojaonarainimangavelo/formation/enoslib-tutorials/g5k/enoslib_jupyter/lib/python3.9/site-packages/enoslib/infra/enos_g5k/g5k_api_utils.py#336\u001b\\\u001b[2m336\u001b[0m\u001b]8;;\u001b\\\n"
      ]
     },
     "metadata": {},
     "output_type": "display_data"
    },
    {
     "data": {
      "text/html": [
       "<pre style=\"white-space:pre;overflow-x:auto;line-height:normal;font-family:Menlo,'DejaVu Sans Mono',consolas,'Courier New',monospace\"><span style=\"color: #000080; text-decoration-color: #000080\">INFO    </span> <span style=\"font-weight: bold\">[</span>G5k<span style=\"font-weight: bold\">]</span> Waiting for <span style=\"color: #008080; text-decoration-color: #008080; font-weight: bold\">2308911</span> on grenoble <span style=\"font-weight: bold\">[</span><span style=\"color: #008080; text-decoration-color: #008080; font-weight: bold\">2023</span>-<span style=\"color: #008080; text-decoration-color: #008080; font-weight: bold\">10</span>-<span style=\"color: #008080; text-decoration-color: #008080; font-weight: bold\">02</span> <span style=\"color: #00ff00; text-decoration-color: #00ff00; font-weight: bold\">22:28:21</span><span style=\"font-weight: bold\">]</span>     <a href=\"file:///home/mrakotojaonarainimangavelo/formation/enoslib-tutorials/g5k/enoslib_jupyter/lib/python3.9/site-packages/enoslib/infra/enos_g5k/g5k_api_utils.py\" target=\"_blank\"><span style=\"color: #7f7f7f; text-decoration-color: #7f7f7f\">g5k_api_utils.py</span></a><span style=\"color: #7f7f7f; text-decoration-color: #7f7f7f\">:</span><a href=\"file:///home/mrakotojaonarainimangavelo/formation/enoslib-tutorials/g5k/enoslib_jupyter/lib/python3.9/site-packages/enoslib/infra/enos_g5k/g5k_api_utils.py#336\" target=\"_blank\"><span style=\"color: #7f7f7f; text-decoration-color: #7f7f7f\">336</span></a>\n",
       "</pre>\n"
      ],
      "text/plain": [
       "\u001b[34mINFO    \u001b[0m \u001b[1m[\u001b[0mG5k\u001b[1m]\u001b[0m Waiting for \u001b[1;36m2308911\u001b[0m on grenoble \u001b[1m[\u001b[0m\u001b[1;36m2023\u001b[0m-\u001b[1;36m10\u001b[0m-\u001b[1;36m02\u001b[0m \u001b[1;92m22:28:21\u001b[0m\u001b[1m]\u001b[0m     \u001b]8;id=890981;file:///home/mrakotojaonarainimangavelo/formation/enoslib-tutorials/g5k/enoslib_jupyter/lib/python3.9/site-packages/enoslib/infra/enos_g5k/g5k_api_utils.py\u001b\\\u001b[2mg5k_api_utils.py\u001b[0m\u001b]8;;\u001b\\\u001b[2m:\u001b[0m\u001b]8;id=323767;file:///home/mrakotojaonarainimangavelo/formation/enoslib-tutorials/g5k/enoslib_jupyter/lib/python3.9/site-packages/enoslib/infra/enos_g5k/g5k_api_utils.py#336\u001b\\\u001b[2m336\u001b[0m\u001b]8;;\u001b\\\n"
      ]
     },
     "metadata": {},
     "output_type": "display_data"
    },
    {
     "data": {
      "text/html": [
       "<pre style=\"white-space:pre;overflow-x:auto;line-height:normal;font-family:Menlo,'DejaVu Sans Mono',consolas,'Courier New',monospace\"><span style=\"color: #000080; text-decoration-color: #000080\">INFO    </span> <span style=\"font-weight: bold\">[</span>G5k<span style=\"font-weight: bold\">]</span> Waiting for <span style=\"color: #008080; text-decoration-color: #008080; font-weight: bold\">2308911</span> on grenoble <span style=\"font-weight: bold\">[</span><span style=\"color: #008080; text-decoration-color: #008080; font-weight: bold\">2023</span>-<span style=\"color: #008080; text-decoration-color: #008080; font-weight: bold\">10</span>-<span style=\"color: #008080; text-decoration-color: #008080; font-weight: bold\">02</span> <span style=\"color: #00ff00; text-decoration-color: #00ff00; font-weight: bold\">22:28:21</span><span style=\"font-weight: bold\">]</span>     <a href=\"file:///home/mrakotojaonarainimangavelo/formation/enoslib-tutorials/g5k/enoslib_jupyter/lib/python3.9/site-packages/enoslib/infra/enos_g5k/g5k_api_utils.py\" target=\"_blank\"><span style=\"color: #7f7f7f; text-decoration-color: #7f7f7f\">g5k_api_utils.py</span></a><span style=\"color: #7f7f7f; text-decoration-color: #7f7f7f\">:</span><a href=\"file:///home/mrakotojaonarainimangavelo/formation/enoslib-tutorials/g5k/enoslib_jupyter/lib/python3.9/site-packages/enoslib/infra/enos_g5k/g5k_api_utils.py#336\" target=\"_blank\"><span style=\"color: #7f7f7f; text-decoration-color: #7f7f7f\">336</span></a>\n",
       "</pre>\n"
      ],
      "text/plain": [
       "\u001b[34mINFO    \u001b[0m \u001b[1m[\u001b[0mG5k\u001b[1m]\u001b[0m Waiting for \u001b[1;36m2308911\u001b[0m on grenoble \u001b[1m[\u001b[0m\u001b[1;36m2023\u001b[0m-\u001b[1;36m10\u001b[0m-\u001b[1;36m02\u001b[0m \u001b[1;92m22:28:21\u001b[0m\u001b[1m]\u001b[0m     \u001b]8;id=489685;file:///home/mrakotojaonarainimangavelo/formation/enoslib-tutorials/g5k/enoslib_jupyter/lib/python3.9/site-packages/enoslib/infra/enos_g5k/g5k_api_utils.py\u001b\\\u001b[2mg5k_api_utils.py\u001b[0m\u001b]8;;\u001b\\\u001b[2m:\u001b[0m\u001b]8;id=344105;file:///home/mrakotojaonarainimangavelo/formation/enoslib-tutorials/g5k/enoslib_jupyter/lib/python3.9/site-packages/enoslib/infra/enos_g5k/g5k_api_utils.py#336\u001b\\\u001b[2m336\u001b[0m\u001b]8;;\u001b\\\n"
      ]
     },
     "metadata": {},
     "output_type": "display_data"
    },
    {
     "data": {
      "text/html": [
       "<pre style=\"white-space:pre;overflow-x:auto;line-height:normal;font-family:Menlo,'DejaVu Sans Mono',consolas,'Courier New',monospace\"><span style=\"color: #000080; text-decoration-color: #000080\">INFO    </span> <span style=\"font-weight: bold\">[</span>G5k<span style=\"font-weight: bold\">]</span> Waiting for <span style=\"color: #008080; text-decoration-color: #008080; font-weight: bold\">2308911</span> on grenoble <span style=\"font-weight: bold\">[</span><span style=\"color: #008080; text-decoration-color: #008080; font-weight: bold\">2023</span>-<span style=\"color: #008080; text-decoration-color: #008080; font-weight: bold\">10</span>-<span style=\"color: #008080; text-decoration-color: #008080; font-weight: bold\">02</span> <span style=\"color: #00ff00; text-decoration-color: #00ff00; font-weight: bold\">22:28:21</span><span style=\"font-weight: bold\">]</span>     <a href=\"file:///home/mrakotojaonarainimangavelo/formation/enoslib-tutorials/g5k/enoslib_jupyter/lib/python3.9/site-packages/enoslib/infra/enos_g5k/g5k_api_utils.py\" target=\"_blank\"><span style=\"color: #7f7f7f; text-decoration-color: #7f7f7f\">g5k_api_utils.py</span></a><span style=\"color: #7f7f7f; text-decoration-color: #7f7f7f\">:</span><a href=\"file:///home/mrakotojaonarainimangavelo/formation/enoslib-tutorials/g5k/enoslib_jupyter/lib/python3.9/site-packages/enoslib/infra/enos_g5k/g5k_api_utils.py#336\" target=\"_blank\"><span style=\"color: #7f7f7f; text-decoration-color: #7f7f7f\">336</span></a>\n",
       "</pre>\n"
      ],
      "text/plain": [
       "\u001b[34mINFO    \u001b[0m \u001b[1m[\u001b[0mG5k\u001b[1m]\u001b[0m Waiting for \u001b[1;36m2308911\u001b[0m on grenoble \u001b[1m[\u001b[0m\u001b[1;36m2023\u001b[0m-\u001b[1;36m10\u001b[0m-\u001b[1;36m02\u001b[0m \u001b[1;92m22:28:21\u001b[0m\u001b[1m]\u001b[0m     \u001b]8;id=813157;file:///home/mrakotojaonarainimangavelo/formation/enoslib-tutorials/g5k/enoslib_jupyter/lib/python3.9/site-packages/enoslib/infra/enos_g5k/g5k_api_utils.py\u001b\\\u001b[2mg5k_api_utils.py\u001b[0m\u001b]8;;\u001b\\\u001b[2m:\u001b[0m\u001b]8;id=193079;file:///home/mrakotojaonarainimangavelo/formation/enoslib-tutorials/g5k/enoslib_jupyter/lib/python3.9/site-packages/enoslib/infra/enos_g5k/g5k_api_utils.py#336\u001b\\\u001b[2m336\u001b[0m\u001b]8;;\u001b\\\n"
      ]
     },
     "metadata": {},
     "output_type": "display_data"
    },
    {
     "data": {
      "text/html": [
       "<pre style=\"white-space:pre;overflow-x:auto;line-height:normal;font-family:Menlo,'DejaVu Sans Mono',consolas,'Courier New',monospace\"><span style=\"color: #000080; text-decoration-color: #000080\">INFO    </span> <span style=\"font-weight: bold\">[</span>G5k<span style=\"font-weight: bold\">]</span> Waiting for <span style=\"color: #008080; text-decoration-color: #008080; font-weight: bold\">2308911</span> on grenoble <span style=\"font-weight: bold\">[</span><span style=\"color: #008080; text-decoration-color: #008080; font-weight: bold\">2023</span>-<span style=\"color: #008080; text-decoration-color: #008080; font-weight: bold\">10</span>-<span style=\"color: #008080; text-decoration-color: #008080; font-weight: bold\">02</span> <span style=\"color: #00ff00; text-decoration-color: #00ff00; font-weight: bold\">22:28:41</span><span style=\"font-weight: bold\">]</span>     <a href=\"file:///home/mrakotojaonarainimangavelo/formation/enoslib-tutorials/g5k/enoslib_jupyter/lib/python3.9/site-packages/enoslib/infra/enos_g5k/g5k_api_utils.py\" target=\"_blank\"><span style=\"color: #7f7f7f; text-decoration-color: #7f7f7f\">g5k_api_utils.py</span></a><span style=\"color: #7f7f7f; text-decoration-color: #7f7f7f\">:</span><a href=\"file:///home/mrakotojaonarainimangavelo/formation/enoslib-tutorials/g5k/enoslib_jupyter/lib/python3.9/site-packages/enoslib/infra/enos_g5k/g5k_api_utils.py#336\" target=\"_blank\"><span style=\"color: #7f7f7f; text-decoration-color: #7f7f7f\">336</span></a>\n",
       "</pre>\n"
      ],
      "text/plain": [
       "\u001b[34mINFO    \u001b[0m \u001b[1m[\u001b[0mG5k\u001b[1m]\u001b[0m Waiting for \u001b[1;36m2308911\u001b[0m on grenoble \u001b[1m[\u001b[0m\u001b[1;36m2023\u001b[0m-\u001b[1;36m10\u001b[0m-\u001b[1;36m02\u001b[0m \u001b[1;92m22:28:41\u001b[0m\u001b[1m]\u001b[0m     \u001b]8;id=100429;file:///home/mrakotojaonarainimangavelo/formation/enoslib-tutorials/g5k/enoslib_jupyter/lib/python3.9/site-packages/enoslib/infra/enos_g5k/g5k_api_utils.py\u001b\\\u001b[2mg5k_api_utils.py\u001b[0m\u001b]8;;\u001b\\\u001b[2m:\u001b[0m\u001b]8;id=796135;file:///home/mrakotojaonarainimangavelo/formation/enoslib-tutorials/g5k/enoslib_jupyter/lib/python3.9/site-packages/enoslib/infra/enos_g5k/g5k_api_utils.py#336\u001b\\\u001b[2m336\u001b[0m\u001b]8;;\u001b\\\n"
      ]
     },
     "metadata": {},
     "output_type": "display_data"
    },
    {
     "data": {
      "text/html": [
       "<pre style=\"white-space:pre;overflow-x:auto;line-height:normal;font-family:Menlo,'DejaVu Sans Mono',consolas,'Courier New',monospace\"><span style=\"color: #000080; text-decoration-color: #000080\">INFO    </span> <span style=\"font-weight: bold\">[</span>G5k<span style=\"font-weight: bold\">]</span> Waiting for <span style=\"color: #008080; text-decoration-color: #008080; font-weight: bold\">2308911</span> on grenoble <span style=\"font-weight: bold\">[</span><span style=\"color: #008080; text-decoration-color: #008080; font-weight: bold\">2023</span>-<span style=\"color: #008080; text-decoration-color: #008080; font-weight: bold\">10</span>-<span style=\"color: #008080; text-decoration-color: #008080; font-weight: bold\">02</span> <span style=\"color: #00ff00; text-decoration-color: #00ff00; font-weight: bold\">22:28:41</span><span style=\"font-weight: bold\">]</span>     <a href=\"file:///home/mrakotojaonarainimangavelo/formation/enoslib-tutorials/g5k/enoslib_jupyter/lib/python3.9/site-packages/enoslib/infra/enos_g5k/g5k_api_utils.py\" target=\"_blank\"><span style=\"color: #7f7f7f; text-decoration-color: #7f7f7f\">g5k_api_utils.py</span></a><span style=\"color: #7f7f7f; text-decoration-color: #7f7f7f\">:</span><a href=\"file:///home/mrakotojaonarainimangavelo/formation/enoslib-tutorials/g5k/enoslib_jupyter/lib/python3.9/site-packages/enoslib/infra/enos_g5k/g5k_api_utils.py#336\" target=\"_blank\"><span style=\"color: #7f7f7f; text-decoration-color: #7f7f7f\">336</span></a>\n",
       "</pre>\n"
      ],
      "text/plain": [
       "\u001b[34mINFO    \u001b[0m \u001b[1m[\u001b[0mG5k\u001b[1m]\u001b[0m Waiting for \u001b[1;36m2308911\u001b[0m on grenoble \u001b[1m[\u001b[0m\u001b[1;36m2023\u001b[0m-\u001b[1;36m10\u001b[0m-\u001b[1;36m02\u001b[0m \u001b[1;92m22:28:41\u001b[0m\u001b[1m]\u001b[0m     \u001b]8;id=60704;file:///home/mrakotojaonarainimangavelo/formation/enoslib-tutorials/g5k/enoslib_jupyter/lib/python3.9/site-packages/enoslib/infra/enos_g5k/g5k_api_utils.py\u001b\\\u001b[2mg5k_api_utils.py\u001b[0m\u001b]8;;\u001b\\\u001b[2m:\u001b[0m\u001b]8;id=358515;file:///home/mrakotojaonarainimangavelo/formation/enoslib-tutorials/g5k/enoslib_jupyter/lib/python3.9/site-packages/enoslib/infra/enos_g5k/g5k_api_utils.py#336\u001b\\\u001b[2m336\u001b[0m\u001b]8;;\u001b\\\n"
      ]
     },
     "metadata": {},
     "output_type": "display_data"
    },
    {
     "data": {
      "text/html": [
       "<pre style=\"white-space:pre;overflow-x:auto;line-height:normal;font-family:Menlo,'DejaVu Sans Mono',consolas,'Courier New',monospace\"><span style=\"color: #000080; text-decoration-color: #000080\">INFO    </span> <span style=\"font-weight: bold\">[</span>G5k<span style=\"font-weight: bold\">]</span> All jobs are Running !                                    <a href=\"file:///home/mrakotojaonarainimangavelo/formation/enoslib-tutorials/g5k/enoslib_jupyter/lib/python3.9/site-packages/enoslib/infra/enos_g5k/g5k_api_utils.py\" target=\"_blank\"><span style=\"color: #7f7f7f; text-decoration-color: #7f7f7f\">g5k_api_utils.py</span></a><span style=\"color: #7f7f7f; text-decoration-color: #7f7f7f\">:</span><a href=\"file:///home/mrakotojaonarainimangavelo/formation/enoslib-tutorials/g5k/enoslib_jupyter/lib/python3.9/site-packages/enoslib/infra/enos_g5k/g5k_api_utils.py#342\" target=\"_blank\"><span style=\"color: #7f7f7f; text-decoration-color: #7f7f7f\">342</span></a>\n",
       "</pre>\n"
      ],
      "text/plain": [
       "\u001b[34mINFO    \u001b[0m \u001b[1m[\u001b[0mG5k\u001b[1m]\u001b[0m All jobs are Running !                                    \u001b]8;id=926771;file:///home/mrakotojaonarainimangavelo/formation/enoslib-tutorials/g5k/enoslib_jupyter/lib/python3.9/site-packages/enoslib/infra/enos_g5k/g5k_api_utils.py\u001b\\\u001b[2mg5k_api_utils.py\u001b[0m\u001b]8;;\u001b\\\u001b[2m:\u001b[0m\u001b]8;id=344649;file:///home/mrakotojaonarainimangavelo/formation/enoslib-tutorials/g5k/enoslib_jupyter/lib/python3.9/site-packages/enoslib/infra/enos_g5k/g5k_api_utils.py#342\u001b\\\u001b[2m342\u001b[0m\u001b]8;;\u001b\\\n"
      ]
     },
     "metadata": {},
     "output_type": "display_data"
    },
    {
     "data": {
      "application/vnd.jupyter.widget-view+json": {
       "model_id": "",
       "version_major": 2,
       "version_minor": 0
      },
      "text/plain": [
       "Output()"
      ]
     },
     "metadata": {},
     "output_type": "display_data"
    },
    {
     "data": {
      "text/html": [
       "<pre style=\"white-space:pre;overflow-x:auto;line-height:normal;font-family:Menlo,'DejaVu Sans Mono',consolas,'Courier New',monospace\"></pre>\n"
      ],
      "text/plain": []
     },
     "metadata": {},
     "output_type": "display_data"
    },
    {
     "data": {
      "text/html": [
       "<pre style=\"white-space:pre;overflow-x:auto;line-height:normal;font-family:Menlo,'DejaVu Sans Mono',consolas,'Courier New',monospace\"><span style=\"color: #000080; text-decoration-color: #000080; font-weight: bold\">Finished </span><span style=\"color: #000080; text-decoration-color: #000080; font-weight: bold\">1</span><span style=\"color: #000080; text-decoration-color: #000080; font-weight: bold\"> tasks</span> <span style=\"font-weight: bold; font-style: italic\">(</span><span style=\"font-style: italic\">Granting root access on the nodes </span><span style=\"font-weight: bold; font-style: italic\">(</span><span style=\"font-style: italic\">sudo-g5k</span><span style=\"font-weight: bold; font-style: italic\">))</span> on \n",
       "<span style=\"font-weight: bold\">{</span><span style=\"color: #008000; text-decoration-color: #008000\">'dahu-28.grenoble.grid5000.fr'</span>, <span style=\"color: #008000; text-decoration-color: #008000\">'dahu-32.grenoble.grid5000.fr'</span>, \n",
       "<span style=\"color: #008000; text-decoration-color: #008000\">'dahu-8.grenoble.grid5000.fr'</span>, <span style=\"color: #008000; text-decoration-color: #008000\">'dahu-3.grenoble.grid5000.fr'</span><span style=\"font-weight: bold\">}</span>\n",
       "</pre>\n"
      ],
      "text/plain": [
       "\u001b[1;34mFinished \u001b[0m\u001b[1;34m1\u001b[0m\u001b[1;34m tasks\u001b[0m \u001b[1;3m(\u001b[0m\u001b[3mGranting root access on the nodes \u001b[0m\u001b[1;3m(\u001b[0m\u001b[3msudo-g5k\u001b[0m\u001b[1;3m)\u001b[0m\u001b[1;3m)\u001b[0m on \n",
       "\u001b[1m{\u001b[0m\u001b[32m'dahu-28.grenoble.grid5000.fr'\u001b[0m, \u001b[32m'dahu-32.grenoble.grid5000.fr'\u001b[0m, \n",
       "\u001b[32m'dahu-8.grenoble.grid5000.fr'\u001b[0m, \u001b[32m'dahu-3.grenoble.grid5000.fr'\u001b[0m\u001b[1m}\u001b[0m\n"
      ]
     },
     "metadata": {},
     "output_type": "display_data"
    },
    {
     "data": {
      "text/html": [
       "<pre style=\"white-space:pre;overflow-x:auto;line-height:normal;font-family:Menlo,'DejaVu Sans Mono',consolas,'Courier New',monospace\"><span style=\"color: #00ff00; text-decoration-color: #00ff00\">─────────────────────────────────────────────────────────────────────────────────────────────</span>\n",
       "</pre>\n"
      ],
      "text/plain": [
       "\u001b[92m─────────────────────────────────────────────────────────────────────────────────────────────\u001b[0m\n"
      ]
     },
     "metadata": {},
     "output_type": "display_data"
    },
    {
     "data": {
      "application/vnd.jupyter.widget-view+json": {
       "model_id": "",
       "version_major": 2,
       "version_minor": 0
      },
      "text/plain": [
       "Output()"
      ]
     },
     "metadata": {},
     "output_type": "display_data"
    },
    {
     "data": {
      "text/html": [
       "<pre style=\"white-space:pre;overflow-x:auto;line-height:normal;font-family:Menlo,'DejaVu Sans Mono',consolas,'Courier New',monospace\"></pre>\n"
      ],
      "text/plain": []
     },
     "metadata": {},
     "output_type": "display_data"
    },
    {
     "data": {
      "text/html": [
       "<pre style=\"white-space:pre;overflow-x:auto;line-height:normal;font-family:Menlo,'DejaVu Sans Mono',consolas,'Courier New',monospace\"><span style=\"color: #000080; text-decoration-color: #000080; font-weight: bold\">Finished </span><span style=\"color: #000080; text-decoration-color: #000080; font-weight: bold\">1</span><span style=\"color: #000080; text-decoration-color: #000080; font-weight: bold\"> tasks</span> <span style=\"font-weight: bold; font-style: italic\">(</span><span style=\"font-style: italic\">Waiting for connection</span><span style=\"font-weight: bold; font-style: italic\">)</span> on <span style=\"font-weight: bold\">{</span><span style=\"color: #008000; text-decoration-color: #008000\">'dahu-28.grenoble.grid5000.fr'</span>, \n",
       "<span style=\"color: #008000; text-decoration-color: #008000\">'dahu-32.grenoble.grid5000.fr'</span>, <span style=\"color: #008000; text-decoration-color: #008000\">'dahu-8.grenoble.grid5000.fr'</span>, <span style=\"color: #008000; text-decoration-color: #008000\">'dahu-3.grenoble.grid5000.fr'</span><span style=\"font-weight: bold\">}</span>\n",
       "</pre>\n"
      ],
      "text/plain": [
       "\u001b[1;34mFinished \u001b[0m\u001b[1;34m1\u001b[0m\u001b[1;34m tasks\u001b[0m \u001b[1;3m(\u001b[0m\u001b[3mWaiting for connection\u001b[0m\u001b[1;3m)\u001b[0m on \u001b[1m{\u001b[0m\u001b[32m'dahu-28.grenoble.grid5000.fr'\u001b[0m, \n",
       "\u001b[32m'dahu-32.grenoble.grid5000.fr'\u001b[0m, \u001b[32m'dahu-8.grenoble.grid5000.fr'\u001b[0m, \u001b[32m'dahu-3.grenoble.grid5000.fr'\u001b[0m\u001b[1m}\u001b[0m\n"
      ]
     },
     "metadata": {},
     "output_type": "display_data"
    },
    {
     "data": {
      "text/html": [
       "<pre style=\"white-space:pre;overflow-x:auto;line-height:normal;font-family:Menlo,'DejaVu Sans Mono',consolas,'Courier New',monospace\"><span style=\"color: #00ff00; text-decoration-color: #00ff00\">─────────────────────────────────────────────────────────────────────────────────────────────</span>\n",
       "</pre>\n"
      ],
      "text/plain": [
       "\u001b[92m─────────────────────────────────────────────────────────────────────────────────────────────\u001b[0m\n"
      ]
     },
     "metadata": {},
     "output_type": "display_data"
    },
    {
     "data": {
      "application/vnd.jupyter.widget-view+json": {
       "model_id": "",
       "version_major": 2,
       "version_minor": 0
      },
      "text/plain": [
       "Output()"
      ]
     },
     "metadata": {},
     "output_type": "display_data"
    },
    {
     "data": {
      "text/html": [
       "<pre style=\"white-space:pre;overflow-x:auto;line-height:normal;font-family:Menlo,'DejaVu Sans Mono',consolas,'Courier New',monospace\"></pre>\n"
      ],
      "text/plain": []
     },
     "metadata": {},
     "output_type": "display_data"
    },
    {
     "data": {
      "text/html": [
       "<pre style=\"white-space:pre;overflow-x:auto;line-height:normal;font-family:Menlo,'DejaVu Sans Mono',consolas,'Courier New',monospace\"><span style=\"color: #000080; text-decoration-color: #000080; font-weight: bold\">Finished </span><span style=\"color: #000080; text-decoration-color: #000080; font-weight: bold\">7</span><span style=\"color: #000080; text-decoration-color: #000080; font-weight: bold\"> tasks</span> <span style=\"font-weight: bold; font-style: italic\">(</span><span style=\"font-style: italic\">Gathering Facts,setup,utils : include_tasks,utils : Dump network </span>\n",
       "<span style=\"font-style: italic\">information in a file,utils : Create the fake interfaces</span><span style=\"font-weight: bold; font-style: italic\">)</span> on <span style=\"font-weight: bold\">{</span><span style=\"color: #008000; text-decoration-color: #008000\">'dahu-28.grenoble.grid5000.fr'</span>,\n",
       "<span style=\"color: #008000; text-decoration-color: #008000\">'dahu-32.grenoble.grid5000.fr'</span>, <span style=\"color: #008000; text-decoration-color: #008000\">'dahu-8.grenoble.grid5000.fr'</span>, <span style=\"color: #008000; text-decoration-color: #008000\">'dahu-3.grenoble.grid5000.fr'</span><span style=\"font-weight: bold\">}</span>\n",
       "</pre>\n"
      ],
      "text/plain": [
       "\u001b[1;34mFinished \u001b[0m\u001b[1;34m7\u001b[0m\u001b[1;34m tasks\u001b[0m \u001b[1;3m(\u001b[0m\u001b[3mGathering Facts,setup,utils : include_tasks,utils : Dump network \u001b[0m\n",
       "\u001b[3minformation in a file,utils : Create the fake interfaces\u001b[0m\u001b[1;3m)\u001b[0m on \u001b[1m{\u001b[0m\u001b[32m'dahu-28.grenoble.grid5000.fr'\u001b[0m,\n",
       "\u001b[32m'dahu-32.grenoble.grid5000.fr'\u001b[0m, \u001b[32m'dahu-8.grenoble.grid5000.fr'\u001b[0m, \u001b[32m'dahu-3.grenoble.grid5000.fr'\u001b[0m\u001b[1m}\u001b[0m\n"
      ]
     },
     "metadata": {},
     "output_type": "display_data"
    },
    {
     "data": {
      "text/html": [
       "<pre style=\"white-space:pre;overflow-x:auto;line-height:normal;font-family:Menlo,'DejaVu Sans Mono',consolas,'Courier New',monospace\"><span style=\"color: #00ff00; text-decoration-color: #00ff00\">─────────────────────────────────────────────────────────────────────────────────────────────</span>\n",
       "</pre>\n"
      ],
      "text/plain": [
       "\u001b[92m─────────────────────────────────────────────────────────────────────────────────────────────\u001b[0m\n"
      ]
     },
     "metadata": {},
     "output_type": "display_data"
    }
   ],
   "source": [
    "provider = en.G5k(conf)\n",
    "# if provider:\n",
    "#    provider.destroy()\n",
    "    \n",
    "roles, networks = provider.init()\n",
    "roles = en.sync_info(roles, networks)"
   ]
  },
  {
   "cell_type": "code",
   "execution_count": 5,
   "id": "eda346d3-cdb5-4978-8917-267987c03d5a",
   "metadata": {},
   "outputs": [
    {
     "data": {
      "text/html": [
       "\n",
       "        <style> .enoslib {\n",
       "  width: auto;\n",
       "}\n",
       "\n",
       ".enoslib_object {\n",
       "  width: auto;\n",
       "  font-size: 1em;\n",
       "  line-height: 1.5;\n",
       "  background-color: rgb(250, 249, 249);\n",
       "  font-family: \"Segoe UI\", \"sans-serif\";\n",
       "  color: black;\n",
       "}\n",
       "\n",
       ".enoslib_object ul {\n",
       "  padding: 0;\n",
       "}\n",
       "\n",
       ".enoslib_object input + label {\n",
       "  margin-bottom: 0;\n",
       "}\n",
       "\n",
       ".object_name {\n",
       "  padding: 6px 0 6px 3px;\n",
       "  border-bottom-width: 1px;\n",
       "  border-bottom-style: solid;\n",
       "  border-bottom-color: #777;\n",
       "  color: #555;\n",
       "}\n",
       "\n",
       ".object_name > div,\n",
       ".object_name > ul {\n",
       "  display: inline;\n",
       "  margin-top: 0;\n",
       "  margin-bottom: 0;\n",
       "}\n",
       "\n",
       "ul.enoslist {\n",
       "  list-style: none !important;\n",
       "  padding: 3px !important;\n",
       "  margin: 0 !important;\n",
       "}\n",
       "\n",
       "input.att + label {\n",
       "  display: inline-block;\n",
       "  /*width: 140px;*/\n",
       "  color: rgb(36, 35, 35);\n",
       "  font-weight: 500;\n",
       "  padding: 4px 0 2px 0;\n",
       "}\n",
       "\n",
       "input.att:enabled + label {\n",
       "  cursor: pointer;\n",
       "  width: auto;\n",
       "}\n",
       "\n",
       "input.att {\n",
       "  display: none;\n",
       "}\n",
       "\n",
       "input.att + label:before {\n",
       "  display: inline-block;\n",
       "  content: \"►\";\n",
       "  font-size: 11px;\n",
       "  width: 15px;\n",
       "  text-align: center;\n",
       "}\n",
       "\n",
       "input.att:checked + label:before {\n",
       "  content: \"▼\";\n",
       "}\n",
       "\n",
       "input.att:disabled + label:before {\n",
       "  content: none;\n",
       "}\n",
       "\n",
       "input.att + label > span {\n",
       "  display: inline-block;\n",
       "  margin-left: 4px;\n",
       "}\n",
       "\n",
       "input.att + label > span.len {\n",
       "  font-size: small;\n",
       "}\n",
       "\n",
       "input.att:checked + label > span.len {\n",
       "  display: none;\n",
       "}\n",
       "\n",
       "label + span {\n",
       "  color: rgb(70, 69, 69);\n",
       "}\n",
       "\n",
       "input.att ~ ul {\n",
       "  display: none;\n",
       "}\n",
       "\n",
       "input.att:checked ~ ul {\n",
       "  display: block;\n",
       "}\n",
       "\n",
       "table {\n",
       "  width: auto;\n",
       "  border-collapse: collapse;\n",
       "  margin: 2%;\n",
       "}\n",
       "\n",
       "td,\n",
       "th {\n",
       "  padding: 8px;\n",
       "  height: 15px;\n",
       "  font-size: small;\n",
       "}\n",
       "\n",
       "td {\n",
       "  text-align: left !important;\n",
       "  color: rgb(160, 160, 160);\n",
       "}\n",
       "\n",
       "th {\n",
       "  text-align: center;\n",
       "  color: black;\n",
       "}\n",
       "\n",
       "input ~ ul {\n",
       "  position: relative;\n",
       "  left: 25px;\n",
       "}\n",
       "\n",
       "input.att ~ table {\n",
       "  display: none;\n",
       "}\n",
       "\n",
       "input.att:checked ~ table {\n",
       "  display: block;\n",
       "}\n",
       " </style>\n",
       "        <div class=\"enoslib\">\n",
       "        <div class=\"enoslib_object\">\n",
       "                <div class=\"object_name\">\n",
       "                    &lt;class &#x27;enoslib.objects.Roles&#x27;&gt;@0x7f2ee9a36400\n",
       "                </div>\n",
       "                <ul class=\"enoslist\">\n",
       "                    \n",
       "                <li>\n",
       "                    <input type=\"checkbox\" id=\"cheops-4af7b5b9-d00c-4a88-878f-6fe13a397f9c\" class=\"att\">\n",
       "                    <label for=\"cheops-4af7b5b9-d00c-4a88-878f-6fe13a397f9c\">cheops <span class=\"len\">(4)</span></label>\n",
       "                    <ul id=\"cheops\" class=\"enoslist\">\n",
       "                        \n",
       "                <li>\n",
       "                    <input type=\"checkbox\" id=\"dahu-28.grenoble.grid5000.fr-431ded29-a373-4574-8ce0-092f58091d38\" class=\"att\">\n",
       "                    <label for=\"dahu-28.grenoble.grid5000.fr-431ded29-a373-4574-8ce0-092f58091d38\">dahu-28.grenoble.grid5000.fr </label>\n",
       "                    <ul id=\"dahu-28.grenoble.grid5000.fr\" class=\"enoslist\">\n",
       "                        <div class=\"enoslib_object\">\n",
       "                <div class=\"object_name\">\n",
       "                    &lt;class &#x27;enoslib.objects.Host&#x27;&gt;@0x7f2ee9a36640\n",
       "                </div>\n",
       "                <ul class=\"enoslist\">\n",
       "                    \n",
       "        <li>\n",
       "        <input type=\"checkbox\" id=\"address-70fb2003-accb-4c2d-b08c-c073d81bbae4\" class=\"att\" disabled=\"\">\n",
       "        <label for=\"address-70fb2003-accb-4c2d-b08c-c073d81bbae4\">\n",
       "            <span>address:&nbsp;</span>\n",
       "        </label>\n",
       "        <span>dahu-28.grenoble.grid5000.fr</span>\n",
       "        </li>\n",
       "        <li>\n",
       "        <input type=\"checkbox\" id=\"alias-7b9731ad-4e36-46af-b6b8-6ecf94664e0d\" class=\"att\" disabled=\"\">\n",
       "        <label for=\"alias-7b9731ad-4e36-46af-b6b8-6ecf94664e0d\">\n",
       "            <span>alias:&nbsp;</span>\n",
       "        </label>\n",
       "        <span>dahu-28.grenoble.grid5000.fr</span>\n",
       "        </li>\n",
       "        <li>\n",
       "        <input type=\"checkbox\" id=\"user-0a12b0a1-2a8f-4360-92ed-2449d1154068\" class=\"att\" disabled=\"\">\n",
       "        <label for=\"user-0a12b0a1-2a8f-4360-92ed-2449d1154068\">\n",
       "            <span>user:&nbsp;</span>\n",
       "        </label>\n",
       "        <span>root</span>\n",
       "        </li>\n",
       "        <li>\n",
       "        <input type=\"checkbox\" id=\"keyfile-eaec814c-5386-4c6b-a854-de18825182b4\" class=\"att\" disabled=\"\">\n",
       "        <label for=\"keyfile-eaec814c-5386-4c6b-a854-de18825182b4\">\n",
       "            <span>keyfile:&nbsp;</span>\n",
       "        </label>\n",
       "        <span>None</span>\n",
       "        </li>\n",
       "        <li>\n",
       "        <input type=\"checkbox\" id=\"port-0ea89f1d-e4d3-488e-a441-0b7000f2ddde\" class=\"att\" disabled=\"\">\n",
       "        <label for=\"port-0ea89f1d-e4d3-488e-a441-0b7000f2ddde\">\n",
       "            <span>port:&nbsp;</span>\n",
       "        </label>\n",
       "        <span>None</span>\n",
       "        </li>\n",
       "                <li>\n",
       "                    <input type=\"checkbox\" id=\"extra-956214f6-5cd7-4a26-bd95-17f283f07b98\" class=\"att\">\n",
       "                    <label for=\"extra-956214f6-5cd7-4a26-bd95-17f283f07b98\">extra <span class=\"len\">(2)</span></label>\n",
       "                    <ul id=\"extra\" class=\"enoslist\">\n",
       "                        \n",
       "        <li>\n",
       "        <input type=\"checkbox\" id=\"gateway-15e8a0de-9fc7-44b7-8f4c-dc1bb6a2fc57\" class=\"att\" disabled=\"\">\n",
       "        <label for=\"gateway-15e8a0de-9fc7-44b7-8f4c-dc1bb6a2fc57\">\n",
       "            <span>gateway:&nbsp;</span>\n",
       "        </label>\n",
       "        <span>access.grid5000.fr</span>\n",
       "        </li>\n",
       "        <li>\n",
       "        <input type=\"checkbox\" id=\"gateway_user-ec977531-a31b-4d40-848a-8f5059257f30\" class=\"att\" disabled=\"\">\n",
       "        <label for=\"gateway_user-ec977531-a31b-4d40-848a-8f5059257f30\">\n",
       "            <span>gateway_user:&nbsp;</span>\n",
       "        </label>\n",
       "        <span>mrakotojaonarainimangavelo</span>\n",
       "        </li>\n",
       "                    </ul>\n",
       "                </li>\n",
       "                \n",
       "                <li>\n",
       "                    <input type=\"checkbox\" id=\"net_devices-7d78be4c-4a80-43af-8386-d16bd1279bad\" class=\"att\">\n",
       "                    <label for=\"net_devices-7d78be4c-4a80-43af-8386-d16bd1279bad\">net_devices <span class=\"len\">(5)</span></label>\n",
       "                    <ul id=\"net_devices\" class=\"enoslist\">\n",
       "                        \n",
       "                <li>\n",
       "                    <input type=\"checkbox\" id=\"lo-15e3be93-ac1f-4083-9a7c-db4c3a383384\" class=\"att\">\n",
       "                    <label for=\"lo-15e3be93-ac1f-4083-9a7c-db4c3a383384\">lo </label>\n",
       "                    <ul id=\"lo\" class=\"enoslist\">\n",
       "                        <div class=\"enoslib_object\">\n",
       "                <div class=\"object_name\">\n",
       "                    &lt;class &#x27;enoslib.objects.NetDevice&#x27;&gt;@0x7f2ee9a36310\n",
       "                </div>\n",
       "                <ul class=\"enoslist\">\n",
       "                    \n",
       "        <li>\n",
       "        <input type=\"checkbox\" id=\"device-f3814457-afb0-4437-a6c3-ed96b1410698\" class=\"att\" disabled=\"\">\n",
       "        <label for=\"device-f3814457-afb0-4437-a6c3-ed96b1410698\">\n",
       "            <span>device:&nbsp;</span>\n",
       "        </label>\n",
       "        <span>lo</span>\n",
       "        </li>\n",
       "                <li>\n",
       "                    <input type=\"checkbox\" id=\"addresses-1e087aef-b2b5-4e78-9b57-96eed7c047fe\" class=\"att\">\n",
       "                    <label for=\"addresses-1e087aef-b2b5-4e78-9b57-96eed7c047fe\">addresses <span class=\"len\">(2)</span></label>\n",
       "                    <ul id=\"addresses\" class=\"enoslist\">\n",
       "                        \n",
       "        <table>\n",
       "        <thead>\n",
       "            <tr>\n",
       "                <th>ip</th>\n",
       "            </tr>\n",
       "        </thead>\n",
       "        <tbody>\n",
       "        \n",
       "            <tr>\n",
       "                <td>\n",
       "                127.0.0.1/8 # noqa\n",
       "                </td>\n",
       "            </tr>\n",
       "            \n",
       "            <tr>\n",
       "                <td>\n",
       "                ::1/128 # noqa\n",
       "                </td>\n",
       "            </tr>\n",
       "            </tbody></table>\n",
       "                    </ul>\n",
       "                </li>\n",
       "                \n",
       "        <li>\n",
       "        <input type=\"checkbox\" id=\"type-b790ae35-4ea6-4e24-81fa-3c35b2ff239e\" class=\"att\" disabled=\"\">\n",
       "        <label for=\"type-b790ae35-4ea6-4e24-81fa-3c35b2ff239e\">\n",
       "            <span>type:&nbsp;</span>\n",
       "        </label>\n",
       "        <span>ether</span>\n",
       "        </li>\n",
       "                </ul>\n",
       "            </div>\n",
       "                    </ul>\n",
       "                </li>\n",
       "                \n",
       "                <li>\n",
       "                    <input type=\"checkbox\" id=\"br0-52507d73-7b90-451e-9c4f-76e997c9ce8d\" class=\"att\">\n",
       "                    <label for=\"br0-52507d73-7b90-451e-9c4f-76e997c9ce8d\">br0 </label>\n",
       "                    <ul id=\"br0\" class=\"enoslist\">\n",
       "                        <div class=\"enoslib_object\">\n",
       "                <div class=\"object_name\">\n",
       "                    &lt;class &#x27;enoslib.objects.BridgeDevice&#x27;&gt;@0x7f2ee9a36b20\n",
       "                </div>\n",
       "                <ul class=\"enoslist\">\n",
       "                    \n",
       "        <li>\n",
       "        <input type=\"checkbox\" id=\"device-c8e80e77-1fa6-4bdb-83ca-703aaa21951b\" class=\"att\" disabled=\"\">\n",
       "        <label for=\"device-c8e80e77-1fa6-4bdb-83ca-703aaa21951b\">\n",
       "            <span>device:&nbsp;</span>\n",
       "        </label>\n",
       "        <span>br0</span>\n",
       "        </li>\n",
       "                <li>\n",
       "                    <input type=\"checkbox\" id=\"addresses-2b16f280-d162-4063-a54b-c386be6bf7de\" class=\"att\">\n",
       "                    <label for=\"addresses-2b16f280-d162-4063-a54b-c386be6bf7de\">addresses <span class=\"len\">(2)</span></label>\n",
       "                    <ul id=\"addresses\" class=\"enoslist\">\n",
       "                        \n",
       "        <table>\n",
       "        <thead>\n",
       "            <tr>\n",
       "                <th>ip</th>\n",
       "            </tr>\n",
       "        </thead>\n",
       "        <tbody>\n",
       "        \n",
       "            <tr>\n",
       "                <td>\n",
       "                fe80::3efd:feff:fe54:2ae0/64 # noqa\n",
       "                </td>\n",
       "            </tr>\n",
       "            \n",
       "            <tr>\n",
       "                <td>\n",
       "                172.16.20.28/20 # noqa\n",
       "                </td>\n",
       "            </tr>\n",
       "            </tbody></table>\n",
       "                    </ul>\n",
       "                </li>\n",
       "                \n",
       "        <li>\n",
       "        <input type=\"checkbox\" id=\"type-01054954-3540-4648-8817-c197359ff913\" class=\"att\" disabled=\"\">\n",
       "        <label for=\"type-01054954-3540-4648-8817-c197359ff913\">\n",
       "            <span>type:&nbsp;</span>\n",
       "        </label>\n",
       "        <span>bridge</span>\n",
       "        </li>\n",
       "                <li>\n",
       "                    <input type=\"checkbox\" id=\"interfaces-cbbdc098-5b11-43ae-b0b4-f527c35f1c82\" class=\"att\">\n",
       "                    <label for=\"interfaces-cbbdc098-5b11-43ae-b0b4-f527c35f1c82\">interfaces <span class=\"len\">(1)</span></label>\n",
       "                    <ul id=\"interfaces\" class=\"enoslist\">\n",
       "                        \n",
       "    <ul class=\"list\">\n",
       "        <li>\n",
       "        enp24s0f0\n",
       "        </li>\n",
       "    </ul>\n",
       "    \n",
       "                    </ul>\n",
       "                </li>\n",
       "                \n",
       "                </ul>\n",
       "            </div>\n",
       "                    </ul>\n",
       "                </li>\n",
       "                \n",
       "                <li>\n",
       "                    <input type=\"checkbox\" id=\"ib0-88b40269-88b9-4dd8-9426-3e3fc3c49e1e\" class=\"att\">\n",
       "                    <label for=\"ib0-88b40269-88b9-4dd8-9426-3e3fc3c49e1e\">ib0 </label>\n",
       "                    <ul id=\"ib0\" class=\"enoslist\">\n",
       "                        <div class=\"enoslib_object\">\n",
       "                <div class=\"object_name\">\n",
       "                    &lt;class &#x27;enoslib.objects.NetDevice&#x27;&gt;@0x7f2ee9a36280\n",
       "                </div>\n",
       "                <ul class=\"enoslist\">\n",
       "                    \n",
       "        <li>\n",
       "        <input type=\"checkbox\" id=\"device-25135457-b890-4b82-b5f3-2baf97776e95\" class=\"att\" disabled=\"\">\n",
       "        <label for=\"device-25135457-b890-4b82-b5f3-2baf97776e95\">\n",
       "            <span>device:&nbsp;</span>\n",
       "        </label>\n",
       "        <span>ib0</span>\n",
       "        </li>\n",
       "                <li>\n",
       "                    <input type=\"checkbox\" id=\"addresses-3ad5d076-07c6-4c61-92ec-fb5adeb4f1f2\" class=\"att\">\n",
       "                    <label for=\"addresses-3ad5d076-07c6-4c61-92ec-fb5adeb4f1f2\">addresses <span class=\"len\">(2)</span></label>\n",
       "                    <ul id=\"addresses\" class=\"enoslist\">\n",
       "                        \n",
       "        <table>\n",
       "        <thead>\n",
       "            <tr>\n",
       "                <th>ip</th>\n",
       "            </tr>\n",
       "        </thead>\n",
       "        <tbody>\n",
       "        \n",
       "            <tr>\n",
       "                <td>\n",
       "                172.18.20.28/20 # noqa\n",
       "                </td>\n",
       "            </tr>\n",
       "            \n",
       "            <tr>\n",
       "                <td>\n",
       "                fe80::211:7501:171:d78e/64 # noqa\n",
       "                </td>\n",
       "            </tr>\n",
       "            </tbody></table>\n",
       "                    </ul>\n",
       "                </li>\n",
       "                \n",
       "        <li>\n",
       "        <input type=\"checkbox\" id=\"type-c49a78e4-4a02-4a60-99e6-beab2ba5ed5e\" class=\"att\" disabled=\"\">\n",
       "        <label for=\"type-c49a78e4-4a02-4a60-99e6-beab2ba5ed5e\">\n",
       "            <span>type:&nbsp;</span>\n",
       "        </label>\n",
       "        <span>ether</span>\n",
       "        </li>\n",
       "                </ul>\n",
       "            </div>\n",
       "                    </ul>\n",
       "                </li>\n",
       "                \n",
       "                <li>\n",
       "                    <input type=\"checkbox\" id=\"enp24s0f0-f1971d25-3430-4a30-acff-f8036d58bfbb\" class=\"att\">\n",
       "                    <label for=\"enp24s0f0-f1971d25-3430-4a30-acff-f8036d58bfbb\">enp24s0f0 </label>\n",
       "                    <ul id=\"enp24s0f0\" class=\"enoslist\">\n",
       "                        <div class=\"enoslib_object\">\n",
       "                <div class=\"object_name\">\n",
       "                    &lt;class &#x27;enoslib.objects.NetDevice&#x27;&gt;@0x7f2ee9a36b50\n",
       "                </div>\n",
       "                <ul class=\"enoslist\">\n",
       "                    \n",
       "        <li>\n",
       "        <input type=\"checkbox\" id=\"device-b5b9ad9f-8ee9-4919-896b-0020362cad66\" class=\"att\" disabled=\"\">\n",
       "        <label for=\"device-b5b9ad9f-8ee9-4919-896b-0020362cad66\">\n",
       "            <span>device:&nbsp;</span>\n",
       "        </label>\n",
       "        <span>enp24s0f0</span>\n",
       "        </li>\n",
       "                <li>\n",
       "                    <input type=\"checkbox\" id=\"addresses-b63a659b-7c8f-4509-9098-92e1b0addb13\" class=\"att\">\n",
       "                    <label for=\"addresses-b63a659b-7c8f-4509-9098-92e1b0addb13\">addresses <span class=\"len\">(0)</span></label>\n",
       "                    <ul id=\"addresses\" class=\"enoslist\">\n",
       "                        \n",
       "                    </ul>\n",
       "                </li>\n",
       "                \n",
       "        <li>\n",
       "        <input type=\"checkbox\" id=\"type-7a4c75f6-2ab1-49d0-8013-91addd15cacd\" class=\"att\" disabled=\"\">\n",
       "        <label for=\"type-7a4c75f6-2ab1-49d0-8013-91addd15cacd\">\n",
       "            <span>type:&nbsp;</span>\n",
       "        </label>\n",
       "        <span>ether</span>\n",
       "        </li>\n",
       "                </ul>\n",
       "            </div>\n",
       "                    </ul>\n",
       "                </li>\n",
       "                \n",
       "                <li>\n",
       "                    <input type=\"checkbox\" id=\"enp24s0f1-cc83178c-872c-41db-9b2b-4e12c806c7d8\" class=\"att\">\n",
       "                    <label for=\"enp24s0f1-cc83178c-872c-41db-9b2b-4e12c806c7d8\">enp24s0f1 </label>\n",
       "                    <ul id=\"enp24s0f1\" class=\"enoslist\">\n",
       "                        <div class=\"enoslib_object\">\n",
       "                <div class=\"object_name\">\n",
       "                    &lt;class &#x27;enoslib.objects.NetDevice&#x27;&gt;@0x7f2ee9a369a0\n",
       "                </div>\n",
       "                <ul class=\"enoslist\">\n",
       "                    \n",
       "        <li>\n",
       "        <input type=\"checkbox\" id=\"device-042f048b-6c91-4c19-9559-9df559faf342\" class=\"att\" disabled=\"\">\n",
       "        <label for=\"device-042f048b-6c91-4c19-9559-9df559faf342\">\n",
       "            <span>device:&nbsp;</span>\n",
       "        </label>\n",
       "        <span>enp24s0f1</span>\n",
       "        </li>\n",
       "                <li>\n",
       "                    <input type=\"checkbox\" id=\"addresses-a34da3a9-3086-4d38-9b3f-6a8a772115d3\" class=\"att\">\n",
       "                    <label for=\"addresses-a34da3a9-3086-4d38-9b3f-6a8a772115d3\">addresses <span class=\"len\">(0)</span></label>\n",
       "                    <ul id=\"addresses\" class=\"enoslist\">\n",
       "                        \n",
       "                    </ul>\n",
       "                </li>\n",
       "                \n",
       "        <li>\n",
       "        <input type=\"checkbox\" id=\"type-1d7930e0-f35b-4d0d-9050-0d2ad1479133\" class=\"att\" disabled=\"\">\n",
       "        <label for=\"type-1d7930e0-f35b-4d0d-9050-0d2ad1479133\">\n",
       "            <span>type:&nbsp;</span>\n",
       "        </label>\n",
       "        <span>ether</span>\n",
       "        </li>\n",
       "                </ul>\n",
       "            </div>\n",
       "                    </ul>\n",
       "                </li>\n",
       "                \n",
       "                    </ul>\n",
       "                </li>\n",
       "                \n",
       "                <li>\n",
       "                    <input type=\"checkbox\" id=\"processor-db2fc0e3-9b06-49be-92a9-455f7d09d60a\" class=\"att\">\n",
       "                    <label for=\"processor-db2fc0e3-9b06-49be-92a9-455f7d09d60a\">processor <span class=\"len\">(64 vcpus)</span></label>\n",
       "                    <ul id=\"processor\" class=\"enoslist\">\n",
       "                        \n",
       "        <li>\n",
       "        <input type=\"checkbox\" id=\"cores-91cd18ce-f692-4024-9727-12e15c1aebe7\" class=\"att\" disabled=\"\">\n",
       "        <label for=\"cores-91cd18ce-f692-4024-9727-12e15c1aebe7\">\n",
       "            <span>cores:&nbsp;</span>\n",
       "        </label>\n",
       "        <span>16</span>\n",
       "        </li>\n",
       "        <li>\n",
       "        <input type=\"checkbox\" id=\"count-ac25eb9f-a812-4578-baf4-8810f5aed66c\" class=\"att\" disabled=\"\">\n",
       "        <label for=\"count-ac25eb9f-a812-4578-baf4-8810f5aed66c\">\n",
       "            <span>count:&nbsp;</span>\n",
       "        </label>\n",
       "        <span>2</span>\n",
       "        </li>\n",
       "        <li>\n",
       "        <input type=\"checkbox\" id=\"threads_per_core-6b08fa48-3027-4716-b2b2-29d8a5a9e840\" class=\"att\" disabled=\"\">\n",
       "        <label for=\"threads_per_core-6b08fa48-3027-4716-b2b2-29d8a5a9e840\">\n",
       "            <span>threads_per_core:&nbsp;</span>\n",
       "        </label>\n",
       "        <span>2</span>\n",
       "        </li>\n",
       "                    </ul>\n",
       "                </li>\n",
       "                \n",
       "                </ul>\n",
       "            </div>\n",
       "                    </ul>\n",
       "                </li>\n",
       "                \n",
       "                <li>\n",
       "                    <input type=\"checkbox\" id=\"dahu-8.grenoble.grid5000.fr-890aa7ee-3eed-4db7-865f-9692d0f0b6e4\" class=\"att\">\n",
       "                    <label for=\"dahu-8.grenoble.grid5000.fr-890aa7ee-3eed-4db7-865f-9692d0f0b6e4\">dahu-8.grenoble.grid5000.fr </label>\n",
       "                    <ul id=\"dahu-8.grenoble.grid5000.fr\" class=\"enoslist\">\n",
       "                        <div class=\"enoslib_object\">\n",
       "                <div class=\"object_name\">\n",
       "                    &lt;class &#x27;enoslib.objects.Host&#x27;&gt;@0x7f2ee9a36610\n",
       "                </div>\n",
       "                <ul class=\"enoslist\">\n",
       "                    \n",
       "        <li>\n",
       "        <input type=\"checkbox\" id=\"address-70c6d839-3008-424a-866d-04696cdd21d4\" class=\"att\" disabled=\"\">\n",
       "        <label for=\"address-70c6d839-3008-424a-866d-04696cdd21d4\">\n",
       "            <span>address:&nbsp;</span>\n",
       "        </label>\n",
       "        <span>dahu-8.grenoble.grid5000.fr</span>\n",
       "        </li>\n",
       "        <li>\n",
       "        <input type=\"checkbox\" id=\"alias-cba92a15-c72f-4f1f-a612-043150390a14\" class=\"att\" disabled=\"\">\n",
       "        <label for=\"alias-cba92a15-c72f-4f1f-a612-043150390a14\">\n",
       "            <span>alias:&nbsp;</span>\n",
       "        </label>\n",
       "        <span>dahu-8.grenoble.grid5000.fr</span>\n",
       "        </li>\n",
       "        <li>\n",
       "        <input type=\"checkbox\" id=\"user-8fe78761-2596-4c7c-9974-841a04e1d866\" class=\"att\" disabled=\"\">\n",
       "        <label for=\"user-8fe78761-2596-4c7c-9974-841a04e1d866\">\n",
       "            <span>user:&nbsp;</span>\n",
       "        </label>\n",
       "        <span>root</span>\n",
       "        </li>\n",
       "        <li>\n",
       "        <input type=\"checkbox\" id=\"keyfile-7a6d99ae-868b-4a5e-a2af-77c42c52c76e\" class=\"att\" disabled=\"\">\n",
       "        <label for=\"keyfile-7a6d99ae-868b-4a5e-a2af-77c42c52c76e\">\n",
       "            <span>keyfile:&nbsp;</span>\n",
       "        </label>\n",
       "        <span>None</span>\n",
       "        </li>\n",
       "        <li>\n",
       "        <input type=\"checkbox\" id=\"port-d70a95dd-9898-4497-882d-0ba183e1aeaa\" class=\"att\" disabled=\"\">\n",
       "        <label for=\"port-d70a95dd-9898-4497-882d-0ba183e1aeaa\">\n",
       "            <span>port:&nbsp;</span>\n",
       "        </label>\n",
       "        <span>None</span>\n",
       "        </li>\n",
       "                <li>\n",
       "                    <input type=\"checkbox\" id=\"extra-031abed0-17e1-40c9-b548-f378b673c00b\" class=\"att\">\n",
       "                    <label for=\"extra-031abed0-17e1-40c9-b548-f378b673c00b\">extra <span class=\"len\">(2)</span></label>\n",
       "                    <ul id=\"extra\" class=\"enoslist\">\n",
       "                        \n",
       "        <li>\n",
       "        <input type=\"checkbox\" id=\"gateway-8569a218-0bb6-468d-ac18-11827a57c402\" class=\"att\" disabled=\"\">\n",
       "        <label for=\"gateway-8569a218-0bb6-468d-ac18-11827a57c402\">\n",
       "            <span>gateway:&nbsp;</span>\n",
       "        </label>\n",
       "        <span>access.grid5000.fr</span>\n",
       "        </li>\n",
       "        <li>\n",
       "        <input type=\"checkbox\" id=\"gateway_user-f816b01a-0491-4784-918e-d8df2483be28\" class=\"att\" disabled=\"\">\n",
       "        <label for=\"gateway_user-f816b01a-0491-4784-918e-d8df2483be28\">\n",
       "            <span>gateway_user:&nbsp;</span>\n",
       "        </label>\n",
       "        <span>mrakotojaonarainimangavelo</span>\n",
       "        </li>\n",
       "                    </ul>\n",
       "                </li>\n",
       "                \n",
       "                <li>\n",
       "                    <input type=\"checkbox\" id=\"net_devices-a075ce1a-0277-48c1-965c-e3b1fdbd10bf\" class=\"att\">\n",
       "                    <label for=\"net_devices-a075ce1a-0277-48c1-965c-e3b1fdbd10bf\">net_devices <span class=\"len\">(5)</span></label>\n",
       "                    <ul id=\"net_devices\" class=\"enoslist\">\n",
       "                        \n",
       "                <li>\n",
       "                    <input type=\"checkbox\" id=\"lo-9ab65776-f784-4632-8d3c-5d12b7eef078\" class=\"att\">\n",
       "                    <label for=\"lo-9ab65776-f784-4632-8d3c-5d12b7eef078\">lo </label>\n",
       "                    <ul id=\"lo\" class=\"enoslist\">\n",
       "                        <div class=\"enoslib_object\">\n",
       "                <div class=\"object_name\">\n",
       "                    &lt;class &#x27;enoslib.objects.NetDevice&#x27;&gt;@0x7f2ee9a36e20\n",
       "                </div>\n",
       "                <ul class=\"enoslist\">\n",
       "                    \n",
       "        <li>\n",
       "        <input type=\"checkbox\" id=\"device-0200bf70-3b51-491f-9f97-3b53653b3e99\" class=\"att\" disabled=\"\">\n",
       "        <label for=\"device-0200bf70-3b51-491f-9f97-3b53653b3e99\">\n",
       "            <span>device:&nbsp;</span>\n",
       "        </label>\n",
       "        <span>lo</span>\n",
       "        </li>\n",
       "                <li>\n",
       "                    <input type=\"checkbox\" id=\"addresses-cde0cc24-8d90-4c06-9d01-7a4ee61764d0\" class=\"att\">\n",
       "                    <label for=\"addresses-cde0cc24-8d90-4c06-9d01-7a4ee61764d0\">addresses <span class=\"len\">(2)</span></label>\n",
       "                    <ul id=\"addresses\" class=\"enoslist\">\n",
       "                        \n",
       "        <table>\n",
       "        <thead>\n",
       "            <tr>\n",
       "                <th>ip</th>\n",
       "            </tr>\n",
       "        </thead>\n",
       "        <tbody>\n",
       "        \n",
       "            <tr>\n",
       "                <td>\n",
       "                127.0.0.1/8 # noqa\n",
       "                </td>\n",
       "            </tr>\n",
       "            \n",
       "            <tr>\n",
       "                <td>\n",
       "                ::1/128 # noqa\n",
       "                </td>\n",
       "            </tr>\n",
       "            </tbody></table>\n",
       "                    </ul>\n",
       "                </li>\n",
       "                \n",
       "        <li>\n",
       "        <input type=\"checkbox\" id=\"type-93e5e0dd-c27d-4570-8488-cababe6f4763\" class=\"att\" disabled=\"\">\n",
       "        <label for=\"type-93e5e0dd-c27d-4570-8488-cababe6f4763\">\n",
       "            <span>type:&nbsp;</span>\n",
       "        </label>\n",
       "        <span>ether</span>\n",
       "        </li>\n",
       "                </ul>\n",
       "            </div>\n",
       "                    </ul>\n",
       "                </li>\n",
       "                \n",
       "                <li>\n",
       "                    <input type=\"checkbox\" id=\"br0-6089f2dd-9a9a-4d46-9735-dca5d34fa7ac\" class=\"att\">\n",
       "                    <label for=\"br0-6089f2dd-9a9a-4d46-9735-dca5d34fa7ac\">br0 </label>\n",
       "                    <ul id=\"br0\" class=\"enoslist\">\n",
       "                        <div class=\"enoslib_object\">\n",
       "                <div class=\"object_name\">\n",
       "                    &lt;class &#x27;enoslib.objects.BridgeDevice&#x27;&gt;@0x7f2ee9a07bb0\n",
       "                </div>\n",
       "                <ul class=\"enoslist\">\n",
       "                    \n",
       "        <li>\n",
       "        <input type=\"checkbox\" id=\"device-b23f1324-3817-4370-8627-3c1ff08b5871\" class=\"att\" disabled=\"\">\n",
       "        <label for=\"device-b23f1324-3817-4370-8627-3c1ff08b5871\">\n",
       "            <span>device:&nbsp;</span>\n",
       "        </label>\n",
       "        <span>br0</span>\n",
       "        </li>\n",
       "                <li>\n",
       "                    <input type=\"checkbox\" id=\"addresses-078eb00c-7d37-40b2-b463-b5e643b50608\" class=\"att\">\n",
       "                    <label for=\"addresses-078eb00c-7d37-40b2-b463-b5e643b50608\">addresses <span class=\"len\">(2)</span></label>\n",
       "                    <ul id=\"addresses\" class=\"enoslist\">\n",
       "                        \n",
       "        <table>\n",
       "        <thead>\n",
       "            <tr>\n",
       "                <th>ip</th>\n",
       "            </tr>\n",
       "        </thead>\n",
       "        <tbody>\n",
       "        \n",
       "            <tr>\n",
       "                <td>\n",
       "                172.16.20.8/20 # noqa\n",
       "                </td>\n",
       "            </tr>\n",
       "            \n",
       "            <tr>\n",
       "                <td>\n",
       "                fe80::3efd:feff:fe54:a658/64 # noqa\n",
       "                </td>\n",
       "            </tr>\n",
       "            </tbody></table>\n",
       "                    </ul>\n",
       "                </li>\n",
       "                \n",
       "        <li>\n",
       "        <input type=\"checkbox\" id=\"type-f9fb8dd9-2968-4d97-8e25-f21267f28127\" class=\"att\" disabled=\"\">\n",
       "        <label for=\"type-f9fb8dd9-2968-4d97-8e25-f21267f28127\">\n",
       "            <span>type:&nbsp;</span>\n",
       "        </label>\n",
       "        <span>bridge</span>\n",
       "        </li>\n",
       "                <li>\n",
       "                    <input type=\"checkbox\" id=\"interfaces-7335422b-dcda-41ce-8bc7-00cdcdfc607b\" class=\"att\">\n",
       "                    <label for=\"interfaces-7335422b-dcda-41ce-8bc7-00cdcdfc607b\">interfaces <span class=\"len\">(1)</span></label>\n",
       "                    <ul id=\"interfaces\" class=\"enoslist\">\n",
       "                        \n",
       "    <ul class=\"list\">\n",
       "        <li>\n",
       "        enp24s0f0\n",
       "        </li>\n",
       "    </ul>\n",
       "    \n",
       "                    </ul>\n",
       "                </li>\n",
       "                \n",
       "                </ul>\n",
       "            </div>\n",
       "                    </ul>\n",
       "                </li>\n",
       "                \n",
       "                <li>\n",
       "                    <input type=\"checkbox\" id=\"ib0-246f0fa7-224e-4be8-b936-030aea83d8da\" class=\"att\">\n",
       "                    <label for=\"ib0-246f0fa7-224e-4be8-b936-030aea83d8da\">ib0 </label>\n",
       "                    <ul id=\"ib0\" class=\"enoslist\">\n",
       "                        <div class=\"enoslib_object\">\n",
       "                <div class=\"object_name\">\n",
       "                    &lt;class &#x27;enoslib.objects.NetDevice&#x27;&gt;@0x7f2ee9a36520\n",
       "                </div>\n",
       "                <ul class=\"enoslist\">\n",
       "                    \n",
       "        <li>\n",
       "        <input type=\"checkbox\" id=\"device-c5f30e94-3297-48e6-b348-e68356d997c0\" class=\"att\" disabled=\"\">\n",
       "        <label for=\"device-c5f30e94-3297-48e6-b348-e68356d997c0\">\n",
       "            <span>device:&nbsp;</span>\n",
       "        </label>\n",
       "        <span>ib0</span>\n",
       "        </li>\n",
       "                <li>\n",
       "                    <input type=\"checkbox\" id=\"addresses-5c96e168-9a7d-49d6-9cc1-d81aa341565c\" class=\"att\">\n",
       "                    <label for=\"addresses-5c96e168-9a7d-49d6-9cc1-d81aa341565c\">addresses <span class=\"len\">(2)</span></label>\n",
       "                    <ul id=\"addresses\" class=\"enoslist\">\n",
       "                        \n",
       "        <table>\n",
       "        <thead>\n",
       "            <tr>\n",
       "                <th>ip</th>\n",
       "            </tr>\n",
       "        </thead>\n",
       "        <tbody>\n",
       "        \n",
       "            <tr>\n",
       "                <td>\n",
       "                fe80::211:7501:171:1fea/64 # noqa\n",
       "                </td>\n",
       "            </tr>\n",
       "            \n",
       "            <tr>\n",
       "                <td>\n",
       "                172.18.20.8/20 # noqa\n",
       "                </td>\n",
       "            </tr>\n",
       "            </tbody></table>\n",
       "                    </ul>\n",
       "                </li>\n",
       "                \n",
       "        <li>\n",
       "        <input type=\"checkbox\" id=\"type-75aba1d2-ba97-427b-b7cc-dd3118583591\" class=\"att\" disabled=\"\">\n",
       "        <label for=\"type-75aba1d2-ba97-427b-b7cc-dd3118583591\">\n",
       "            <span>type:&nbsp;</span>\n",
       "        </label>\n",
       "        <span>ether</span>\n",
       "        </li>\n",
       "                </ul>\n",
       "            </div>\n",
       "                    </ul>\n",
       "                </li>\n",
       "                \n",
       "                <li>\n",
       "                    <input type=\"checkbox\" id=\"enp24s0f0-b5bad8df-ab10-4e71-bd31-1ff30eca0435\" class=\"att\">\n",
       "                    <label for=\"enp24s0f0-b5bad8df-ab10-4e71-bd31-1ff30eca0435\">enp24s0f0 </label>\n",
       "                    <ul id=\"enp24s0f0\" class=\"enoslist\">\n",
       "                        <div class=\"enoslib_object\">\n",
       "                <div class=\"object_name\">\n",
       "                    &lt;class &#x27;enoslib.objects.NetDevice&#x27;&gt;@0x7f2ee9a07af0\n",
       "                </div>\n",
       "                <ul class=\"enoslist\">\n",
       "                    \n",
       "        <li>\n",
       "        <input type=\"checkbox\" id=\"device-fd709acd-2d74-454e-8c92-4b897f2f5840\" class=\"att\" disabled=\"\">\n",
       "        <label for=\"device-fd709acd-2d74-454e-8c92-4b897f2f5840\">\n",
       "            <span>device:&nbsp;</span>\n",
       "        </label>\n",
       "        <span>enp24s0f0</span>\n",
       "        </li>\n",
       "                <li>\n",
       "                    <input type=\"checkbox\" id=\"addresses-472f6205-818a-4410-a668-9233aab0a72d\" class=\"att\">\n",
       "                    <label for=\"addresses-472f6205-818a-4410-a668-9233aab0a72d\">addresses <span class=\"len\">(0)</span></label>\n",
       "                    <ul id=\"addresses\" class=\"enoslist\">\n",
       "                        \n",
       "                    </ul>\n",
       "                </li>\n",
       "                \n",
       "        <li>\n",
       "        <input type=\"checkbox\" id=\"type-2685176f-24f5-4d73-84b3-6b43b4b4bc7a\" class=\"att\" disabled=\"\">\n",
       "        <label for=\"type-2685176f-24f5-4d73-84b3-6b43b4b4bc7a\">\n",
       "            <span>type:&nbsp;</span>\n",
       "        </label>\n",
       "        <span>ether</span>\n",
       "        </li>\n",
       "                </ul>\n",
       "            </div>\n",
       "                    </ul>\n",
       "                </li>\n",
       "                \n",
       "                <li>\n",
       "                    <input type=\"checkbox\" id=\"enp24s0f1-7b601f95-c9af-4969-a09f-b5c426c4895e\" class=\"att\">\n",
       "                    <label for=\"enp24s0f1-7b601f95-c9af-4969-a09f-b5c426c4895e\">enp24s0f1 </label>\n",
       "                    <ul id=\"enp24s0f1\" class=\"enoslist\">\n",
       "                        <div class=\"enoslib_object\">\n",
       "                <div class=\"object_name\">\n",
       "                    &lt;class &#x27;enoslib.objects.NetDevice&#x27;&gt;@0x7f2ee9a36d30\n",
       "                </div>\n",
       "                <ul class=\"enoslist\">\n",
       "                    \n",
       "        <li>\n",
       "        <input type=\"checkbox\" id=\"device-1d80a5ea-71d1-4089-babe-d7b7b0494d10\" class=\"att\" disabled=\"\">\n",
       "        <label for=\"device-1d80a5ea-71d1-4089-babe-d7b7b0494d10\">\n",
       "            <span>device:&nbsp;</span>\n",
       "        </label>\n",
       "        <span>enp24s0f1</span>\n",
       "        </li>\n",
       "                <li>\n",
       "                    <input type=\"checkbox\" id=\"addresses-3a1bedec-bcae-4a2d-9cab-8a3794b2b681\" class=\"att\">\n",
       "                    <label for=\"addresses-3a1bedec-bcae-4a2d-9cab-8a3794b2b681\">addresses <span class=\"len\">(0)</span></label>\n",
       "                    <ul id=\"addresses\" class=\"enoslist\">\n",
       "                        \n",
       "                    </ul>\n",
       "                </li>\n",
       "                \n",
       "        <li>\n",
       "        <input type=\"checkbox\" id=\"type-a641df6e-7f8c-4d22-a1b8-b1ebe27dafc3\" class=\"att\" disabled=\"\">\n",
       "        <label for=\"type-a641df6e-7f8c-4d22-a1b8-b1ebe27dafc3\">\n",
       "            <span>type:&nbsp;</span>\n",
       "        </label>\n",
       "        <span>ether</span>\n",
       "        </li>\n",
       "                </ul>\n",
       "            </div>\n",
       "                    </ul>\n",
       "                </li>\n",
       "                \n",
       "                    </ul>\n",
       "                </li>\n",
       "                \n",
       "                <li>\n",
       "                    <input type=\"checkbox\" id=\"processor-430dac51-f106-4838-a97a-442de78f4961\" class=\"att\">\n",
       "                    <label for=\"processor-430dac51-f106-4838-a97a-442de78f4961\">processor <span class=\"len\">(64 vcpus)</span></label>\n",
       "                    <ul id=\"processor\" class=\"enoslist\">\n",
       "                        \n",
       "        <li>\n",
       "        <input type=\"checkbox\" id=\"cores-d136eefc-fd95-4c1c-856c-6d74de4f6394\" class=\"att\" disabled=\"\">\n",
       "        <label for=\"cores-d136eefc-fd95-4c1c-856c-6d74de4f6394\">\n",
       "            <span>cores:&nbsp;</span>\n",
       "        </label>\n",
       "        <span>16</span>\n",
       "        </li>\n",
       "        <li>\n",
       "        <input type=\"checkbox\" id=\"count-c261dcc8-acb8-494a-86c1-d4718159ff1f\" class=\"att\" disabled=\"\">\n",
       "        <label for=\"count-c261dcc8-acb8-494a-86c1-d4718159ff1f\">\n",
       "            <span>count:&nbsp;</span>\n",
       "        </label>\n",
       "        <span>2</span>\n",
       "        </li>\n",
       "        <li>\n",
       "        <input type=\"checkbox\" id=\"threads_per_core-153e7684-880f-441c-bafa-c0d37434221b\" class=\"att\" disabled=\"\">\n",
       "        <label for=\"threads_per_core-153e7684-880f-441c-bafa-c0d37434221b\">\n",
       "            <span>threads_per_core:&nbsp;</span>\n",
       "        </label>\n",
       "        <span>2</span>\n",
       "        </li>\n",
       "                    </ul>\n",
       "                </li>\n",
       "                \n",
       "                </ul>\n",
       "            </div>\n",
       "                    </ul>\n",
       "                </li>\n",
       "                \n",
       "                <li>\n",
       "                    <input type=\"checkbox\" id=\"dahu-32.grenoble.grid5000.fr-b5f418cb-75ef-4751-94dd-9654b5595813\" class=\"att\">\n",
       "                    <label for=\"dahu-32.grenoble.grid5000.fr-b5f418cb-75ef-4751-94dd-9654b5595813\">dahu-32.grenoble.grid5000.fr </label>\n",
       "                    <ul id=\"dahu-32.grenoble.grid5000.fr\" class=\"enoslist\">\n",
       "                        <div class=\"enoslib_object\">\n",
       "                <div class=\"object_name\">\n",
       "                    &lt;class &#x27;enoslib.objects.Host&#x27;&gt;@0x7f2ee9a36580\n",
       "                </div>\n",
       "                <ul class=\"enoslist\">\n",
       "                    \n",
       "        <li>\n",
       "        <input type=\"checkbox\" id=\"address-371ce200-0c1f-4481-a3bd-3e534dd1cc74\" class=\"att\" disabled=\"\">\n",
       "        <label for=\"address-371ce200-0c1f-4481-a3bd-3e534dd1cc74\">\n",
       "            <span>address:&nbsp;</span>\n",
       "        </label>\n",
       "        <span>dahu-32.grenoble.grid5000.fr</span>\n",
       "        </li>\n",
       "        <li>\n",
       "        <input type=\"checkbox\" id=\"alias-80881686-6800-4262-abb8-abdfdbef0d11\" class=\"att\" disabled=\"\">\n",
       "        <label for=\"alias-80881686-6800-4262-abb8-abdfdbef0d11\">\n",
       "            <span>alias:&nbsp;</span>\n",
       "        </label>\n",
       "        <span>dahu-32.grenoble.grid5000.fr</span>\n",
       "        </li>\n",
       "        <li>\n",
       "        <input type=\"checkbox\" id=\"user-a7efb0eb-dd0f-417b-8292-e2511b0c5bb8\" class=\"att\" disabled=\"\">\n",
       "        <label for=\"user-a7efb0eb-dd0f-417b-8292-e2511b0c5bb8\">\n",
       "            <span>user:&nbsp;</span>\n",
       "        </label>\n",
       "        <span>root</span>\n",
       "        </li>\n",
       "        <li>\n",
       "        <input type=\"checkbox\" id=\"keyfile-045924e0-d5fb-44a9-be0c-f8e18351d947\" class=\"att\" disabled=\"\">\n",
       "        <label for=\"keyfile-045924e0-d5fb-44a9-be0c-f8e18351d947\">\n",
       "            <span>keyfile:&nbsp;</span>\n",
       "        </label>\n",
       "        <span>None</span>\n",
       "        </li>\n",
       "        <li>\n",
       "        <input type=\"checkbox\" id=\"port-d1d92a83-7d8b-4611-af22-8e96d40d0ba6\" class=\"att\" disabled=\"\">\n",
       "        <label for=\"port-d1d92a83-7d8b-4611-af22-8e96d40d0ba6\">\n",
       "            <span>port:&nbsp;</span>\n",
       "        </label>\n",
       "        <span>None</span>\n",
       "        </li>\n",
       "                <li>\n",
       "                    <input type=\"checkbox\" id=\"extra-8a3da20e-f320-4086-8f2a-f10c0389615a\" class=\"att\">\n",
       "                    <label for=\"extra-8a3da20e-f320-4086-8f2a-f10c0389615a\">extra <span class=\"len\">(2)</span></label>\n",
       "                    <ul id=\"extra\" class=\"enoslist\">\n",
       "                        \n",
       "        <li>\n",
       "        <input type=\"checkbox\" id=\"gateway-7bb8a0aa-0fa9-4e66-8a80-f3aad4796f7c\" class=\"att\" disabled=\"\">\n",
       "        <label for=\"gateway-7bb8a0aa-0fa9-4e66-8a80-f3aad4796f7c\">\n",
       "            <span>gateway:&nbsp;</span>\n",
       "        </label>\n",
       "        <span>access.grid5000.fr</span>\n",
       "        </li>\n",
       "        <li>\n",
       "        <input type=\"checkbox\" id=\"gateway_user-e157768b-decd-4f5d-93a6-654b127b0606\" class=\"att\" disabled=\"\">\n",
       "        <label for=\"gateway_user-e157768b-decd-4f5d-93a6-654b127b0606\">\n",
       "            <span>gateway_user:&nbsp;</span>\n",
       "        </label>\n",
       "        <span>mrakotojaonarainimangavelo</span>\n",
       "        </li>\n",
       "                    </ul>\n",
       "                </li>\n",
       "                \n",
       "                <li>\n",
       "                    <input type=\"checkbox\" id=\"net_devices-92b8fef7-c117-4384-9d1a-1ca63b23cd20\" class=\"att\">\n",
       "                    <label for=\"net_devices-92b8fef7-c117-4384-9d1a-1ca63b23cd20\">net_devices <span class=\"len\">(5)</span></label>\n",
       "                    <ul id=\"net_devices\" class=\"enoslist\">\n",
       "                        \n",
       "                <li>\n",
       "                    <input type=\"checkbox\" id=\"lo-2013042d-0ff7-4ebb-9d7c-efa649af4ab5\" class=\"att\">\n",
       "                    <label for=\"lo-2013042d-0ff7-4ebb-9d7c-efa649af4ab5\">lo </label>\n",
       "                    <ul id=\"lo\" class=\"enoslist\">\n",
       "                        <div class=\"enoslib_object\">\n",
       "                <div class=\"object_name\">\n",
       "                    &lt;class &#x27;enoslib.objects.NetDevice&#x27;&gt;@0x7f2ee9a07dc0\n",
       "                </div>\n",
       "                <ul class=\"enoslist\">\n",
       "                    \n",
       "        <li>\n",
       "        <input type=\"checkbox\" id=\"device-73d74204-5e22-4ff9-a856-68a560eb4d8c\" class=\"att\" disabled=\"\">\n",
       "        <label for=\"device-73d74204-5e22-4ff9-a856-68a560eb4d8c\">\n",
       "            <span>device:&nbsp;</span>\n",
       "        </label>\n",
       "        <span>lo</span>\n",
       "        </li>\n",
       "                <li>\n",
       "                    <input type=\"checkbox\" id=\"addresses-d48165e0-473c-4066-a4af-9ccde1df5308\" class=\"att\">\n",
       "                    <label for=\"addresses-d48165e0-473c-4066-a4af-9ccde1df5308\">addresses <span class=\"len\">(2)</span></label>\n",
       "                    <ul id=\"addresses\" class=\"enoslist\">\n",
       "                        \n",
       "        <table>\n",
       "        <thead>\n",
       "            <tr>\n",
       "                <th>ip</th>\n",
       "            </tr>\n",
       "        </thead>\n",
       "        <tbody>\n",
       "        \n",
       "            <tr>\n",
       "                <td>\n",
       "                127.0.0.1/8 # noqa\n",
       "                </td>\n",
       "            </tr>\n",
       "            \n",
       "            <tr>\n",
       "                <td>\n",
       "                ::1/128 # noqa\n",
       "                </td>\n",
       "            </tr>\n",
       "            </tbody></table>\n",
       "                    </ul>\n",
       "                </li>\n",
       "                \n",
       "        <li>\n",
       "        <input type=\"checkbox\" id=\"type-7d2e333d-313b-43e0-b68e-bb12dbe81939\" class=\"att\" disabled=\"\">\n",
       "        <label for=\"type-7d2e333d-313b-43e0-b68e-bb12dbe81939\">\n",
       "            <span>type:&nbsp;</span>\n",
       "        </label>\n",
       "        <span>ether</span>\n",
       "        </li>\n",
       "                </ul>\n",
       "            </div>\n",
       "                    </ul>\n",
       "                </li>\n",
       "                \n",
       "                <li>\n",
       "                    <input type=\"checkbox\" id=\"br0-34d1c5cb-6d94-40c1-bcc5-8378d548647c\" class=\"att\">\n",
       "                    <label for=\"br0-34d1c5cb-6d94-40c1-bcc5-8378d548647c\">br0 </label>\n",
       "                    <ul id=\"br0\" class=\"enoslist\">\n",
       "                        <div class=\"enoslib_object\">\n",
       "                <div class=\"object_name\">\n",
       "                    &lt;class &#x27;enoslib.objects.BridgeDevice&#x27;&gt;@0x7f2ee9a07970\n",
       "                </div>\n",
       "                <ul class=\"enoslist\">\n",
       "                    \n",
       "        <li>\n",
       "        <input type=\"checkbox\" id=\"device-4c3c4707-b9db-45db-8ab2-34d772238ef6\" class=\"att\" disabled=\"\">\n",
       "        <label for=\"device-4c3c4707-b9db-45db-8ab2-34d772238ef6\">\n",
       "            <span>device:&nbsp;</span>\n",
       "        </label>\n",
       "        <span>br0</span>\n",
       "        </li>\n",
       "                <li>\n",
       "                    <input type=\"checkbox\" id=\"addresses-5f07a886-8e60-49c7-94ae-085bdb0170bc\" class=\"att\">\n",
       "                    <label for=\"addresses-5f07a886-8e60-49c7-94ae-085bdb0170bc\">addresses <span class=\"len\">(2)</span></label>\n",
       "                    <ul id=\"addresses\" class=\"enoslist\">\n",
       "                        \n",
       "        <table>\n",
       "        <thead>\n",
       "            <tr>\n",
       "                <th>ip</th>\n",
       "            </tr>\n",
       "        </thead>\n",
       "        <tbody>\n",
       "        \n",
       "            <tr>\n",
       "                <td>\n",
       "                172.16.20.32/20 # noqa\n",
       "                </td>\n",
       "            </tr>\n",
       "            \n",
       "            <tr>\n",
       "                <td>\n",
       "                fe80::3efd:feff:fe54:c3d8/64 # noqa\n",
       "                </td>\n",
       "            </tr>\n",
       "            </tbody></table>\n",
       "                    </ul>\n",
       "                </li>\n",
       "                \n",
       "        <li>\n",
       "        <input type=\"checkbox\" id=\"type-72f7cc78-2702-4f0c-b212-0317b02649aa\" class=\"att\" disabled=\"\">\n",
       "        <label for=\"type-72f7cc78-2702-4f0c-b212-0317b02649aa\">\n",
       "            <span>type:&nbsp;</span>\n",
       "        </label>\n",
       "        <span>bridge</span>\n",
       "        </li>\n",
       "                <li>\n",
       "                    <input type=\"checkbox\" id=\"interfaces-1239e8d8-0119-452f-977a-efd2db73a997\" class=\"att\">\n",
       "                    <label for=\"interfaces-1239e8d8-0119-452f-977a-efd2db73a997\">interfaces <span class=\"len\">(1)</span></label>\n",
       "                    <ul id=\"interfaces\" class=\"enoslist\">\n",
       "                        \n",
       "    <ul class=\"list\">\n",
       "        <li>\n",
       "        enp24s0f0\n",
       "        </li>\n",
       "    </ul>\n",
       "    \n",
       "                    </ul>\n",
       "                </li>\n",
       "                \n",
       "                </ul>\n",
       "            </div>\n",
       "                    </ul>\n",
       "                </li>\n",
       "                \n",
       "                <li>\n",
       "                    <input type=\"checkbox\" id=\"ib0-6e8f93b2-c18b-4c82-9fa1-9be356011a43\" class=\"att\">\n",
       "                    <label for=\"ib0-6e8f93b2-c18b-4c82-9fa1-9be356011a43\">ib0 </label>\n",
       "                    <ul id=\"ib0\" class=\"enoslist\">\n",
       "                        <div class=\"enoslib_object\">\n",
       "                <div class=\"object_name\">\n",
       "                    &lt;class &#x27;enoslib.objects.NetDevice&#x27;&gt;@0x7f2ee9a07370\n",
       "                </div>\n",
       "                <ul class=\"enoslist\">\n",
       "                    \n",
       "        <li>\n",
       "        <input type=\"checkbox\" id=\"device-4ecad889-cdc7-4fd9-804a-66372d484372\" class=\"att\" disabled=\"\">\n",
       "        <label for=\"device-4ecad889-cdc7-4fd9-804a-66372d484372\">\n",
       "            <span>device:&nbsp;</span>\n",
       "        </label>\n",
       "        <span>ib0</span>\n",
       "        </li>\n",
       "                <li>\n",
       "                    <input type=\"checkbox\" id=\"addresses-785b5cf1-4244-4e17-9bda-71e1075f632c\" class=\"att\">\n",
       "                    <label for=\"addresses-785b5cf1-4244-4e17-9bda-71e1075f632c\">addresses <span class=\"len\">(2)</span></label>\n",
       "                    <ul id=\"addresses\" class=\"enoslist\">\n",
       "                        \n",
       "        <table>\n",
       "        <thead>\n",
       "            <tr>\n",
       "                <th>ip</th>\n",
       "            </tr>\n",
       "        </thead>\n",
       "        <tbody>\n",
       "        \n",
       "            <tr>\n",
       "                <td>\n",
       "                fe80::211:7501:171:1e4f/64 # noqa\n",
       "                </td>\n",
       "            </tr>\n",
       "            \n",
       "            <tr>\n",
       "                <td>\n",
       "                172.18.20.32/20 # noqa\n",
       "                </td>\n",
       "            </tr>\n",
       "            </tbody></table>\n",
       "                    </ul>\n",
       "                </li>\n",
       "                \n",
       "        <li>\n",
       "        <input type=\"checkbox\" id=\"type-1bdfcdcc-217e-4ce5-b533-7307a3269867\" class=\"att\" disabled=\"\">\n",
       "        <label for=\"type-1bdfcdcc-217e-4ce5-b533-7307a3269867\">\n",
       "            <span>type:&nbsp;</span>\n",
       "        </label>\n",
       "        <span>ether</span>\n",
       "        </li>\n",
       "                </ul>\n",
       "            </div>\n",
       "                    </ul>\n",
       "                </li>\n",
       "                \n",
       "                <li>\n",
       "                    <input type=\"checkbox\" id=\"enp24s0f0-e00f7129-c8c9-412c-893c-bf4dc9197101\" class=\"att\">\n",
       "                    <label for=\"enp24s0f0-e00f7129-c8c9-412c-893c-bf4dc9197101\">enp24s0f0 </label>\n",
       "                    <ul id=\"enp24s0f0\" class=\"enoslist\">\n",
       "                        <div class=\"enoslib_object\">\n",
       "                <div class=\"object_name\">\n",
       "                    &lt;class &#x27;enoslib.objects.NetDevice&#x27;&gt;@0x7f2ee992d9d0\n",
       "                </div>\n",
       "                <ul class=\"enoslist\">\n",
       "                    \n",
       "        <li>\n",
       "        <input type=\"checkbox\" id=\"device-7b48fa52-2ea8-4441-a85a-907c7ab99e0a\" class=\"att\" disabled=\"\">\n",
       "        <label for=\"device-7b48fa52-2ea8-4441-a85a-907c7ab99e0a\">\n",
       "            <span>device:&nbsp;</span>\n",
       "        </label>\n",
       "        <span>enp24s0f0</span>\n",
       "        </li>\n",
       "                <li>\n",
       "                    <input type=\"checkbox\" id=\"addresses-e0584a3e-0fb6-43df-a6f6-d064f089169c\" class=\"att\">\n",
       "                    <label for=\"addresses-e0584a3e-0fb6-43df-a6f6-d064f089169c\">addresses <span class=\"len\">(0)</span></label>\n",
       "                    <ul id=\"addresses\" class=\"enoslist\">\n",
       "                        \n",
       "                    </ul>\n",
       "                </li>\n",
       "                \n",
       "        <li>\n",
       "        <input type=\"checkbox\" id=\"type-03072989-b012-4c1a-8a71-81323ebc2c8e\" class=\"att\" disabled=\"\">\n",
       "        <label for=\"type-03072989-b012-4c1a-8a71-81323ebc2c8e\">\n",
       "            <span>type:&nbsp;</span>\n",
       "        </label>\n",
       "        <span>ether</span>\n",
       "        </li>\n",
       "                </ul>\n",
       "            </div>\n",
       "                    </ul>\n",
       "                </li>\n",
       "                \n",
       "                <li>\n",
       "                    <input type=\"checkbox\" id=\"enp24s0f1-47c3f6eb-3707-4f5d-a53a-27c31254ce35\" class=\"att\">\n",
       "                    <label for=\"enp24s0f1-47c3f6eb-3707-4f5d-a53a-27c31254ce35\">enp24s0f1 </label>\n",
       "                    <ul id=\"enp24s0f1\" class=\"enoslist\">\n",
       "                        <div class=\"enoslib_object\">\n",
       "                <div class=\"object_name\">\n",
       "                    &lt;class &#x27;enoslib.objects.NetDevice&#x27;&gt;@0x7f2ee9931100\n",
       "                </div>\n",
       "                <ul class=\"enoslist\">\n",
       "                    \n",
       "        <li>\n",
       "        <input type=\"checkbox\" id=\"device-fae7b106-cf91-4327-af6a-fa9072df0238\" class=\"att\" disabled=\"\">\n",
       "        <label for=\"device-fae7b106-cf91-4327-af6a-fa9072df0238\">\n",
       "            <span>device:&nbsp;</span>\n",
       "        </label>\n",
       "        <span>enp24s0f1</span>\n",
       "        </li>\n",
       "                <li>\n",
       "                    <input type=\"checkbox\" id=\"addresses-fdd30c07-517f-4ee3-8d24-2e01a5d8687c\" class=\"att\">\n",
       "                    <label for=\"addresses-fdd30c07-517f-4ee3-8d24-2e01a5d8687c\">addresses <span class=\"len\">(0)</span></label>\n",
       "                    <ul id=\"addresses\" class=\"enoslist\">\n",
       "                        \n",
       "                    </ul>\n",
       "                </li>\n",
       "                \n",
       "        <li>\n",
       "        <input type=\"checkbox\" id=\"type-ffb917c1-dac6-4d3c-ab4f-67bfd4e98dc4\" class=\"att\" disabled=\"\">\n",
       "        <label for=\"type-ffb917c1-dac6-4d3c-ab4f-67bfd4e98dc4\">\n",
       "            <span>type:&nbsp;</span>\n",
       "        </label>\n",
       "        <span>ether</span>\n",
       "        </li>\n",
       "                </ul>\n",
       "            </div>\n",
       "                    </ul>\n",
       "                </li>\n",
       "                \n",
       "                    </ul>\n",
       "                </li>\n",
       "                \n",
       "                <li>\n",
       "                    <input type=\"checkbox\" id=\"processor-cdbaf20d-2e05-4d03-95c8-4a05d8cd40e5\" class=\"att\">\n",
       "                    <label for=\"processor-cdbaf20d-2e05-4d03-95c8-4a05d8cd40e5\">processor <span class=\"len\">(64 vcpus)</span></label>\n",
       "                    <ul id=\"processor\" class=\"enoslist\">\n",
       "                        \n",
       "        <li>\n",
       "        <input type=\"checkbox\" id=\"cores-ada78a87-a10e-4030-8442-a181696303c5\" class=\"att\" disabled=\"\">\n",
       "        <label for=\"cores-ada78a87-a10e-4030-8442-a181696303c5\">\n",
       "            <span>cores:&nbsp;</span>\n",
       "        </label>\n",
       "        <span>16</span>\n",
       "        </li>\n",
       "        <li>\n",
       "        <input type=\"checkbox\" id=\"count-b21f217b-5d36-405f-8fe2-3ec9887c2fa0\" class=\"att\" disabled=\"\">\n",
       "        <label for=\"count-b21f217b-5d36-405f-8fe2-3ec9887c2fa0\">\n",
       "            <span>count:&nbsp;</span>\n",
       "        </label>\n",
       "        <span>2</span>\n",
       "        </li>\n",
       "        <li>\n",
       "        <input type=\"checkbox\" id=\"threads_per_core-f4b51c4d-a926-4c57-ac9c-1891fac05f4b\" class=\"att\" disabled=\"\">\n",
       "        <label for=\"threads_per_core-f4b51c4d-a926-4c57-ac9c-1891fac05f4b\">\n",
       "            <span>threads_per_core:&nbsp;</span>\n",
       "        </label>\n",
       "        <span>2</span>\n",
       "        </li>\n",
       "                    </ul>\n",
       "                </li>\n",
       "                \n",
       "                </ul>\n",
       "            </div>\n",
       "                    </ul>\n",
       "                </li>\n",
       "                \n",
       "                <li>\n",
       "                    <input type=\"checkbox\" id=\"dahu-3.grenoble.grid5000.fr-479b2c78-4bdc-4f24-9125-601e259ece24\" class=\"att\">\n",
       "                    <label for=\"dahu-3.grenoble.grid5000.fr-479b2c78-4bdc-4f24-9125-601e259ece24\">dahu-3.grenoble.grid5000.fr </label>\n",
       "                    <ul id=\"dahu-3.grenoble.grid5000.fr\" class=\"enoslist\">\n",
       "                        <div class=\"enoslib_object\">\n",
       "                <div class=\"object_name\">\n",
       "                    &lt;class &#x27;enoslib.objects.Host&#x27;&gt;@0x7f2ee9a365b0\n",
       "                </div>\n",
       "                <ul class=\"enoslist\">\n",
       "                    \n",
       "        <li>\n",
       "        <input type=\"checkbox\" id=\"address-ce8cefc6-383f-4c54-b10c-d691f6a5a644\" class=\"att\" disabled=\"\">\n",
       "        <label for=\"address-ce8cefc6-383f-4c54-b10c-d691f6a5a644\">\n",
       "            <span>address:&nbsp;</span>\n",
       "        </label>\n",
       "        <span>dahu-3.grenoble.grid5000.fr</span>\n",
       "        </li>\n",
       "        <li>\n",
       "        <input type=\"checkbox\" id=\"alias-b8bf3f2d-4871-4574-a3e3-747f3f13ceb7\" class=\"att\" disabled=\"\">\n",
       "        <label for=\"alias-b8bf3f2d-4871-4574-a3e3-747f3f13ceb7\">\n",
       "            <span>alias:&nbsp;</span>\n",
       "        </label>\n",
       "        <span>dahu-3.grenoble.grid5000.fr</span>\n",
       "        </li>\n",
       "        <li>\n",
       "        <input type=\"checkbox\" id=\"user-d0e55bae-c574-47af-bc92-3460b8f7731c\" class=\"att\" disabled=\"\">\n",
       "        <label for=\"user-d0e55bae-c574-47af-bc92-3460b8f7731c\">\n",
       "            <span>user:&nbsp;</span>\n",
       "        </label>\n",
       "        <span>root</span>\n",
       "        </li>\n",
       "        <li>\n",
       "        <input type=\"checkbox\" id=\"keyfile-a4f63f1b-30d9-462e-a225-257428e713c0\" class=\"att\" disabled=\"\">\n",
       "        <label for=\"keyfile-a4f63f1b-30d9-462e-a225-257428e713c0\">\n",
       "            <span>keyfile:&nbsp;</span>\n",
       "        </label>\n",
       "        <span>None</span>\n",
       "        </li>\n",
       "        <li>\n",
       "        <input type=\"checkbox\" id=\"port-55820592-8c24-4b39-a323-336293db3ebf\" class=\"att\" disabled=\"\">\n",
       "        <label for=\"port-55820592-8c24-4b39-a323-336293db3ebf\">\n",
       "            <span>port:&nbsp;</span>\n",
       "        </label>\n",
       "        <span>None</span>\n",
       "        </li>\n",
       "                <li>\n",
       "                    <input type=\"checkbox\" id=\"extra-177f3d37-e746-4a92-983f-be562b36ef21\" class=\"att\">\n",
       "                    <label for=\"extra-177f3d37-e746-4a92-983f-be562b36ef21\">extra <span class=\"len\">(2)</span></label>\n",
       "                    <ul id=\"extra\" class=\"enoslist\">\n",
       "                        \n",
       "        <li>\n",
       "        <input type=\"checkbox\" id=\"gateway-e18dfd9b-6939-44d3-ae2c-aa32155cf966\" class=\"att\" disabled=\"\">\n",
       "        <label for=\"gateway-e18dfd9b-6939-44d3-ae2c-aa32155cf966\">\n",
       "            <span>gateway:&nbsp;</span>\n",
       "        </label>\n",
       "        <span>access.grid5000.fr</span>\n",
       "        </li>\n",
       "        <li>\n",
       "        <input type=\"checkbox\" id=\"gateway_user-2c508142-a758-495c-84b4-18d55e54f366\" class=\"att\" disabled=\"\">\n",
       "        <label for=\"gateway_user-2c508142-a758-495c-84b4-18d55e54f366\">\n",
       "            <span>gateway_user:&nbsp;</span>\n",
       "        </label>\n",
       "        <span>mrakotojaonarainimangavelo</span>\n",
       "        </li>\n",
       "                    </ul>\n",
       "                </li>\n",
       "                \n",
       "                <li>\n",
       "                    <input type=\"checkbox\" id=\"net_devices-8064be48-9bae-4ead-85c6-63ebd0aec886\" class=\"att\">\n",
       "                    <label for=\"net_devices-8064be48-9bae-4ead-85c6-63ebd0aec886\">net_devices <span class=\"len\">(5)</span></label>\n",
       "                    <ul id=\"net_devices\" class=\"enoslist\">\n",
       "                        \n",
       "                <li>\n",
       "                    <input type=\"checkbox\" id=\"lo-7868c1ca-8047-45b6-8752-80cf1fa1fb23\" class=\"att\">\n",
       "                    <label for=\"lo-7868c1ca-8047-45b6-8752-80cf1fa1fb23\">lo </label>\n",
       "                    <ul id=\"lo\" class=\"enoslist\">\n",
       "                        <div class=\"enoslib_object\">\n",
       "                <div class=\"object_name\">\n",
       "                    &lt;class &#x27;enoslib.objects.NetDevice&#x27;&gt;@0x7f2eea31b520\n",
       "                </div>\n",
       "                <ul class=\"enoslist\">\n",
       "                    \n",
       "        <li>\n",
       "        <input type=\"checkbox\" id=\"device-3d25901f-9a24-4fc5-8eea-00602b36bded\" class=\"att\" disabled=\"\">\n",
       "        <label for=\"device-3d25901f-9a24-4fc5-8eea-00602b36bded\">\n",
       "            <span>device:&nbsp;</span>\n",
       "        </label>\n",
       "        <span>lo</span>\n",
       "        </li>\n",
       "                <li>\n",
       "                    <input type=\"checkbox\" id=\"addresses-fc9ddae6-42ca-46c1-89b4-f991de57a4b5\" class=\"att\">\n",
       "                    <label for=\"addresses-fc9ddae6-42ca-46c1-89b4-f991de57a4b5\">addresses <span class=\"len\">(2)</span></label>\n",
       "                    <ul id=\"addresses\" class=\"enoslist\">\n",
       "                        \n",
       "        <table>\n",
       "        <thead>\n",
       "            <tr>\n",
       "                <th>ip</th>\n",
       "            </tr>\n",
       "        </thead>\n",
       "        <tbody>\n",
       "        \n",
       "            <tr>\n",
       "                <td>\n",
       "                127.0.0.1/8 # noqa\n",
       "                </td>\n",
       "            </tr>\n",
       "            \n",
       "            <tr>\n",
       "                <td>\n",
       "                ::1/128 # noqa\n",
       "                </td>\n",
       "            </tr>\n",
       "            </tbody></table>\n",
       "                    </ul>\n",
       "                </li>\n",
       "                \n",
       "        <li>\n",
       "        <input type=\"checkbox\" id=\"type-681b5480-35cc-43ff-83b5-c030c38a9d56\" class=\"att\" disabled=\"\">\n",
       "        <label for=\"type-681b5480-35cc-43ff-83b5-c030c38a9d56\">\n",
       "            <span>type:&nbsp;</span>\n",
       "        </label>\n",
       "        <span>ether</span>\n",
       "        </li>\n",
       "                </ul>\n",
       "            </div>\n",
       "                    </ul>\n",
       "                </li>\n",
       "                \n",
       "                <li>\n",
       "                    <input type=\"checkbox\" id=\"br0-c0a2981c-a05d-4f84-8a9d-5d6d4d5ca69e\" class=\"att\">\n",
       "                    <label for=\"br0-c0a2981c-a05d-4f84-8a9d-5d6d4d5ca69e\">br0 </label>\n",
       "                    <ul id=\"br0\" class=\"enoslist\">\n",
       "                        <div class=\"enoslib_object\">\n",
       "                <div class=\"object_name\">\n",
       "                    &lt;class &#x27;enoslib.objects.BridgeDevice&#x27;&gt;@0x7f2ee9925eb0\n",
       "                </div>\n",
       "                <ul class=\"enoslist\">\n",
       "                    \n",
       "        <li>\n",
       "        <input type=\"checkbox\" id=\"device-2242acca-2a79-4e65-b85e-12fdb4059eb6\" class=\"att\" disabled=\"\">\n",
       "        <label for=\"device-2242acca-2a79-4e65-b85e-12fdb4059eb6\">\n",
       "            <span>device:&nbsp;</span>\n",
       "        </label>\n",
       "        <span>br0</span>\n",
       "        </li>\n",
       "                <li>\n",
       "                    <input type=\"checkbox\" id=\"addresses-03e4d805-8a4d-4e8b-9459-fbe13cc1a4f6\" class=\"att\">\n",
       "                    <label for=\"addresses-03e4d805-8a4d-4e8b-9459-fbe13cc1a4f6\">addresses <span class=\"len\">(2)</span></label>\n",
       "                    <ul id=\"addresses\" class=\"enoslist\">\n",
       "                        \n",
       "        <table>\n",
       "        <thead>\n",
       "            <tr>\n",
       "                <th>ip</th>\n",
       "            </tr>\n",
       "        </thead>\n",
       "        <tbody>\n",
       "        \n",
       "            <tr>\n",
       "                <td>\n",
       "                fe80::3efd:feff:fe55:eee0/64 # noqa\n",
       "                </td>\n",
       "            </tr>\n",
       "            \n",
       "            <tr>\n",
       "                <td>\n",
       "                172.16.20.3/20 # noqa\n",
       "                </td>\n",
       "            </tr>\n",
       "            </tbody></table>\n",
       "                    </ul>\n",
       "                </li>\n",
       "                \n",
       "        <li>\n",
       "        <input type=\"checkbox\" id=\"type-8e1ce9f2-3b7b-4cc3-933f-506a573c852f\" class=\"att\" disabled=\"\">\n",
       "        <label for=\"type-8e1ce9f2-3b7b-4cc3-933f-506a573c852f\">\n",
       "            <span>type:&nbsp;</span>\n",
       "        </label>\n",
       "        <span>bridge</span>\n",
       "        </li>\n",
       "                <li>\n",
       "                    <input type=\"checkbox\" id=\"interfaces-0acd7e4c-dea4-4533-9606-4d83c5c8a198\" class=\"att\">\n",
       "                    <label for=\"interfaces-0acd7e4c-dea4-4533-9606-4d83c5c8a198\">interfaces <span class=\"len\">(1)</span></label>\n",
       "                    <ul id=\"interfaces\" class=\"enoslist\">\n",
       "                        \n",
       "    <ul class=\"list\">\n",
       "        <li>\n",
       "        enp24s0f0\n",
       "        </li>\n",
       "    </ul>\n",
       "    \n",
       "                    </ul>\n",
       "                </li>\n",
       "                \n",
       "                </ul>\n",
       "            </div>\n",
       "                    </ul>\n",
       "                </li>\n",
       "                \n",
       "                <li>\n",
       "                    <input type=\"checkbox\" id=\"ib0-a23d2ce5-487f-489f-a9b1-df18157bdf1c\" class=\"att\">\n",
       "                    <label for=\"ib0-a23d2ce5-487f-489f-a9b1-df18157bdf1c\">ib0 </label>\n",
       "                    <ul id=\"ib0\" class=\"enoslist\">\n",
       "                        <div class=\"enoslib_object\">\n",
       "                <div class=\"object_name\">\n",
       "                    &lt;class &#x27;enoslib.objects.NetDevice&#x27;&gt;@0x7f2ee992d6a0\n",
       "                </div>\n",
       "                <ul class=\"enoslist\">\n",
       "                    \n",
       "        <li>\n",
       "        <input type=\"checkbox\" id=\"device-8fbef8a7-da92-4255-9525-733aab6c3547\" class=\"att\" disabled=\"\">\n",
       "        <label for=\"device-8fbef8a7-da92-4255-9525-733aab6c3547\">\n",
       "            <span>device:&nbsp;</span>\n",
       "        </label>\n",
       "        <span>ib0</span>\n",
       "        </li>\n",
       "                <li>\n",
       "                    <input type=\"checkbox\" id=\"addresses-cf7f3082-83b1-4a8e-a94d-8a3edd247fec\" class=\"att\">\n",
       "                    <label for=\"addresses-cf7f3082-83b1-4a8e-a94d-8a3edd247fec\">addresses <span class=\"len\">(2)</span></label>\n",
       "                    <ul id=\"addresses\" class=\"enoslist\">\n",
       "                        \n",
       "        <table>\n",
       "        <thead>\n",
       "            <tr>\n",
       "                <th>ip</th>\n",
       "            </tr>\n",
       "        </thead>\n",
       "        <tbody>\n",
       "        \n",
       "            <tr>\n",
       "                <td>\n",
       "                172.18.20.3/20 # noqa\n",
       "                </td>\n",
       "            </tr>\n",
       "            \n",
       "            <tr>\n",
       "                <td>\n",
       "                fe80::211:7501:171:1ffe/64 # noqa\n",
       "                </td>\n",
       "            </tr>\n",
       "            </tbody></table>\n",
       "                    </ul>\n",
       "                </li>\n",
       "                \n",
       "        <li>\n",
       "        <input type=\"checkbox\" id=\"type-4ccb0ac3-6874-4e96-971c-cd7383dfd08d\" class=\"att\" disabled=\"\">\n",
       "        <label for=\"type-4ccb0ac3-6874-4e96-971c-cd7383dfd08d\">\n",
       "            <span>type:&nbsp;</span>\n",
       "        </label>\n",
       "        <span>ether</span>\n",
       "        </li>\n",
       "                </ul>\n",
       "            </div>\n",
       "                    </ul>\n",
       "                </li>\n",
       "                \n",
       "                <li>\n",
       "                    <input type=\"checkbox\" id=\"enp24s0f0-0c444097-b7ce-4108-9af3-3f3d4540d95b\" class=\"att\">\n",
       "                    <label for=\"enp24s0f0-0c444097-b7ce-4108-9af3-3f3d4540d95b\">enp24s0f0 </label>\n",
       "                    <ul id=\"enp24s0f0\" class=\"enoslist\">\n",
       "                        <div class=\"enoslib_object\">\n",
       "                <div class=\"object_name\">\n",
       "                    &lt;class &#x27;enoslib.objects.NetDevice&#x27;&gt;@0x7f2ee9929310\n",
       "                </div>\n",
       "                <ul class=\"enoslist\">\n",
       "                    \n",
       "        <li>\n",
       "        <input type=\"checkbox\" id=\"device-f9769692-02f6-41de-b4d0-0703a3b430d4\" class=\"att\" disabled=\"\">\n",
       "        <label for=\"device-f9769692-02f6-41de-b4d0-0703a3b430d4\">\n",
       "            <span>device:&nbsp;</span>\n",
       "        </label>\n",
       "        <span>enp24s0f0</span>\n",
       "        </li>\n",
       "                <li>\n",
       "                    <input type=\"checkbox\" id=\"addresses-3d17f2e0-5d41-42a3-8368-6a89e47f7cda\" class=\"att\">\n",
       "                    <label for=\"addresses-3d17f2e0-5d41-42a3-8368-6a89e47f7cda\">addresses <span class=\"len\">(0)</span></label>\n",
       "                    <ul id=\"addresses\" class=\"enoslist\">\n",
       "                        \n",
       "                    </ul>\n",
       "                </li>\n",
       "                \n",
       "        <li>\n",
       "        <input type=\"checkbox\" id=\"type-0035708b-7c3a-4510-a243-b4adbecb6ab0\" class=\"att\" disabled=\"\">\n",
       "        <label for=\"type-0035708b-7c3a-4510-a243-b4adbecb6ab0\">\n",
       "            <span>type:&nbsp;</span>\n",
       "        </label>\n",
       "        <span>ether</span>\n",
       "        </li>\n",
       "                </ul>\n",
       "            </div>\n",
       "                    </ul>\n",
       "                </li>\n",
       "                \n",
       "                <li>\n",
       "                    <input type=\"checkbox\" id=\"enp24s0f1-a7250756-0791-43b5-b1bc-112a019365c0\" class=\"att\">\n",
       "                    <label for=\"enp24s0f1-a7250756-0791-43b5-b1bc-112a019365c0\">enp24s0f1 </label>\n",
       "                    <ul id=\"enp24s0f1\" class=\"enoslist\">\n",
       "                        <div class=\"enoslib_object\">\n",
       "                <div class=\"object_name\">\n",
       "                    &lt;class &#x27;enoslib.objects.NetDevice&#x27;&gt;@0x7f2ee992d5e0\n",
       "                </div>\n",
       "                <ul class=\"enoslist\">\n",
       "                    \n",
       "        <li>\n",
       "        <input type=\"checkbox\" id=\"device-743a0857-21a3-4a47-a939-d4f6083ff31b\" class=\"att\" disabled=\"\">\n",
       "        <label for=\"device-743a0857-21a3-4a47-a939-d4f6083ff31b\">\n",
       "            <span>device:&nbsp;</span>\n",
       "        </label>\n",
       "        <span>enp24s0f1</span>\n",
       "        </li>\n",
       "                <li>\n",
       "                    <input type=\"checkbox\" id=\"addresses-95aabda1-f754-4fcb-9919-1e78862ee73d\" class=\"att\">\n",
       "                    <label for=\"addresses-95aabda1-f754-4fcb-9919-1e78862ee73d\">addresses <span class=\"len\">(0)</span></label>\n",
       "                    <ul id=\"addresses\" class=\"enoslist\">\n",
       "                        \n",
       "                    </ul>\n",
       "                </li>\n",
       "                \n",
       "        <li>\n",
       "        <input type=\"checkbox\" id=\"type-1819e988-5952-4512-a003-b23a5a756425\" class=\"att\" disabled=\"\">\n",
       "        <label for=\"type-1819e988-5952-4512-a003-b23a5a756425\">\n",
       "            <span>type:&nbsp;</span>\n",
       "        </label>\n",
       "        <span>ether</span>\n",
       "        </li>\n",
       "                </ul>\n",
       "            </div>\n",
       "                    </ul>\n",
       "                </li>\n",
       "                \n",
       "                    </ul>\n",
       "                </li>\n",
       "                \n",
       "                <li>\n",
       "                    <input type=\"checkbox\" id=\"processor-734e338c-a1fb-4574-8d31-67018b761c56\" class=\"att\">\n",
       "                    <label for=\"processor-734e338c-a1fb-4574-8d31-67018b761c56\">processor <span class=\"len\">(64 vcpus)</span></label>\n",
       "                    <ul id=\"processor\" class=\"enoslist\">\n",
       "                        \n",
       "        <li>\n",
       "        <input type=\"checkbox\" id=\"cores-3a6d8409-4d89-4a8f-b5e5-500894c537e2\" class=\"att\" disabled=\"\">\n",
       "        <label for=\"cores-3a6d8409-4d89-4a8f-b5e5-500894c537e2\">\n",
       "            <span>cores:&nbsp;</span>\n",
       "        </label>\n",
       "        <span>16</span>\n",
       "        </li>\n",
       "        <li>\n",
       "        <input type=\"checkbox\" id=\"count-e983d271-d382-493f-9710-329b2889d560\" class=\"att\" disabled=\"\">\n",
       "        <label for=\"count-e983d271-d382-493f-9710-329b2889d560\">\n",
       "            <span>count:&nbsp;</span>\n",
       "        </label>\n",
       "        <span>2</span>\n",
       "        </li>\n",
       "        <li>\n",
       "        <input type=\"checkbox\" id=\"threads_per_core-341fff87-9c7d-4b17-9a0d-06851cb92d01\" class=\"att\" disabled=\"\">\n",
       "        <label for=\"threads_per_core-341fff87-9c7d-4b17-9a0d-06851cb92d01\">\n",
       "            <span>threads_per_core:&nbsp;</span>\n",
       "        </label>\n",
       "        <span>2</span>\n",
       "        </li>\n",
       "                    </ul>\n",
       "                </li>\n",
       "                \n",
       "                </ul>\n",
       "            </div>\n",
       "                    </ul>\n",
       "                </li>\n",
       "                \n",
       "                    </ul>\n",
       "                </li>\n",
       "                \n",
       "                </ul>\n",
       "            </div>\n",
       "        </div>\n",
       "    "
      ],
      "text/plain": [
       "{'cheops': {Host(address='dahu-28.grenoble.grid5000.fr', alias='dahu-28.grenoble.grid5000.fr', user='root', keyfile=None, port=None, extra={'gateway': 'access.grid5000.fr', 'gateway_user': 'mrakotojaonarainimangavelo'}, net_devices={NetDevice(name='lo', addresses={IPAddress(network=None, ip=IPv4Interface('127.0.0.1/8')), IPAddress(network=None, ip=IPv6Interface('::1/128'))}), BridgeDevice(name='br0', addresses={IPAddress(network=None, ip=IPv6Interface('fe80::3efd:feff:fe54:2ae0/64')), IPAddress(network=<enoslib.infra.enos_g5k.objects.G5kEnosProd4Network object at 0x7f2eeb464970>, ip=IPv4Interface('172.16.20.28/20'))}, bridged=['enp24s0f0']), NetDevice(name='ib0', addresses={IPAddress(network=None, ip=IPv4Interface('172.18.20.28/20')), IPAddress(network=None, ip=IPv6Interface('fe80::211:7501:171:d78e/64'))}), NetDevice(name='enp24s0f0', addresses=set()), NetDevice(name='enp24s0f1', addresses=set())}, _Host__original_extra={'gateway': 'access.grid5000.fr', 'gateway_user': 'mrakotojaonarainimangavelo'}), Host(address='dahu-8.grenoble.grid5000.fr', alias='dahu-8.grenoble.grid5000.fr', user='root', keyfile=None, port=None, extra={'gateway': 'access.grid5000.fr', 'gateway_user': 'mrakotojaonarainimangavelo'}, net_devices={NetDevice(name='lo', addresses={IPAddress(network=None, ip=IPv4Interface('127.0.0.1/8')), IPAddress(network=None, ip=IPv6Interface('::1/128'))}), BridgeDevice(name='br0', addresses={IPAddress(network=<enoslib.infra.enos_g5k.objects.G5kEnosProd4Network object at 0x7f2eeb464970>, ip=IPv4Interface('172.16.20.8/20')), IPAddress(network=None, ip=IPv6Interface('fe80::3efd:feff:fe54:a658/64'))}, bridged=['enp24s0f0']), NetDevice(name='ib0', addresses={IPAddress(network=None, ip=IPv6Interface('fe80::211:7501:171:1fea/64')), IPAddress(network=None, ip=IPv4Interface('172.18.20.8/20'))}), NetDevice(name='enp24s0f0', addresses=set()), NetDevice(name='enp24s0f1', addresses=set())}, _Host__original_extra={'gateway': 'access.grid5000.fr', 'gateway_user': 'mrakotojaonarainimangavelo'}), Host(address='dahu-32.grenoble.grid5000.fr', alias='dahu-32.grenoble.grid5000.fr', user='root', keyfile=None, port=None, extra={'gateway': 'access.grid5000.fr', 'gateway_user': 'mrakotojaonarainimangavelo'}, net_devices={NetDevice(name='lo', addresses={IPAddress(network=None, ip=IPv4Interface('127.0.0.1/8')), IPAddress(network=None, ip=IPv6Interface('::1/128'))}), BridgeDevice(name='br0', addresses={IPAddress(network=<enoslib.infra.enos_g5k.objects.G5kEnosProd4Network object at 0x7f2eeb464970>, ip=IPv4Interface('172.16.20.32/20')), IPAddress(network=None, ip=IPv6Interface('fe80::3efd:feff:fe54:c3d8/64'))}, bridged=['enp24s0f0']), NetDevice(name='ib0', addresses={IPAddress(network=None, ip=IPv6Interface('fe80::211:7501:171:1e4f/64')), IPAddress(network=None, ip=IPv4Interface('172.18.20.32/20'))}), NetDevice(name='enp24s0f0', addresses=set()), NetDevice(name='enp24s0f1', addresses=set())}, _Host__original_extra={'gateway': 'access.grid5000.fr', 'gateway_user': 'mrakotojaonarainimangavelo'}), Host(address='dahu-3.grenoble.grid5000.fr', alias='dahu-3.grenoble.grid5000.fr', user='root', keyfile=None, port=None, extra={'gateway': 'access.grid5000.fr', 'gateway_user': 'mrakotojaonarainimangavelo'}, net_devices={NetDevice(name='lo', addresses={IPAddress(network=None, ip=IPv4Interface('127.0.0.1/8')), IPAddress(network=None, ip=IPv6Interface('::1/128'))}), BridgeDevice(name='br0', addresses={IPAddress(network=None, ip=IPv6Interface('fe80::3efd:feff:fe55:eee0/64')), IPAddress(network=<enoslib.infra.enos_g5k.objects.G5kEnosProd4Network object at 0x7f2eeb464970>, ip=IPv4Interface('172.16.20.3/20'))}, bridged=['enp24s0f0']), NetDevice(name='ib0', addresses={IPAddress(network=None, ip=IPv4Interface('172.18.20.3/20')), IPAddress(network=None, ip=IPv6Interface('fe80::211:7501:171:1ffe/64'))}), NetDevice(name='enp24s0f0', addresses=set()), NetDevice(name='enp24s0f1', addresses=set())}, _Host__original_extra={'gateway': 'access.grid5000.fr', 'gateway_user': 'mrakotojaonarainimangavelo'})}}"
      ]
     },
     "execution_count": 5,
     "metadata": {},
     "output_type": "execute_result"
    }
   ],
   "source": [
    "roles"
   ]
  },
  {
   "cell_type": "markdown",
   "id": "d799bafb-8a1c-4051-a8ce-a7c530e65f60",
   "metadata": {
    "tags": []
   },
   "source": [
    "# Install Couchdb"
   ]
  },
  {
   "cell_type": "code",
   "execution_count": 6,
   "id": "c2e623a6-f991-45ec-b59a-cd87be2e8031",
   "metadata": {
    "scrolled": true,
    "tags": []
   },
   "outputs": [
    {
     "data": {
      "application/vnd.jupyter.widget-view+json": {
       "model_id": "",
       "version_major": 2,
       "version_minor": 0
      },
      "text/plain": [
       "Output()"
      ]
     },
     "metadata": {},
     "output_type": "display_data"
    },
    {
     "data": {
      "text/html": [
       "<pre style=\"white-space:pre;overflow-x:auto;line-height:normal;font-family:Menlo,'DejaVu Sans Mono',consolas,'Courier New',monospace\"></pre>\n"
      ],
      "text/plain": []
     },
     "metadata": {},
     "output_type": "display_data"
    },
    {
     "data": {
      "text/html": [
       "<pre style=\"white-space:pre;overflow-x:auto;line-height:normal;font-family:Menlo,'DejaVu Sans Mono',consolas,'Courier New',monospace\"><span style=\"color: #000080; text-decoration-color: #000080; font-weight: bold\">Finished </span><span style=\"color: #000080; text-decoration-color: #000080; font-weight: bold\">7</span><span style=\"color: #000080; text-decoration-color: #000080; font-weight: bold\"> tasks</span> <span style=\"font-weight: bold; font-style: italic\">(</span><span style=\"font-style: italic\">Gather facts,apt_key,apt_repository,shell,apt,lineinfile,systemd</span><span style=\"font-weight: bold; font-style: italic\">)</span> on \n",
       "<span style=\"font-weight: bold\">{</span><span style=\"color: #008000; text-decoration-color: #008000\">'dahu-28.grenoble.grid5000.fr'</span>, <span style=\"color: #008000; text-decoration-color: #008000\">'dahu-32.grenoble.grid5000.fr'</span>, \n",
       "<span style=\"color: #008000; text-decoration-color: #008000\">'dahu-8.grenoble.grid5000.fr'</span>, <span style=\"color: #008000; text-decoration-color: #008000\">'dahu-3.grenoble.grid5000.fr'</span><span style=\"font-weight: bold\">}</span>\n",
       "</pre>\n"
      ],
      "text/plain": [
       "\u001b[1;34mFinished \u001b[0m\u001b[1;34m7\u001b[0m\u001b[1;34m tasks\u001b[0m \u001b[1;3m(\u001b[0m\u001b[3mGather facts,apt_key,apt_repository,shell,apt,lineinfile,systemd\u001b[0m\u001b[1;3m)\u001b[0m on \n",
       "\u001b[1m{\u001b[0m\u001b[32m'dahu-28.grenoble.grid5000.fr'\u001b[0m, \u001b[32m'dahu-32.grenoble.grid5000.fr'\u001b[0m, \n",
       "\u001b[32m'dahu-8.grenoble.grid5000.fr'\u001b[0m, \u001b[32m'dahu-3.grenoble.grid5000.fr'\u001b[0m\u001b[1m}\u001b[0m\n"
      ]
     },
     "metadata": {},
     "output_type": "display_data"
    },
    {
     "data": {
      "text/html": [
       "<pre style=\"white-space:pre;overflow-x:auto;line-height:normal;font-family:Menlo,'DejaVu Sans Mono',consolas,'Courier New',monospace\"><span style=\"color: #00ff00; text-decoration-color: #00ff00\">─────────────────────────────────────────────────────────────────────────────────────────────</span>\n",
       "</pre>\n"
      ],
      "text/plain": [
       "\u001b[92m─────────────────────────────────────────────────────────────────────────────────────────────\u001b[0m\n"
      ]
     },
     "metadata": {},
     "output_type": "display_data"
    }
   ],
   "source": [
    "with en.actions(roles=roles[\"cheops\"], gather_facts=True) as p:\n",
    "    p.apt_key(url=\"https://couchdb.apache.org/repo/keys.asc\")\n",
    "    p.apt_repository(repo=\"deb https://apache.jfrog.io/artifactory/couchdb-deb/ {{ ansible_distribution_release }} main\")\n",
    "    p.shell(cmd=\"\"\"\n",
    "        COUCHDB_PASSWORD=password\n",
    "        echo \"couchdb couchdb/mode select standalone\n",
    "            couchdb couchdb/mode seen true\n",
    "            couchdb couchdb/bindaddress string 127.0.0.1\n",
    "            couchdb couchdb/bindaddress seen true\n",
    "            couchdb couchdb/cookie string elmo\n",
    "            couchdb couchdb/cookie seen true\n",
    "            couchdb couchdb/adminpass password ${COUCHDB_PASSWORD}\n",
    "            couchdb couchdb/adminpass seen true\n",
    "            couchdb couchdb/adminpass_again password ${COUCHDB_PASSWORD}\n",
    "            couchdb couchdb/adminpass_again seen true\" | debconf-set-selections\n",
    "    \"\"\")\n",
    "    p.apt(pkg=\"couchdb\")\n",
    "    p.lineinfile(\n",
    "        path=\"/opt/couchdb/etc/local.ini\",\n",
    "        line=\"single_node=true\",\n",
    "        insertafter=\"\\[couchdb\\]\"\n",
    "    )    \n",
    "    p.lineinfile(\n",
    "        path=\"/opt/couchdb/etc/local.ini\",\n",
    "        line=\"bind_address = :: \",\n",
    "        insertafter=\"\\[chttpd\\]\"\n",
    "    )\n",
    "    p.systemd(\n",
    "        name=\"couchdb\",\n",
    "        state=\"restarted\"\n",
    "    )"
   ]
  },
  {
   "cell_type": "markdown",
   "id": "80be41f7-7db1-4b29-9546-492b02e72ac3",
   "metadata": {
    "tags": []
   },
   "source": [
    "# Reset CouchDB database"
   ]
  },
  {
   "cell_type": "code",
   "execution_count": 7,
   "id": "0ebcb680-4713-4ba5-9c00-9289c66ebbeb",
   "metadata": {
    "scrolled": true,
    "tags": []
   },
   "outputs": [],
   "source": [
    "if False:\n",
    "    with en.actions(roles=roles[\"cheops\"], gather_facts=False) as p:\n",
    "        p.uri(\n",
    "            task_name=\"delete database\",\n",
    "            url=\"http://localhost:5984/cheops\",\n",
    "            method=\"DELETE\",\n",
    "            user=\"admin\",\n",
    "            password=\"password\",\n",
    "            force_basic_auth=True,\n",
    "            ignore_errors=True\n",
    "        ) \n",
    "        p.uri(\n",
    "            task_name=\"create database\",\n",
    "            url=\"http://localhost:5984/cheops\",\n",
    "            method=\"PUT\",\n",
    "            user=\"admin\",\n",
    "            password=\"password\",\n",
    "            force_basic_auth=True,\n",
    "            status_code=[201,412]\n",
    "        )    \n",
    "        p.uri(\n",
    "            task_name=\"make database public\",\n",
    "            url=\"http://localhost:5984/cheops/_security\",\n",
    "            method=\"PUT\",\n",
    "            user=\"admin\",\n",
    "            password=\"password\",\n",
    "            force_basic_auth=True,\n",
    "            body=\"\"\"{\"members\":{\"roles\":[]},\"admins\":{\"roles\":[\"_admin\"]}}\"\"\"\n",
    "        )"
   ]
  },
  {
   "cell_type": "markdown",
   "id": "19f9ecef-3eae-41e3-98c2-9a453707078c",
   "metadata": {},
   "source": [
    "# Install kube"
   ]
  },
  {
   "cell_type": "code",
   "execution_count": 8,
   "id": "d8566b68-b255-4cb2-b942-bd11f6a24acd",
   "metadata": {},
   "outputs": [
    {
     "data": {
      "application/vnd.jupyter.widget-view+json": {
       "model_id": "",
       "version_major": 2,
       "version_minor": 0
      },
      "text/plain": [
       "Output()"
      ]
     },
     "metadata": {},
     "output_type": "display_data"
    },
    {
     "data": {
      "text/html": [
       "<pre style=\"white-space:pre;overflow-x:auto;line-height:normal;font-family:Menlo,'DejaVu Sans Mono',consolas,'Courier New',monospace\"></pre>\n"
      ],
      "text/plain": []
     },
     "metadata": {},
     "output_type": "display_data"
    },
    {
     "data": {
      "text/html": [
       "<pre style=\"white-space:pre;overflow-x:auto;line-height:normal;font-family:Menlo,'DejaVu Sans Mono',consolas,'Courier New',monospace\"><span style=\"color: #000080; text-decoration-color: #000080; font-weight: bold\">Finished </span><span style=\"color: #000080; text-decoration-color: #000080; font-weight: bold\">10</span><span style=\"color: #000080; text-decoration-color: #000080; font-weight: bold\"> tasks</span> <span style=\"font-weight: bold; font-style: italic\">(</span><span style=\"font-style: italic\">Gather </span>\n",
       "<span style=\"font-style: italic\">facts,apt,apt_key,apt_repository,copy,systemd,shell,command,file,lineinfile</span><span style=\"font-weight: bold; font-style: italic\">)</span> on \n",
       "<span style=\"font-weight: bold\">{</span><span style=\"color: #008000; text-decoration-color: #008000\">'dahu-28.grenoble.grid5000.fr'</span>, <span style=\"color: #008000; text-decoration-color: #008000\">'dahu-32.grenoble.grid5000.fr'</span>, \n",
       "<span style=\"color: #008000; text-decoration-color: #008000\">'dahu-8.grenoble.grid5000.fr'</span>, <span style=\"color: #008000; text-decoration-color: #008000\">'dahu-3.grenoble.grid5000.fr'</span><span style=\"font-weight: bold\">}</span>\n",
       "</pre>\n"
      ],
      "text/plain": [
       "\u001b[1;34mFinished \u001b[0m\u001b[1;34m10\u001b[0m\u001b[1;34m tasks\u001b[0m \u001b[1;3m(\u001b[0m\u001b[3mGather \u001b[0m\n",
       "\u001b[3mfacts,apt,apt_key,apt_repository,copy,systemd,shell,command,file,lineinfile\u001b[0m\u001b[1;3m)\u001b[0m on \n",
       "\u001b[1m{\u001b[0m\u001b[32m'dahu-28.grenoble.grid5000.fr'\u001b[0m, \u001b[32m'dahu-32.grenoble.grid5000.fr'\u001b[0m, \n",
       "\u001b[32m'dahu-8.grenoble.grid5000.fr'\u001b[0m, \u001b[32m'dahu-3.grenoble.grid5000.fr'\u001b[0m\u001b[1m}\u001b[0m\n"
      ]
     },
     "metadata": {},
     "output_type": "display_data"
    },
    {
     "data": {
      "text/html": [
       "<pre style=\"white-space:pre;overflow-x:auto;line-height:normal;font-family:Menlo,'DejaVu Sans Mono',consolas,'Courier New',monospace\"><span style=\"color: #00ff00; text-decoration-color: #00ff00\">─────────────────────────────────────────────────────────────────────────────────────────────</span>\n",
       "</pre>\n"
      ],
      "text/plain": [
       "\u001b[92m─────────────────────────────────────────────────────────────────────────────────────────────\u001b[0m\n"
      ]
     },
     "metadata": {},
     "output_type": "display_data"
    }
   ],
   "source": [
    "with en.actions(roles=roles[\"cheops\"], gather_facts=True) as p:\n",
    "    p.apt(\n",
    "        update_cache=True,\n",
    "        pkg=[\"apt-transport-https\", \"ca-certificates\", \"curl\", \"gnupg\", \"lsb-release\"]\n",
    "    )\n",
    "\n",
    "    # docker\n",
    "    p.apt_key(\n",
    "        url=\"https://download.docker.com/linux/debian/gpg\"\n",
    "    )\n",
    "    p.apt_repository(\n",
    "        repo=\"deb https://download.docker.com/linux/debian {{ ansible_distribution_release }} stable\",\n",
    "        update_cache=True\n",
    "    )    \n",
    "    p.apt(\n",
    "        pkg=[\"docker-ce\", \"docker-ce-cli\", \"containerd.io\"]\n",
    "    )\n",
    "    p.copy(\n",
    "        dest=\"/etc/docker/daemon.json\",\n",
    "        content=\"\"\"\n",
    "        {\n",
    "          \"exec-opts\": [\"native.cgroupdriver=systemd\"],\n",
    "          \"log-driver\": \"json-file\",\n",
    "          \"log-opts\": {\n",
    "          \"max-size\": \"100m\"\n",
    "          },\n",
    "          \"storage-driver\": \"overlay2\"\n",
    "        }\n",
    "        \"\"\"\n",
    "    )\n",
    "    p.systemd(\n",
    "        daemon_reload=True,\n",
    "        name=\"docker\",\n",
    "        state=\"started\"\n",
    "    )\n",
    "\n",
    "    # kubernetes\n",
    "    p.copy(\n",
    "        dest=\"/etc/modules-load.d/k8s.conf\",\n",
    "        content=\"br_netfilter\"\n",
    "    )\n",
    "    p.copy(\n",
    "        dest=\"/etc/sysctl.d/k8s.conf\",\n",
    "        content=\"\"\"\n",
    "        net.bridge.bridge-nf-call-ip6tables = 1\n",
    "        net.bridge.bridge-nf-call-iptables = 1\n",
    "        \"\"\"\n",
    "    )\n",
    "    p.shell(\n",
    "        cmd=\"sysctl --system\"\n",
    "    )\n",
    "    p.apt_key(\n",
    "        url=\"https://packages.cloud.google.com/apt/doc/apt-key.gpg\"\n",
    "    )\n",
    "    p.apt_repository(\n",
    "        repo=\"deb https://apt.kubernetes.io/ kubernetes-xenial main\",\n",
    "        update_cache=True\n",
    "    )\n",
    "    p.apt(\n",
    "        pkg=[\"kubelet=1.21.12-00\", \"kubeadm=1.21.12-00\", \"kubectl=1.21.12-00\", \"mount\"]\n",
    "    )\n",
    "    p.command(\n",
    "        cmd=\"apt-mark hold kubelet kubeadm kubectl\"\n",
    "    )\n",
    "    p.command(\n",
    "        cmd=\"swapoff -a\"\n",
    "    )\n",
    "    p.shell(\n",
    "        cmd=\"kubeadm init --pod-network-cidr=10.244.0.0/16\"\n",
    "    )    \n",
    "    p.file(\n",
    "        path=\"{{ ansible_user_dir }}/.kube\",\n",
    "        state=\"directory\"\n",
    "    )\n",
    "    p.copy(\n",
    "        src=\"/etc/kubernetes/admin.conf\",\n",
    "        remote_src=True,\n",
    "        dest=\"{{ ansible_user_dir }}/.kube/config\"\n",
    "    )\n",
    "    p.copy(\n",
    "        src=\"{{ ansible_user_dir }}/.kube/config\",\n",
    "        remote_src=True,\n",
    "        dest=\"{{ ansible_user_dir }}/.kube/config.proxified\"\n",
    "    )\n",
    "    p.lineinfile(\n",
    "        regexp=\".*server:.*\",\n",
    "        line=\"    server: http://127.0.0.1:8079\",\n",
    "        path=\"{{ ansible_user_dir }}/.kube/config.proxified\"\n",
    "    )"
   ]
  },
  {
   "cell_type": "markdown",
   "id": "7dd7263f-3968-45d9-8112-7b543121587b",
   "metadata": {},
   "source": [
    "## Run kube fresh"
   ]
  },
  {
   "cell_type": "code",
   "execution_count": 9,
   "id": "17edb766-6f0a-4c5e-a673-3eb64ed9f886",
   "metadata": {},
   "outputs": [
    {
     "data": {
      "application/vnd.jupyter.widget-view+json": {
       "model_id": "",
       "version_major": 2,
       "version_minor": 0
      },
      "text/plain": [
       "Output()"
      ]
     },
     "metadata": {},
     "output_type": "display_data"
    },
    {
     "data": {
      "text/html": [
       "<pre style=\"white-space:pre;overflow-x:auto;line-height:normal;font-family:Menlo,'DejaVu Sans Mono',consolas,'Courier New',monospace\"></pre>\n"
      ],
      "text/plain": []
     },
     "metadata": {},
     "output_type": "display_data"
    },
    {
     "data": {
      "text/html": [
       "<pre style=\"white-space:pre;overflow-x:auto;line-height:normal;font-family:Menlo,'DejaVu Sans Mono',consolas,'Courier New',monospace\"><span style=\"color: #000080; text-decoration-color: #000080; font-weight: bold\">Finished </span><span style=\"color: #000080; text-decoration-color: #000080; font-weight: bold\">1</span><span style=\"color: #000080; text-decoration-color: #000080; font-weight: bold\"> tasks</span> <span style=\"font-weight: bold; font-style: italic\">(</span><span style=\"font-style: italic\">shell</span><span style=\"font-weight: bold; font-style: italic\">)</span> on <span style=\"font-weight: bold\">{</span><span style=\"color: #008000; text-decoration-color: #008000\">'dahu-28.grenoble.grid5000.fr'</span>, <span style=\"color: #008000; text-decoration-color: #008000\">'dahu-32.grenoble.grid5000.fr'</span>, \n",
       "<span style=\"color: #008000; text-decoration-color: #008000\">'dahu-8.grenoble.grid5000.fr'</span>, <span style=\"color: #008000; text-decoration-color: #008000\">'dahu-3.grenoble.grid5000.fr'</span><span style=\"font-weight: bold\">}</span>\n",
       "</pre>\n"
      ],
      "text/plain": [
       "\u001b[1;34mFinished \u001b[0m\u001b[1;34m1\u001b[0m\u001b[1;34m tasks\u001b[0m \u001b[1;3m(\u001b[0m\u001b[3mshell\u001b[0m\u001b[1;3m)\u001b[0m on \u001b[1m{\u001b[0m\u001b[32m'dahu-28.grenoble.grid5000.fr'\u001b[0m, \u001b[32m'dahu-32.grenoble.grid5000.fr'\u001b[0m, \n",
       "\u001b[32m'dahu-8.grenoble.grid5000.fr'\u001b[0m, \u001b[32m'dahu-3.grenoble.grid5000.fr'\u001b[0m\u001b[1m}\u001b[0m\n"
      ]
     },
     "metadata": {},
     "output_type": "display_data"
    },
    {
     "data": {
      "text/html": [
       "<pre style=\"white-space:pre;overflow-x:auto;line-height:normal;font-family:Menlo,'DejaVu Sans Mono',consolas,'Courier New',monospace\"><span style=\"color: #00ff00; text-decoration-color: #00ff00\">─────────────────────────────────────────────────────────────────────────────────────────────</span>\n",
       "</pre>\n"
      ],
      "text/plain": [
       "\u001b[92m─────────────────────────────────────────────────────────────────────────────────────────────\u001b[0m\n"
      ]
     },
     "metadata": {},
     "output_type": "display_data"
    }
   ],
   "source": [
    "with en.actions(roles=roles[\"cheops\"]) as p:\n",
    "    p.shell(\n",
    "        cmd=\"ss -ltnp | grep kubelet || kubeadm init --pod-network-cidr=10.244.0.0/16\"\n",
    "    )\n",
    "    p.shell(\n",
    "        cmd=\"kubectl delete all --all\"\n",
    "    )"
   ]
  },
  {
   "cell_type": "markdown",
   "id": "3f1b2be2-ff9f-4671-9475-0bfe89ef40e2",
   "metadata": {},
   "source": [
    "# Get und run Cheops"
   ]
  },
  {
   "cell_type": "code",
   "execution_count": 15,
   "id": "9b4a864f-94ed-4a1d-b0a2-2fe971bbb416",
   "metadata": {},
   "outputs": [
    {
     "data": {
      "application/vnd.jupyter.widget-view+json": {
       "model_id": "",
       "version_major": 2,
       "version_minor": 0
      },
      "text/plain": [
       "Output()"
      ]
     },
     "metadata": {},
     "output_type": "display_data"
    },
    {
     "data": {
      "text/html": [
       "<pre style=\"white-space:pre;overflow-x:auto;line-height:normal;font-family:Menlo,'DejaVu Sans Mono',consolas,'Courier New',monospace\"></pre>\n"
      ],
      "text/plain": []
     },
     "metadata": {},
     "output_type": "display_data"
    },
    {
     "data": {
      "text/html": [
       "<pre style=\"white-space:pre;overflow-x:auto;line-height:normal;font-family:Menlo,'DejaVu Sans Mono',consolas,'Courier New',monospace\"><span style=\"color: #000080; text-decoration-color: #000080; font-weight: bold\">Finished </span><span style=\"color: #000080; text-decoration-color: #000080; font-weight: bold\">4</span><span style=\"color: #000080; text-decoration-color: #000080; font-weight: bold\"> tasks</span> <span style=\"font-weight: bold; font-style: italic\">(</span><span style=\"font-style: italic\">Gather facts,apt,git,shell</span><span style=\"font-weight: bold; font-style: italic\">)</span> on <span style=\"font-weight: bold\">{</span><span style=\"color: #008000; text-decoration-color: #008000\">'dahu-28.grenoble.grid5000.fr'</span>, \n",
       "<span style=\"color: #008000; text-decoration-color: #008000\">'dahu-32.grenoble.grid5000.fr'</span>, <span style=\"color: #008000; text-decoration-color: #008000\">'dahu-8.grenoble.grid5000.fr'</span>, <span style=\"color: #008000; text-decoration-color: #008000\">'dahu-3.grenoble.grid5000.fr'</span><span style=\"font-weight: bold\">}</span>\n",
       "</pre>\n"
      ],
      "text/plain": [
       "\u001b[1;34mFinished \u001b[0m\u001b[1;34m4\u001b[0m\u001b[1;34m tasks\u001b[0m \u001b[1;3m(\u001b[0m\u001b[3mGather facts,apt,git,shell\u001b[0m\u001b[1;3m)\u001b[0m on \u001b[1m{\u001b[0m\u001b[32m'dahu-28.grenoble.grid5000.fr'\u001b[0m, \n",
       "\u001b[32m'dahu-32.grenoble.grid5000.fr'\u001b[0m, \u001b[32m'dahu-8.grenoble.grid5000.fr'\u001b[0m, \u001b[32m'dahu-3.grenoble.grid5000.fr'\u001b[0m\u001b[1m}\u001b[0m\n"
      ]
     },
     "metadata": {},
     "output_type": "display_data"
    },
    {
     "data": {
      "text/html": [
       "<pre style=\"white-space:pre;overflow-x:auto;line-height:normal;font-family:Menlo,'DejaVu Sans Mono',consolas,'Courier New',monospace\"><span style=\"color: #00ff00; text-decoration-color: #00ff00\">─────────────────────────────────────────────────────────────────────────────────────────────</span>\n",
       "</pre>\n"
      ],
      "text/plain": [
       "\u001b[92m─────────────────────────────────────────────────────────────────────────────────────────────\u001b[0m\n"
      ]
     },
     "metadata": {},
     "output_type": "display_data"
    }
   ],
   "source": [
    "with en.actions(roles=roles[\"cheops\"], gather_facts=True) as p:\n",
    "    p.apt(\n",
    "        pkg=\"golang-1.19\"\n",
    "    )\n",
    "    p.git(\n",
    "        repo=\"https://gitlab.inria.fr/discovery/cheops.git\",\n",
    "        dest=\"/tmp/cheops\",\n",
    "        version=\"matthieu\",\n",
    "        force=True,\n",
    "    )\n",
    "    p.shell(\n",
    "        cmd=\"go build\",\n",
    "        chdir=\"/tmp/cheops\",\n",
    "        environment={\"PATH\": \"/usr/lib/go-1.19/bin: {{ ansible_env.PATH }}\"}\n",
    "    )\n",
    "    p.shell(\n",
    "        cmd=\"rm /tmp/cheops/cheops.log; killall cheops.com 2> /dev/null\",\n",
    "        ignore_errors=True\n",
    "    )\n",
    "\n",
    "    # Clean kube\n",
    "    p.shell(\n",
    "        cmd=\"kubectl delete all --all\"\n",
    "    )\n",
    "\n",
    "    # Let's go\n",
    "    p.shell(\n",
    "        cmd=f\"\"\"\n",
    "        MYFQDN={{{{ ansible_fqdn }}}} \\\n",
    "        /tmp/cheops/cheops.com 2> /tmp/cheops/cheops.log\n",
    "        \"\"\",\n",
    "        chdir=\"/tmp/cheops\", \n",
    "        background=True\n",
    "    )"
   ]
  }
 ],
 "metadata": {
  "kernelspec": {
   "display_name": "enoslib_jupyter",
   "language": "python",
   "name": "enoslib_jupyter"
  },
  "language_info": {
   "codemirror_mode": {
    "name": "ipython",
    "version": 3
   },
   "file_extension": ".py",
   "mimetype": "text/x-python",
   "name": "python",
   "nbconvert_exporter": "python",
   "pygments_lexer": "ipython3",
   "version": "3.9.2"
  }
 },
 "nbformat": 4,
 "nbformat_minor": 5
}
